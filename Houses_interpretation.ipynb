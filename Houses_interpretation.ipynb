{
 "cells": [
  {
   "cell_type": "markdown",
   "id": "d868e9c9",
   "metadata": {},
   "source": [
    "# Feature analysis for King County sale prices, Pavel Narnov   \n",
    "#### This is modified work for peers from Data Analysis course from IBM Data Science specialization\n",
    "The dataset for the current lab contains house sale prices for King County, which includes Seattle. It includes homes sold between May 2014 and May 2015."
   ]
  },
  {
   "cell_type": "markdown",
   "id": "c3e9c730",
   "metadata": {},
   "source": [
    "| Variable      | Description                                                                                                 |\n",
    "| ------------- | ----------------------------------------------------------------------------------------------------------- |\n",
    "| id            | A notation for a house                                                                                      |\n",
    "| date          | Date house was sold                                                                                         |\n",
    "| price         | Price is prediction target                                                                                  |\n",
    "| bedrooms      | Number of bedrooms                                                                                          |\n",
    "| bathrooms     | Number of bathrooms                                                                                         |\n",
    "| sqft_living   | Square footage of the home                                                                                  |\n",
    "| sqft_lot      | Square footage of the lot                                                                                   |\n",
    "| floors        | Total floors (levels) in house                                                                              |\n",
    "| waterfront    | House which has a view to a waterfront                                                                      |\n",
    "| view          | Has been viewed                                                                                             |\n",
    "| condition     | How good the condition is overall                                                                           |\n",
    "| grade         | overall grade given to the housing unit, based on King County grading system                                |\n",
    "| sqft_above    | Square footage of house apart from basement                                                                 |\n",
    "| sqft_basement | Square footage of the basement                                                                              |\n",
    "| yr_built      | Built Year                                                                                                  |\n",
    "| yr_renovated  | Year when house was renovated                                                                               |\n",
    "| zipcode       | Zip code                                                                                                    |\n",
    "| lat           | Latitude coordinate                                                                                         |\n",
    "| long          | Longitude coordinate                                                                                        |\n",
    "| sqft_living15 | Living room area in 2015(implies-- some renovations) This might or might not have affected the lotsize area |\n",
    "| sqft_lot15    | LotSize area in 2015(implies-- some renovations)                                                            |\n"
   ]
  },
  {
   "cell_type": "markdown",
   "id": "7d66560c",
   "metadata": {},
   "source": [
    "### Plan of data exploration:\n",
    "0. Importing of libraries and dataset\n",
    "1. Data Cleaning\n",
    "2. Date formatting\n",
    "3. EDA\n",
    "4. Hypothesis testing\n",
    "5. Feature analysis with Linear Lasso regressions\n",
    "6. Conclusions"
   ]
  },
  {
   "cell_type": "markdown",
   "id": "0fc1b2f9",
   "metadata": {},
   "source": [
    "Firstly we are importing all necessary libraries and our dataset: "
   ]
  },
  {
   "cell_type": "code",
   "execution_count": 2,
   "id": "dee7fb94",
   "metadata": {},
   "outputs": [],
   "source": [
    "import pandas as pd\n",
    "import matplotlib.pyplot as plt\n",
    "import numpy as np\n",
    "import seaborn as sns\n",
    "%matplotlib inline\n",
    "\n",
    "from sklearn.preprocessing import PolynomialFeatures, StandardScaler, MinMaxScaler\n",
    "from sklearn.model_selection import train_test_split, cross_val_predict, cross_val_score, KFold\n",
    "from sklearn.linear_model import LinearRegression, Lasso\n",
    "from sklearn.metrics import r2_score, mean_squared_error\n",
    "from sklearn.pipeline import Pipeline\n",
    "from sklearn.model_selection import GridSearchCV\n",
    "from scipy.stats import boxcox\n",
    "from scipy.special import inv_boxcox"
   ]
  },
  {
   "cell_type": "code",
   "execution_count": 4,
   "id": "5f52c5af",
   "metadata": {
    "scrolled": true
   },
   "outputs": [
    {
     "data": {
      "text/html": [
       "<div>\n",
       "<style scoped>\n",
       "    .dataframe tbody tr th:only-of-type {\n",
       "        vertical-align: middle;\n",
       "    }\n",
       "\n",
       "    .dataframe tbody tr th {\n",
       "        vertical-align: top;\n",
       "    }\n",
       "\n",
       "    .dataframe thead th {\n",
       "        text-align: right;\n",
       "    }\n",
       "</style>\n",
       "<table border=\"1\" class=\"dataframe\">\n",
       "  <thead>\n",
       "    <tr style=\"text-align: right;\">\n",
       "      <th></th>\n",
       "      <th>Unnamed: 0</th>\n",
       "      <th>id</th>\n",
       "      <th>date</th>\n",
       "      <th>price</th>\n",
       "      <th>bedrooms</th>\n",
       "      <th>bathrooms</th>\n",
       "      <th>sqft_living</th>\n",
       "      <th>sqft_lot</th>\n",
       "      <th>floors</th>\n",
       "      <th>waterfront</th>\n",
       "      <th>...</th>\n",
       "      <th>grade</th>\n",
       "      <th>sqft_above</th>\n",
       "      <th>sqft_basement</th>\n",
       "      <th>yr_built</th>\n",
       "      <th>yr_renovated</th>\n",
       "      <th>zipcode</th>\n",
       "      <th>lat</th>\n",
       "      <th>long</th>\n",
       "      <th>sqft_living15</th>\n",
       "      <th>sqft_lot15</th>\n",
       "    </tr>\n",
       "  </thead>\n",
       "  <tbody>\n",
       "    <tr>\n",
       "      <th>0</th>\n",
       "      <td>0</td>\n",
       "      <td>7129300520</td>\n",
       "      <td>20141013T000000</td>\n",
       "      <td>221900.0</td>\n",
       "      <td>3.0</td>\n",
       "      <td>1.00</td>\n",
       "      <td>1180</td>\n",
       "      <td>5650</td>\n",
       "      <td>1.0</td>\n",
       "      <td>0</td>\n",
       "      <td>...</td>\n",
       "      <td>7</td>\n",
       "      <td>1180</td>\n",
       "      <td>0</td>\n",
       "      <td>1955</td>\n",
       "      <td>0</td>\n",
       "      <td>98178</td>\n",
       "      <td>47.5112</td>\n",
       "      <td>-122.257</td>\n",
       "      <td>1340</td>\n",
       "      <td>5650</td>\n",
       "    </tr>\n",
       "    <tr>\n",
       "      <th>1</th>\n",
       "      <td>1</td>\n",
       "      <td>6414100192</td>\n",
       "      <td>20141209T000000</td>\n",
       "      <td>538000.0</td>\n",
       "      <td>3.0</td>\n",
       "      <td>2.25</td>\n",
       "      <td>2570</td>\n",
       "      <td>7242</td>\n",
       "      <td>2.0</td>\n",
       "      <td>0</td>\n",
       "      <td>...</td>\n",
       "      <td>7</td>\n",
       "      <td>2170</td>\n",
       "      <td>400</td>\n",
       "      <td>1951</td>\n",
       "      <td>1991</td>\n",
       "      <td>98125</td>\n",
       "      <td>47.7210</td>\n",
       "      <td>-122.319</td>\n",
       "      <td>1690</td>\n",
       "      <td>7639</td>\n",
       "    </tr>\n",
       "    <tr>\n",
       "      <th>2</th>\n",
       "      <td>2</td>\n",
       "      <td>5631500400</td>\n",
       "      <td>20150225T000000</td>\n",
       "      <td>180000.0</td>\n",
       "      <td>2.0</td>\n",
       "      <td>1.00</td>\n",
       "      <td>770</td>\n",
       "      <td>10000</td>\n",
       "      <td>1.0</td>\n",
       "      <td>0</td>\n",
       "      <td>...</td>\n",
       "      <td>6</td>\n",
       "      <td>770</td>\n",
       "      <td>0</td>\n",
       "      <td>1933</td>\n",
       "      <td>0</td>\n",
       "      <td>98028</td>\n",
       "      <td>47.7379</td>\n",
       "      <td>-122.233</td>\n",
       "      <td>2720</td>\n",
       "      <td>8062</td>\n",
       "    </tr>\n",
       "    <tr>\n",
       "      <th>3</th>\n",
       "      <td>3</td>\n",
       "      <td>2487200875</td>\n",
       "      <td>20141209T000000</td>\n",
       "      <td>604000.0</td>\n",
       "      <td>4.0</td>\n",
       "      <td>3.00</td>\n",
       "      <td>1960</td>\n",
       "      <td>5000</td>\n",
       "      <td>1.0</td>\n",
       "      <td>0</td>\n",
       "      <td>...</td>\n",
       "      <td>7</td>\n",
       "      <td>1050</td>\n",
       "      <td>910</td>\n",
       "      <td>1965</td>\n",
       "      <td>0</td>\n",
       "      <td>98136</td>\n",
       "      <td>47.5208</td>\n",
       "      <td>-122.393</td>\n",
       "      <td>1360</td>\n",
       "      <td>5000</td>\n",
       "    </tr>\n",
       "    <tr>\n",
       "      <th>4</th>\n",
       "      <td>4</td>\n",
       "      <td>1954400510</td>\n",
       "      <td>20150218T000000</td>\n",
       "      <td>510000.0</td>\n",
       "      <td>3.0</td>\n",
       "      <td>2.00</td>\n",
       "      <td>1680</td>\n",
       "      <td>8080</td>\n",
       "      <td>1.0</td>\n",
       "      <td>0</td>\n",
       "      <td>...</td>\n",
       "      <td>8</td>\n",
       "      <td>1680</td>\n",
       "      <td>0</td>\n",
       "      <td>1987</td>\n",
       "      <td>0</td>\n",
       "      <td>98074</td>\n",
       "      <td>47.6168</td>\n",
       "      <td>-122.045</td>\n",
       "      <td>1800</td>\n",
       "      <td>7503</td>\n",
       "    </tr>\n",
       "  </tbody>\n",
       "</table>\n",
       "<p>5 rows × 22 columns</p>\n",
       "</div>"
      ],
      "text/plain": [
       "   Unnamed: 0          id             date     price  bedrooms  bathrooms  \\\n",
       "0           0  7129300520  20141013T000000  221900.0       3.0       1.00   \n",
       "1           1  6414100192  20141209T000000  538000.0       3.0       2.25   \n",
       "2           2  5631500400  20150225T000000  180000.0       2.0       1.00   \n",
       "3           3  2487200875  20141209T000000  604000.0       4.0       3.00   \n",
       "4           4  1954400510  20150218T000000  510000.0       3.0       2.00   \n",
       "\n",
       "   sqft_living  sqft_lot  floors  waterfront  ...  grade  sqft_above  \\\n",
       "0         1180      5650     1.0           0  ...      7        1180   \n",
       "1         2570      7242     2.0           0  ...      7        2170   \n",
       "2          770     10000     1.0           0  ...      6         770   \n",
       "3         1960      5000     1.0           0  ...      7        1050   \n",
       "4         1680      8080     1.0           0  ...      8        1680   \n",
       "\n",
       "   sqft_basement  yr_built  yr_renovated  zipcode      lat     long  \\\n",
       "0              0      1955             0    98178  47.5112 -122.257   \n",
       "1            400      1951          1991    98125  47.7210 -122.319   \n",
       "2              0      1933             0    98028  47.7379 -122.233   \n",
       "3            910      1965             0    98136  47.5208 -122.393   \n",
       "4              0      1987             0    98074  47.6168 -122.045   \n",
       "\n",
       "   sqft_living15  sqft_lot15  \n",
       "0           1340        5650  \n",
       "1           1690        7639  \n",
       "2           2720        8062  \n",
       "3           1360        5000  \n",
       "4           1800        7503  \n",
       "\n",
       "[5 rows x 22 columns]"
      ]
     },
     "execution_count": 4,
     "metadata": {},
     "output_type": "execute_result"
    }
   ],
   "source": [
    "file_name='https://cf-courses-data.s3.us.cloud-object-storage.appdomain.cloud/IBMDeveloperSkillsNetwork-DA0101EN-SkillsNetwork/labs/FinalModule_Coursera/data/kc_house_data_NaN.csv'\n",
    "df=pd.read_csv(file_name)\n",
    "df.head()"
   ]
  },
  {
   "cell_type": "markdown",
   "id": "9f1fa9eb",
   "metadata": {},
   "source": [
    "### 1. Data Cleaning"
   ]
  },
  {
   "cell_type": "markdown",
   "id": "802bfd80",
   "metadata": {},
   "source": [
    "Lets drop \"unnamed\" column and perform some EDA:"
   ]
  },
  {
   "cell_type": "code",
   "execution_count": 5,
   "id": "aecbea6c",
   "metadata": {},
   "outputs": [
    {
     "data": {
      "text/html": [
       "<div>\n",
       "<style scoped>\n",
       "    .dataframe tbody tr th:only-of-type {\n",
       "        vertical-align: middle;\n",
       "    }\n",
       "\n",
       "    .dataframe tbody tr th {\n",
       "        vertical-align: top;\n",
       "    }\n",
       "\n",
       "    .dataframe thead th {\n",
       "        text-align: right;\n",
       "    }\n",
       "</style>\n",
       "<table border=\"1\" class=\"dataframe\">\n",
       "  <thead>\n",
       "    <tr style=\"text-align: right;\">\n",
       "      <th></th>\n",
       "      <th>id</th>\n",
       "      <th>date</th>\n",
       "      <th>price</th>\n",
       "      <th>bedrooms</th>\n",
       "      <th>bathrooms</th>\n",
       "      <th>sqft_living</th>\n",
       "      <th>sqft_lot</th>\n",
       "      <th>floors</th>\n",
       "      <th>waterfront</th>\n",
       "      <th>view</th>\n",
       "      <th>...</th>\n",
       "      <th>grade</th>\n",
       "      <th>sqft_above</th>\n",
       "      <th>sqft_basement</th>\n",
       "      <th>yr_built</th>\n",
       "      <th>yr_renovated</th>\n",
       "      <th>zipcode</th>\n",
       "      <th>lat</th>\n",
       "      <th>long</th>\n",
       "      <th>sqft_living15</th>\n",
       "      <th>sqft_lot15</th>\n",
       "    </tr>\n",
       "  </thead>\n",
       "  <tbody>\n",
       "    <tr>\n",
       "      <th>0</th>\n",
       "      <td>7129300520</td>\n",
       "      <td>20141013T000000</td>\n",
       "      <td>221900.0</td>\n",
       "      <td>3.0</td>\n",
       "      <td>1.00</td>\n",
       "      <td>1180</td>\n",
       "      <td>5650</td>\n",
       "      <td>1.0</td>\n",
       "      <td>0</td>\n",
       "      <td>0</td>\n",
       "      <td>...</td>\n",
       "      <td>7</td>\n",
       "      <td>1180</td>\n",
       "      <td>0</td>\n",
       "      <td>1955</td>\n",
       "      <td>0</td>\n",
       "      <td>98178</td>\n",
       "      <td>47.5112</td>\n",
       "      <td>-122.257</td>\n",
       "      <td>1340</td>\n",
       "      <td>5650</td>\n",
       "    </tr>\n",
       "    <tr>\n",
       "      <th>1</th>\n",
       "      <td>6414100192</td>\n",
       "      <td>20141209T000000</td>\n",
       "      <td>538000.0</td>\n",
       "      <td>3.0</td>\n",
       "      <td>2.25</td>\n",
       "      <td>2570</td>\n",
       "      <td>7242</td>\n",
       "      <td>2.0</td>\n",
       "      <td>0</td>\n",
       "      <td>0</td>\n",
       "      <td>...</td>\n",
       "      <td>7</td>\n",
       "      <td>2170</td>\n",
       "      <td>400</td>\n",
       "      <td>1951</td>\n",
       "      <td>1991</td>\n",
       "      <td>98125</td>\n",
       "      <td>47.7210</td>\n",
       "      <td>-122.319</td>\n",
       "      <td>1690</td>\n",
       "      <td>7639</td>\n",
       "    </tr>\n",
       "    <tr>\n",
       "      <th>2</th>\n",
       "      <td>5631500400</td>\n",
       "      <td>20150225T000000</td>\n",
       "      <td>180000.0</td>\n",
       "      <td>2.0</td>\n",
       "      <td>1.00</td>\n",
       "      <td>770</td>\n",
       "      <td>10000</td>\n",
       "      <td>1.0</td>\n",
       "      <td>0</td>\n",
       "      <td>0</td>\n",
       "      <td>...</td>\n",
       "      <td>6</td>\n",
       "      <td>770</td>\n",
       "      <td>0</td>\n",
       "      <td>1933</td>\n",
       "      <td>0</td>\n",
       "      <td>98028</td>\n",
       "      <td>47.7379</td>\n",
       "      <td>-122.233</td>\n",
       "      <td>2720</td>\n",
       "      <td>8062</td>\n",
       "    </tr>\n",
       "    <tr>\n",
       "      <th>3</th>\n",
       "      <td>2487200875</td>\n",
       "      <td>20141209T000000</td>\n",
       "      <td>604000.0</td>\n",
       "      <td>4.0</td>\n",
       "      <td>3.00</td>\n",
       "      <td>1960</td>\n",
       "      <td>5000</td>\n",
       "      <td>1.0</td>\n",
       "      <td>0</td>\n",
       "      <td>0</td>\n",
       "      <td>...</td>\n",
       "      <td>7</td>\n",
       "      <td>1050</td>\n",
       "      <td>910</td>\n",
       "      <td>1965</td>\n",
       "      <td>0</td>\n",
       "      <td>98136</td>\n",
       "      <td>47.5208</td>\n",
       "      <td>-122.393</td>\n",
       "      <td>1360</td>\n",
       "      <td>5000</td>\n",
       "    </tr>\n",
       "    <tr>\n",
       "      <th>4</th>\n",
       "      <td>1954400510</td>\n",
       "      <td>20150218T000000</td>\n",
       "      <td>510000.0</td>\n",
       "      <td>3.0</td>\n",
       "      <td>2.00</td>\n",
       "      <td>1680</td>\n",
       "      <td>8080</td>\n",
       "      <td>1.0</td>\n",
       "      <td>0</td>\n",
       "      <td>0</td>\n",
       "      <td>...</td>\n",
       "      <td>8</td>\n",
       "      <td>1680</td>\n",
       "      <td>0</td>\n",
       "      <td>1987</td>\n",
       "      <td>0</td>\n",
       "      <td>98074</td>\n",
       "      <td>47.6168</td>\n",
       "      <td>-122.045</td>\n",
       "      <td>1800</td>\n",
       "      <td>7503</td>\n",
       "    </tr>\n",
       "  </tbody>\n",
       "</table>\n",
       "<p>5 rows × 21 columns</p>\n",
       "</div>"
      ],
      "text/plain": [
       "           id             date     price  bedrooms  bathrooms  sqft_living  \\\n",
       "0  7129300520  20141013T000000  221900.0       3.0       1.00         1180   \n",
       "1  6414100192  20141209T000000  538000.0       3.0       2.25         2570   \n",
       "2  5631500400  20150225T000000  180000.0       2.0       1.00          770   \n",
       "3  2487200875  20141209T000000  604000.0       4.0       3.00         1960   \n",
       "4  1954400510  20150218T000000  510000.0       3.0       2.00         1680   \n",
       "\n",
       "   sqft_lot  floors  waterfront  view  ...  grade  sqft_above  sqft_basement  \\\n",
       "0      5650     1.0           0     0  ...      7        1180              0   \n",
       "1      7242     2.0           0     0  ...      7        2170            400   \n",
       "2     10000     1.0           0     0  ...      6         770              0   \n",
       "3      5000     1.0           0     0  ...      7        1050            910   \n",
       "4      8080     1.0           0     0  ...      8        1680              0   \n",
       "\n",
       "   yr_built  yr_renovated  zipcode      lat     long  sqft_living15  \\\n",
       "0      1955             0    98178  47.5112 -122.257           1340   \n",
       "1      1951          1991    98125  47.7210 -122.319           1690   \n",
       "2      1933             0    98028  47.7379 -122.233           2720   \n",
       "3      1965             0    98136  47.5208 -122.393           1360   \n",
       "4      1987             0    98074  47.6168 -122.045           1800   \n",
       "\n",
       "   sqft_lot15  \n",
       "0        5650  \n",
       "1        7639  \n",
       "2        8062  \n",
       "3        5000  \n",
       "4        7503  \n",
       "\n",
       "[5 rows x 21 columns]"
      ]
     },
     "execution_count": 5,
     "metadata": {},
     "output_type": "execute_result"
    }
   ],
   "source": [
    "df.drop('Unnamed: 0', axis = 1, inplace = True)\n",
    "df.head()"
   ]
  },
  {
   "cell_type": "markdown",
   "id": "8502d41e",
   "metadata": {},
   "source": [
    "We see that we don't have any misleading column names now.\n",
    "Lets perform some EDA."
   ]
  },
  {
   "cell_type": "code",
   "execution_count": 6,
   "id": "5d2bd9b0",
   "metadata": {},
   "outputs": [
    {
     "name": "stdout",
     "output_type": "stream",
     "text": [
      "<class 'pandas.core.frame.DataFrame'>\n",
      "RangeIndex: 21613 entries, 0 to 21612\n",
      "Data columns (total 21 columns):\n",
      " #   Column         Non-Null Count  Dtype  \n",
      "---  ------         --------------  -----  \n",
      " 0   id             21613 non-null  int64  \n",
      " 1   date           21613 non-null  object \n",
      " 2   price          21613 non-null  float64\n",
      " 3   bedrooms       21600 non-null  float64\n",
      " 4   bathrooms      21603 non-null  float64\n",
      " 5   sqft_living    21613 non-null  int64  \n",
      " 6   sqft_lot       21613 non-null  int64  \n",
      " 7   floors         21613 non-null  float64\n",
      " 8   waterfront     21613 non-null  int64  \n",
      " 9   view           21613 non-null  int64  \n",
      " 10  condition      21613 non-null  int64  \n",
      " 11  grade          21613 non-null  int64  \n",
      " 12  sqft_above     21613 non-null  int64  \n",
      " 13  sqft_basement  21613 non-null  int64  \n",
      " 14  yr_built       21613 non-null  int64  \n",
      " 15  yr_renovated   21613 non-null  int64  \n",
      " 16  zipcode        21613 non-null  int64  \n",
      " 17  lat            21613 non-null  float64\n",
      " 18  long           21613 non-null  float64\n",
      " 19  sqft_living15  21613 non-null  int64  \n",
      " 20  sqft_lot15     21613 non-null  int64  \n",
      "dtypes: float64(6), int64(14), object(1)\n",
      "memory usage: 3.5+ MB\n"
     ]
    }
   ],
   "source": [
    "df.info()"
   ]
  },
  {
   "cell_type": "code",
   "execution_count": 7,
   "id": "a91d20b5",
   "metadata": {},
   "outputs": [
    {
     "data": {
      "text/plain": [
       "id                0\n",
       "date              0\n",
       "price             0\n",
       "bedrooms         13\n",
       "bathrooms        10\n",
       "sqft_living       0\n",
       "sqft_lot          0\n",
       "floors            0\n",
       "waterfront        0\n",
       "view              0\n",
       "condition         0\n",
       "grade             0\n",
       "sqft_above        0\n",
       "sqft_basement     0\n",
       "yr_built          0\n",
       "yr_renovated      0\n",
       "zipcode           0\n",
       "lat               0\n",
       "long              0\n",
       "sqft_living15     0\n",
       "sqft_lot15        0\n",
       "dtype: int64"
      ]
     },
     "execution_count": 7,
     "metadata": {},
     "output_type": "execute_result"
    }
   ],
   "source": [
    "df.isnull().sum()"
   ]
  },
  {
   "cell_type": "markdown",
   "id": "276d586d",
   "metadata": {},
   "source": [
    "We see that we have 'id' parameter which may be dropped and we have 2 variables with Null values (bedrooms and bathrooms) lets analize them before performing any actions:"
   ]
  },
  {
   "cell_type": "code",
   "execution_count": 8,
   "id": "989424e0",
   "metadata": {},
   "outputs": [],
   "source": [
    "df.drop('id', axis = 1, inplace = True)"
   ]
  },
  {
   "cell_type": "code",
   "execution_count": 9,
   "id": "433c1d5c",
   "metadata": {},
   "outputs": [
    {
     "data": {
      "text/plain": [
       "3.0     9824\n",
       "4.0     6882\n",
       "2.0     2760\n",
       "5.0     1601\n",
       "6.0      272\n",
       "1.0      199\n",
       "7.0       38\n",
       "8.0       13\n",
       "9.0        6\n",
       "10.0       3\n",
       "11.0       1\n",
       "33.0       1\n",
       "Name: bedrooms, dtype: int64"
      ]
     },
     "execution_count": 9,
     "metadata": {},
     "output_type": "execute_result"
    }
   ],
   "source": [
    "df.bedrooms.value_counts()"
   ]
  },
  {
   "cell_type": "code",
   "execution_count": 10,
   "id": "4eaf4e9d",
   "metadata": {},
   "outputs": [
    {
     "data": {
      "image/png": "[encoded data removed]",
      "text/plain": [
       "<Figure size 720x432 with 1 Axes>"
      ]
     },
     "metadata": {
      "needs_background": "light"
     },
     "output_type": "display_data"
    }
   ],
   "source": [
    "plt.figure(figsize = (10,6))\n",
    "sns.boxplot(x = df.bedrooms)\n",
    "plt.show()"
   ]
  },
  {
   "cell_type": "markdown",
   "id": "139dc394",
   "metadata": {},
   "source": [
    "Value analysis and the boxplot shows us all the values greater then 5 are outliers, due to the fact that we have so many outliers with so high varience it is better to replace Null values for bedrooms with the median value."
   ]
  },
  {
   "cell_type": "code",
   "execution_count": 11,
   "id": "c37e09de",
   "metadata": {},
   "outputs": [
    {
     "name": "stdout",
     "output_type": "stream",
     "text": [
      "Rounded mean value for number of bedrooms in house: 3.4\n",
      "Median value for number of bedrooms in house: 3.0\n"
     ]
    }
   ],
   "source": [
    "print('Rounded mean value for number of bedrooms in house:', round(df.bedrooms.mean(),1))\n",
    "print('Median value for number of bedrooms in house:', df.bedrooms.median())"
   ]
  },
  {
   "cell_type": "markdown",
   "id": "532357a7",
   "metadata": {},
   "source": [
    "Comparing of mean and median parameters for bedrooms doesn't show a huge difference but we should understand that we are unnable to have a flat with 3.4 bedrooms so we choose median value for this variable."
   ]
  },
  {
   "cell_type": "code",
   "execution_count": 12,
   "id": "5417d082",
   "metadata": {},
   "outputs": [
    {
     "data": {
      "text/plain": [
       "0"
      ]
     },
     "execution_count": 12,
     "metadata": {},
     "output_type": "execute_result"
    }
   ],
   "source": [
    "med_bed = df.bedrooms.median()\n",
    "df['bedrooms'].replace(np.nan, med_bed, inplace = True)\n",
    "df.bedrooms.isnull().sum()"
   ]
  },
  {
   "cell_type": "code",
   "execution_count": 13,
   "id": "832ccbf1",
   "metadata": {},
   "outputs": [
    {
     "data": {
      "text/plain": [
       "array([1.  , 2.25, 3.  , 2.  , 4.5 , 1.5 , 2.5 , 1.75, 2.75, 3.25, 4.  ,\n",
       "       3.5 , 0.75, 4.75, 5.  , 4.25, 3.75,  nan, 1.25, 5.25, 6.  , 0.5 ,\n",
       "       5.5 , 6.75, 5.75, 8.  , 7.5 , 7.75, 6.25, 6.5 ])"
      ]
     },
     "execution_count": 13,
     "metadata": {},
     "output_type": "execute_result"
    }
   ],
   "source": [
    "df.bathrooms.unique()"
   ]
  },
  {
   "cell_type": "code",
   "execution_count": 14,
   "id": "59b5a33d",
   "metadata": {},
   "outputs": [
    {
     "data": {
      "text/plain": [
       "count    21603.000000\n",
       "mean         2.115736\n",
       "std          0.768996\n",
       "min          0.500000\n",
       "25%          1.750000\n",
       "50%          2.250000\n",
       "75%          2.500000\n",
       "max          8.000000\n",
       "Name: bathrooms, dtype: float64"
      ]
     },
     "execution_count": 14,
     "metadata": {},
     "output_type": "execute_result"
    }
   ],
   "source": [
    "df.bathrooms.describe()"
   ]
  },
  {
   "cell_type": "code",
   "execution_count": 15,
   "id": "573545d5",
   "metadata": {},
   "outputs": [
    {
     "data": {
      "image/png": "[encoded data removed]",
      "text/plain": [
       "<Figure size 720x432 with 1 Axes>"
      ]
     },
     "metadata": {
      "needs_background": "light"
     },
     "output_type": "display_data"
    }
   ],
   "source": [
    "plt.figure(figsize = (10,6))\n",
    "sns.boxplot(x = df.bathrooms, color = 'lightblue')\n",
    "plt.show()"
   ]
  },
  {
   "cell_type": "code",
   "execution_count": 16,
   "id": "db98cf48",
   "metadata": {},
   "outputs": [
    {
     "name": "stdout",
     "output_type": "stream",
     "text": [
      "Mean value for number of bathrooms in house: 2.12\n",
      "Median value for number of bathrooms in house: 2.25\n"
     ]
    }
   ],
   "source": [
    "print('Mean value for number of bathrooms in house:', round(df.bathrooms.mean(),2))\n",
    "print('Median value for number of bathrooms in house:', df.bathrooms.median())"
   ]
  },
  {
   "cell_type": "markdown",
   "id": "4009fc34",
   "metadata": {},
   "source": [
    "Here we also will use median value for bathrooms"
   ]
  },
  {
   "cell_type": "code",
   "execution_count": 17,
   "id": "1bb60ddc",
   "metadata": {},
   "outputs": [
    {
     "data": {
      "text/plain": [
       "0"
      ]
     },
     "execution_count": 17,
     "metadata": {},
     "output_type": "execute_result"
    }
   ],
   "source": [
    "med_bath = df.bathrooms.median()\n",
    "df['bathrooms'].replace(np.nan, med_bath, inplace = True)\n",
    "df.bathrooms.isnull().sum()"
   ]
  },
  {
   "cell_type": "markdown",
   "id": "ad625f8d",
   "metadata": {},
   "source": [
    "Final checking of null values:"
   ]
  },
  {
   "cell_type": "code",
   "execution_count": 18,
   "id": "a82d6433",
   "metadata": {},
   "outputs": [
    {
     "data": {
      "text/plain": [
       "date             0\n",
       "price            0\n",
       "bedrooms         0\n",
       "bathrooms        0\n",
       "sqft_living      0\n",
       "sqft_lot         0\n",
       "floors           0\n",
       "waterfront       0\n",
       "view             0\n",
       "condition        0\n",
       "grade            0\n",
       "sqft_above       0\n",
       "sqft_basement    0\n",
       "yr_built         0\n",
       "yr_renovated     0\n",
       "zipcode          0\n",
       "lat              0\n",
       "long             0\n",
       "sqft_living15    0\n",
       "sqft_lot15       0\n",
       "dtype: int64"
      ]
     },
     "execution_count": 18,
     "metadata": {},
     "output_type": "execute_result"
    }
   ],
   "source": [
    "df.isnull().sum()"
   ]
  },
  {
   "cell_type": "markdown",
   "id": "87922b38",
   "metadata": {},
   "source": [
    "So we don't have null values after replacing.\n",
    "Lets go futher"
   ]
  },
  {
   "cell_type": "markdown",
   "id": "8084959e",
   "metadata": {},
   "source": [
    "### 2. Date formatting:"
   ]
  },
  {
   "cell_type": "markdown",
   "id": "77af9af1",
   "metadata": {},
   "source": [
    "We have our date in improper format. Lets transform it and receive additional columns: year, month, day of month, day of week"
   ]
  },
  {
   "cell_type": "code",
   "execution_count": 19,
   "id": "0fce9110",
   "metadata": {},
   "outputs": [
    {
     "data": {
      "text/plain": [
       "0    20141013T000000\n",
       "1    20141209T000000\n",
       "2    20150225T000000\n",
       "3    20141209T000000\n",
       "4    20150218T000000\n",
       "5    20140512T000000\n",
       "6    20140627T000000\n",
       "7    20150115T000000\n",
       "8    20150415T000000\n",
       "9    20150312T000000\n",
       "Name: date, dtype: object"
      ]
     },
     "execution_count": 19,
     "metadata": {},
     "output_type": "execute_result"
    }
   ],
   "source": [
    "df.date.head(10)"
   ]
  },
  {
   "cell_type": "markdown",
   "id": "1fbb0d05",
   "metadata": {},
   "source": [
    "We see that we have improper date format for data analysis. Lets fix it!"
   ]
  },
  {
   "cell_type": "code",
   "execution_count": 20,
   "id": "fd1e751e",
   "metadata": {
    "scrolled": true
   },
   "outputs": [
    {
     "data": {
      "text/html": [
       "<div>\n",
       "<style scoped>\n",
       "    .dataframe tbody tr th:only-of-type {\n",
       "        vertical-align: middle;\n",
       "    }\n",
       "\n",
       "    .dataframe tbody tr th {\n",
       "        vertical-align: top;\n",
       "    }\n",
       "\n",
       "    .dataframe thead th {\n",
       "        text-align: right;\n",
       "    }\n",
       "</style>\n",
       "<table border=\"1\" class=\"dataframe\">\n",
       "  <thead>\n",
       "    <tr style=\"text-align: right;\">\n",
       "      <th></th>\n",
       "      <th>date</th>\n",
       "      <th>price</th>\n",
       "      <th>bedrooms</th>\n",
       "      <th>bathrooms</th>\n",
       "      <th>sqft_living</th>\n",
       "      <th>sqft_lot</th>\n",
       "      <th>floors</th>\n",
       "      <th>waterfront</th>\n",
       "      <th>view</th>\n",
       "      <th>condition</th>\n",
       "      <th>grade</th>\n",
       "      <th>sqft_above</th>\n",
       "      <th>sqft_basement</th>\n",
       "      <th>yr_built</th>\n",
       "      <th>yr_renovated</th>\n",
       "      <th>zipcode</th>\n",
       "      <th>lat</th>\n",
       "      <th>long</th>\n",
       "      <th>sqft_living15</th>\n",
       "      <th>sqft_lot15</th>\n",
       "    </tr>\n",
       "  </thead>\n",
       "  <tbody>\n",
       "    <tr>\n",
       "      <th>0</th>\n",
       "      <td>2014-10-13</td>\n",
       "      <td>221900.0</td>\n",
       "      <td>3.0</td>\n",
       "      <td>1.00</td>\n",
       "      <td>1180</td>\n",
       "      <td>5650</td>\n",
       "      <td>1.0</td>\n",
       "      <td>0</td>\n",
       "      <td>0</td>\n",
       "      <td>3</td>\n",
       "      <td>7</td>\n",
       "      <td>1180</td>\n",
       "      <td>0</td>\n",
       "      <td>1955</td>\n",
       "      <td>0</td>\n",
       "      <td>98178</td>\n",
       "      <td>47.5112</td>\n",
       "      <td>-122.257</td>\n",
       "      <td>1340</td>\n",
       "      <td>5650</td>\n",
       "    </tr>\n",
       "    <tr>\n",
       "      <th>1</th>\n",
       "      <td>2014-12-09</td>\n",
       "      <td>538000.0</td>\n",
       "      <td>3.0</td>\n",
       "      <td>2.25</td>\n",
       "      <td>2570</td>\n",
       "      <td>7242</td>\n",
       "      <td>2.0</td>\n",
       "      <td>0</td>\n",
       "      <td>0</td>\n",
       "      <td>3</td>\n",
       "      <td>7</td>\n",
       "      <td>2170</td>\n",
       "      <td>400</td>\n",
       "      <td>1951</td>\n",
       "      <td>1991</td>\n",
       "      <td>98125</td>\n",
       "      <td>47.7210</td>\n",
       "      <td>-122.319</td>\n",
       "      <td>1690</td>\n",
       "      <td>7639</td>\n",
       "    </tr>\n",
       "    <tr>\n",
       "      <th>2</th>\n",
       "      <td>2015-02-25</td>\n",
       "      <td>180000.0</td>\n",
       "      <td>2.0</td>\n",
       "      <td>1.00</td>\n",
       "      <td>770</td>\n",
       "      <td>10000</td>\n",
       "      <td>1.0</td>\n",
       "      <td>0</td>\n",
       "      <td>0</td>\n",
       "      <td>3</td>\n",
       "      <td>6</td>\n",
       "      <td>770</td>\n",
       "      <td>0</td>\n",
       "      <td>1933</td>\n",
       "      <td>0</td>\n",
       "      <td>98028</td>\n",
       "      <td>47.7379</td>\n",
       "      <td>-122.233</td>\n",
       "      <td>2720</td>\n",
       "      <td>8062</td>\n",
       "    </tr>\n",
       "    <tr>\n",
       "      <th>3</th>\n",
       "      <td>2014-12-09</td>\n",
       "      <td>604000.0</td>\n",
       "      <td>4.0</td>\n",
       "      <td>3.00</td>\n",
       "      <td>1960</td>\n",
       "      <td>5000</td>\n",
       "      <td>1.0</td>\n",
       "      <td>0</td>\n",
       "      <td>0</td>\n",
       "      <td>5</td>\n",
       "      <td>7</td>\n",
       "      <td>1050</td>\n",
       "      <td>910</td>\n",
       "      <td>1965</td>\n",
       "      <td>0</td>\n",
       "      <td>98136</td>\n",
       "      <td>47.5208</td>\n",
       "      <td>-122.393</td>\n",
       "      <td>1360</td>\n",
       "      <td>5000</td>\n",
       "    </tr>\n",
       "    <tr>\n",
       "      <th>4</th>\n",
       "      <td>2015-02-18</td>\n",
       "      <td>510000.0</td>\n",
       "      <td>3.0</td>\n",
       "      <td>2.00</td>\n",
       "      <td>1680</td>\n",
       "      <td>8080</td>\n",
       "      <td>1.0</td>\n",
       "      <td>0</td>\n",
       "      <td>0</td>\n",
       "      <td>3</td>\n",
       "      <td>8</td>\n",
       "      <td>1680</td>\n",
       "      <td>0</td>\n",
       "      <td>1987</td>\n",
       "      <td>0</td>\n",
       "      <td>98074</td>\n",
       "      <td>47.6168</td>\n",
       "      <td>-122.045</td>\n",
       "      <td>1800</td>\n",
       "      <td>7503</td>\n",
       "    </tr>\n",
       "  </tbody>\n",
       "</table>\n",
       "</div>"
      ],
      "text/plain": [
       "        date     price  bedrooms  bathrooms  sqft_living  sqft_lot  floors  \\\n",
       "0 2014-10-13  221900.0       3.0       1.00         1180      5650     1.0   \n",
       "1 2014-12-09  538000.0       3.0       2.25         2570      7242     2.0   \n",
       "2 2015-02-25  180000.0       2.0       1.00          770     10000     1.0   \n",
       "3 2014-12-09  604000.0       4.0       3.00         1960      5000     1.0   \n",
       "4 2015-02-18  510000.0       3.0       2.00         1680      8080     1.0   \n",
       "\n",
       "   waterfront  view  condition  grade  sqft_above  sqft_basement  yr_built  \\\n",
       "0           0     0          3      7        1180              0      1955   \n",
       "1           0     0          3      7        2170            400      1951   \n",
       "2           0     0          3      6         770              0      1933   \n",
       "3           0     0          5      7        1050            910      1965   \n",
       "4           0     0          3      8        1680              0      1987   \n",
       "\n",
       "   yr_renovated  zipcode      lat     long  sqft_living15  sqft_lot15  \n",
       "0             0    98178  47.5112 -122.257           1340        5650  \n",
       "1          1991    98125  47.7210 -122.319           1690        7639  \n",
       "2             0    98028  47.7379 -122.233           2720        8062  \n",
       "3             0    98136  47.5208 -122.393           1360        5000  \n",
       "4             0    98074  47.6168 -122.045           1800        7503  "
      ]
     },
     "execution_count": 20,
     "metadata": {},
     "output_type": "execute_result"
    }
   ],
   "source": [
    "df['date'] = pd.to_datetime(df['date'], yearfirst = True)\n",
    "df.head()"
   ]
  },
  {
   "cell_type": "markdown",
   "id": "9905d822",
   "metadata": {},
   "source": [
    "Extracting the year value:"
   ]
  },
  {
   "cell_type": "code",
   "execution_count": 21,
   "id": "3bebfabb",
   "metadata": {
    "scrolled": true
   },
   "outputs": [
    {
     "data": {
      "text/html": [
       "<div>\n",
       "<style scoped>\n",
       "    .dataframe tbody tr th:only-of-type {\n",
       "        vertical-align: middle;\n",
       "    }\n",
       "\n",
       "    .dataframe tbody tr th {\n",
       "        vertical-align: top;\n",
       "    }\n",
       "\n",
       "    .dataframe thead th {\n",
       "        text-align: right;\n",
       "    }\n",
       "</style>\n",
       "<table border=\"1\" class=\"dataframe\">\n",
       "  <thead>\n",
       "    <tr style=\"text-align: right;\">\n",
       "      <th></th>\n",
       "      <th>date</th>\n",
       "      <th>price</th>\n",
       "      <th>bedrooms</th>\n",
       "      <th>bathrooms</th>\n",
       "      <th>sqft_living</th>\n",
       "      <th>sqft_lot</th>\n",
       "      <th>floors</th>\n",
       "      <th>waterfront</th>\n",
       "      <th>view</th>\n",
       "      <th>condition</th>\n",
       "      <th>...</th>\n",
       "      <th>sqft_above</th>\n",
       "      <th>sqft_basement</th>\n",
       "      <th>yr_built</th>\n",
       "      <th>yr_renovated</th>\n",
       "      <th>zipcode</th>\n",
       "      <th>lat</th>\n",
       "      <th>long</th>\n",
       "      <th>sqft_living15</th>\n",
       "      <th>sqft_lot15</th>\n",
       "      <th>year</th>\n",
       "    </tr>\n",
       "  </thead>\n",
       "  <tbody>\n",
       "    <tr>\n",
       "      <th>0</th>\n",
       "      <td>2014-10-13</td>\n",
       "      <td>221900.0</td>\n",
       "      <td>3.0</td>\n",
       "      <td>1.00</td>\n",
       "      <td>1180</td>\n",
       "      <td>5650</td>\n",
       "      <td>1.0</td>\n",
       "      <td>0</td>\n",
       "      <td>0</td>\n",
       "      <td>3</td>\n",
       "      <td>...</td>\n",
       "      <td>1180</td>\n",
       "      <td>0</td>\n",
       "      <td>1955</td>\n",
       "      <td>0</td>\n",
       "      <td>98178</td>\n",
       "      <td>47.5112</td>\n",
       "      <td>-122.257</td>\n",
       "      <td>1340</td>\n",
       "      <td>5650</td>\n",
       "      <td>2014</td>\n",
       "    </tr>\n",
       "    <tr>\n",
       "      <th>1</th>\n",
       "      <td>2014-12-09</td>\n",
       "      <td>538000.0</td>\n",
       "      <td>3.0</td>\n",
       "      <td>2.25</td>\n",
       "      <td>2570</td>\n",
       "      <td>7242</td>\n",
       "      <td>2.0</td>\n",
       "      <td>0</td>\n",
       "      <td>0</td>\n",
       "      <td>3</td>\n",
       "      <td>...</td>\n",
       "      <td>2170</td>\n",
       "      <td>400</td>\n",
       "      <td>1951</td>\n",
       "      <td>1991</td>\n",
       "      <td>98125</td>\n",
       "      <td>47.7210</td>\n",
       "      <td>-122.319</td>\n",
       "      <td>1690</td>\n",
       "      <td>7639</td>\n",
       "      <td>2014</td>\n",
       "    </tr>\n",
       "    <tr>\n",
       "      <th>2</th>\n",
       "      <td>2015-02-25</td>\n",
       "      <td>180000.0</td>\n",
       "      <td>2.0</td>\n",
       "      <td>1.00</td>\n",
       "      <td>770</td>\n",
       "      <td>10000</td>\n",
       "      <td>1.0</td>\n",
       "      <td>0</td>\n",
       "      <td>0</td>\n",
       "      <td>3</td>\n",
       "      <td>...</td>\n",
       "      <td>770</td>\n",
       "      <td>0</td>\n",
       "      <td>1933</td>\n",
       "      <td>0</td>\n",
       "      <td>98028</td>\n",
       "      <td>47.7379</td>\n",
       "      <td>-122.233</td>\n",
       "      <td>2720</td>\n",
       "      <td>8062</td>\n",
       "      <td>2015</td>\n",
       "    </tr>\n",
       "    <tr>\n",
       "      <th>3</th>\n",
       "      <td>2014-12-09</td>\n",
       "      <td>604000.0</td>\n",
       "      <td>4.0</td>\n",
       "      <td>3.00</td>\n",
       "      <td>1960</td>\n",
       "      <td>5000</td>\n",
       "      <td>1.0</td>\n",
       "      <td>0</td>\n",
       "      <td>0</td>\n",
       "      <td>5</td>\n",
       "      <td>...</td>\n",
       "      <td>1050</td>\n",
       "      <td>910</td>\n",
       "      <td>1965</td>\n",
       "      <td>0</td>\n",
       "      <td>98136</td>\n",
       "      <td>47.5208</td>\n",
       "      <td>-122.393</td>\n",
       "      <td>1360</td>\n",
       "      <td>5000</td>\n",
       "      <td>2014</td>\n",
       "    </tr>\n",
       "    <tr>\n",
       "      <th>4</th>\n",
       "      <td>2015-02-18</td>\n",
       "      <td>510000.0</td>\n",
       "      <td>3.0</td>\n",
       "      <td>2.00</td>\n",
       "      <td>1680</td>\n",
       "      <td>8080</td>\n",
       "      <td>1.0</td>\n",
       "      <td>0</td>\n",
       "      <td>0</td>\n",
       "      <td>3</td>\n",
       "      <td>...</td>\n",
       "      <td>1680</td>\n",
       "      <td>0</td>\n",
       "      <td>1987</td>\n",
       "      <td>0</td>\n",
       "      <td>98074</td>\n",
       "      <td>47.6168</td>\n",
       "      <td>-122.045</td>\n",
       "      <td>1800</td>\n",
       "      <td>7503</td>\n",
       "      <td>2015</td>\n",
       "    </tr>\n",
       "  </tbody>\n",
       "</table>\n",
       "<p>5 rows × 21 columns</p>\n",
       "</div>"
      ],
      "text/plain": [
       "        date     price  bedrooms  bathrooms  sqft_living  sqft_lot  floors  \\\n",
       "0 2014-10-13  221900.0       3.0       1.00         1180      5650     1.0   \n",
       "1 2014-12-09  538000.0       3.0       2.25         2570      7242     2.0   \n",
       "2 2015-02-25  180000.0       2.0       1.00          770     10000     1.0   \n",
       "3 2014-12-09  604000.0       4.0       3.00         1960      5000     1.0   \n",
       "4 2015-02-18  510000.0       3.0       2.00         1680      8080     1.0   \n",
       "\n",
       "   waterfront  view  condition  ...  sqft_above  sqft_basement  yr_built  \\\n",
       "0           0     0          3  ...        1180              0      1955   \n",
       "1           0     0          3  ...        2170            400      1951   \n",
       "2           0     0          3  ...         770              0      1933   \n",
       "3           0     0          5  ...        1050            910      1965   \n",
       "4           0     0          3  ...        1680              0      1987   \n",
       "\n",
       "   yr_renovated  zipcode      lat     long  sqft_living15  sqft_lot15  year  \n",
       "0             0    98178  47.5112 -122.257           1340        5650  2014  \n",
       "1          1991    98125  47.7210 -122.319           1690        7639  2014  \n",
       "2             0    98028  47.7379 -122.233           2720        8062  2015  \n",
       "3             0    98136  47.5208 -122.393           1360        5000  2014  \n",
       "4             0    98074  47.6168 -122.045           1800        7503  2015  \n",
       "\n",
       "[5 rows x 21 columns]"
      ]
     },
     "execution_count": 21,
     "metadata": {},
     "output_type": "execute_result"
    }
   ],
   "source": [
    "df['year'] = pd.to_datetime(df['date'], yearfirst = True).dt.year\n",
    "df.head()"
   ]
  },
  {
   "cell_type": "markdown",
   "id": "f4b08c13",
   "metadata": {},
   "source": [
    "Extracting the month value:"
   ]
  },
  {
   "cell_type": "code",
   "execution_count": 22,
   "id": "485940ec",
   "metadata": {},
   "outputs": [
    {
     "data": {
      "text/html": [
       "<div>\n",
       "<style scoped>\n",
       "    .dataframe tbody tr th:only-of-type {\n",
       "        vertical-align: middle;\n",
       "    }\n",
       "\n",
       "    .dataframe tbody tr th {\n",
       "        vertical-align: top;\n",
       "    }\n",
       "\n",
       "    .dataframe thead th {\n",
       "        text-align: right;\n",
       "    }\n",
       "</style>\n",
       "<table border=\"1\" class=\"dataframe\">\n",
       "  <thead>\n",
       "    <tr style=\"text-align: right;\">\n",
       "      <th></th>\n",
       "      <th>date</th>\n",
       "      <th>price</th>\n",
       "      <th>bedrooms</th>\n",
       "      <th>bathrooms</th>\n",
       "      <th>sqft_living</th>\n",
       "      <th>sqft_lot</th>\n",
       "      <th>floors</th>\n",
       "      <th>waterfront</th>\n",
       "      <th>view</th>\n",
       "      <th>condition</th>\n",
       "      <th>...</th>\n",
       "      <th>sqft_basement</th>\n",
       "      <th>yr_built</th>\n",
       "      <th>yr_renovated</th>\n",
       "      <th>zipcode</th>\n",
       "      <th>lat</th>\n",
       "      <th>long</th>\n",
       "      <th>sqft_living15</th>\n",
       "      <th>sqft_lot15</th>\n",
       "      <th>year</th>\n",
       "      <th>month</th>\n",
       "    </tr>\n",
       "  </thead>\n",
       "  <tbody>\n",
       "    <tr>\n",
       "      <th>0</th>\n",
       "      <td>2014-10-13</td>\n",
       "      <td>221900.0</td>\n",
       "      <td>3.0</td>\n",
       "      <td>1.00</td>\n",
       "      <td>1180</td>\n",
       "      <td>5650</td>\n",
       "      <td>1.0</td>\n",
       "      <td>0</td>\n",
       "      <td>0</td>\n",
       "      <td>3</td>\n",
       "      <td>...</td>\n",
       "      <td>0</td>\n",
       "      <td>1955</td>\n",
       "      <td>0</td>\n",
       "      <td>98178</td>\n",
       "      <td>47.5112</td>\n",
       "      <td>-122.257</td>\n",
       "      <td>1340</td>\n",
       "      <td>5650</td>\n",
       "      <td>2014</td>\n",
       "      <td>10</td>\n",
       "    </tr>\n",
       "    <tr>\n",
       "      <th>1</th>\n",
       "      <td>2014-12-09</td>\n",
       "      <td>538000.0</td>\n",
       "      <td>3.0</td>\n",
       "      <td>2.25</td>\n",
       "      <td>2570</td>\n",
       "      <td>7242</td>\n",
       "      <td>2.0</td>\n",
       "      <td>0</td>\n",
       "      <td>0</td>\n",
       "      <td>3</td>\n",
       "      <td>...</td>\n",
       "      <td>400</td>\n",
       "      <td>1951</td>\n",
       "      <td>1991</td>\n",
       "      <td>98125</td>\n",
       "      <td>47.7210</td>\n",
       "      <td>-122.319</td>\n",
       "      <td>1690</td>\n",
       "      <td>7639</td>\n",
       "      <td>2014</td>\n",
       "      <td>12</td>\n",
       "    </tr>\n",
       "    <tr>\n",
       "      <th>2</th>\n",
       "      <td>2015-02-25</td>\n",
       "      <td>180000.0</td>\n",
       "      <td>2.0</td>\n",
       "      <td>1.00</td>\n",
       "      <td>770</td>\n",
       "      <td>10000</td>\n",
       "      <td>1.0</td>\n",
       "      <td>0</td>\n",
       "      <td>0</td>\n",
       "      <td>3</td>\n",
       "      <td>...</td>\n",
       "      <td>0</td>\n",
       "      <td>1933</td>\n",
       "      <td>0</td>\n",
       "      <td>98028</td>\n",
       "      <td>47.7379</td>\n",
       "      <td>-122.233</td>\n",
       "      <td>2720</td>\n",
       "      <td>8062</td>\n",
       "      <td>2015</td>\n",
       "      <td>2</td>\n",
       "    </tr>\n",
       "    <tr>\n",
       "      <th>3</th>\n",
       "      <td>2014-12-09</td>\n",
       "      <td>604000.0</td>\n",
       "      <td>4.0</td>\n",
       "      <td>3.00</td>\n",
       "      <td>1960</td>\n",
       "      <td>5000</td>\n",
       "      <td>1.0</td>\n",
       "      <td>0</td>\n",
       "      <td>0</td>\n",
       "      <td>5</td>\n",
       "      <td>...</td>\n",
       "      <td>910</td>\n",
       "      <td>1965</td>\n",
       "      <td>0</td>\n",
       "      <td>98136</td>\n",
       "      <td>47.5208</td>\n",
       "      <td>-122.393</td>\n",
       "      <td>1360</td>\n",
       "      <td>5000</td>\n",
       "      <td>2014</td>\n",
       "      <td>12</td>\n",
       "    </tr>\n",
       "    <tr>\n",
       "      <th>4</th>\n",
       "      <td>2015-02-18</td>\n",
       "      <td>510000.0</td>\n",
       "      <td>3.0</td>\n",
       "      <td>2.00</td>\n",
       "      <td>1680</td>\n",
       "      <td>8080</td>\n",
       "      <td>1.0</td>\n",
       "      <td>0</td>\n",
       "      <td>0</td>\n",
       "      <td>3</td>\n",
       "      <td>...</td>\n",
       "      <td>0</td>\n",
       "      <td>1987</td>\n",
       "      <td>0</td>\n",
       "      <td>98074</td>\n",
       "      <td>47.6168</td>\n",
       "      <td>-122.045</td>\n",
       "      <td>1800</td>\n",
       "      <td>7503</td>\n",
       "      <td>2015</td>\n",
       "      <td>2</td>\n",
       "    </tr>\n",
       "  </tbody>\n",
       "</table>\n",
       "<p>5 rows × 22 columns</p>\n",
       "</div>"
      ],
      "text/plain": [
       "        date     price  bedrooms  bathrooms  sqft_living  sqft_lot  floors  \\\n",
       "0 2014-10-13  221900.0       3.0       1.00         1180      5650     1.0   \n",
       "1 2014-12-09  538000.0       3.0       2.25         2570      7242     2.0   \n",
       "2 2015-02-25  180000.0       2.0       1.00          770     10000     1.0   \n",
       "3 2014-12-09  604000.0       4.0       3.00         1960      5000     1.0   \n",
       "4 2015-02-18  510000.0       3.0       2.00         1680      8080     1.0   \n",
       "\n",
       "   waterfront  view  condition  ...  sqft_basement  yr_built  yr_renovated  \\\n",
       "0           0     0          3  ...              0      1955             0   \n",
       "1           0     0          3  ...            400      1951          1991   \n",
       "2           0     0          3  ...              0      1933             0   \n",
       "3           0     0          5  ...            910      1965             0   \n",
       "4           0     0          3  ...              0      1987             0   \n",
       "\n",
       "   zipcode      lat     long  sqft_living15  sqft_lot15  year  month  \n",
       "0    98178  47.5112 -122.257           1340        5650  2014     10  \n",
       "1    98125  47.7210 -122.319           1690        7639  2014     12  \n",
       "2    98028  47.7379 -122.233           2720        8062  2015      2  \n",
       "3    98136  47.5208 -122.393           1360        5000  2014     12  \n",
       "4    98074  47.6168 -122.045           1800        7503  2015      2  \n",
       "\n",
       "[5 rows x 22 columns]"
      ]
     },
     "execution_count": 22,
     "metadata": {},
     "output_type": "execute_result"
    }
   ],
   "source": [
    "df['month'] = pd.to_datetime(df['date'], format = '%Y-%m-%d').dt.month\n",
    "df.head()"
   ]
  },
  {
   "cell_type": "code",
   "execution_count": 23,
   "id": "b06d7034",
   "metadata": {},
   "outputs": [
    {
     "data": {
      "text/plain": [
       "12"
      ]
     },
     "execution_count": 23,
     "metadata": {},
     "output_type": "execute_result"
    }
   ],
   "source": [
    "df.month.max()"
   ]
  },
  {
   "cell_type": "markdown",
   "id": "002b0885",
   "metadata": {},
   "source": [
    "Max value for the month column is 12 so we have detected the format of date correctly"
   ]
  },
  {
   "cell_type": "markdown",
   "id": "1fd40594",
   "metadata": {},
   "source": [
    "Extracting the day of month and day of week:"
   ]
  },
  {
   "cell_type": "code",
   "execution_count": 24,
   "id": "2d0d473f",
   "metadata": {
    "scrolled": true
   },
   "outputs": [
    {
     "data": {
      "text/html": [
       "<div>\n",
       "<style scoped>\n",
       "    .dataframe tbody tr th:only-of-type {\n",
       "        vertical-align: middle;\n",
       "    }\n",
       "\n",
       "    .dataframe tbody tr th {\n",
       "        vertical-align: top;\n",
       "    }\n",
       "\n",
       "    .dataframe thead th {\n",
       "        text-align: right;\n",
       "    }\n",
       "</style>\n",
       "<table border=\"1\" class=\"dataframe\">\n",
       "  <thead>\n",
       "    <tr style=\"text-align: right;\">\n",
       "      <th></th>\n",
       "      <th>date</th>\n",
       "      <th>price</th>\n",
       "      <th>bedrooms</th>\n",
       "      <th>bathrooms</th>\n",
       "      <th>sqft_living</th>\n",
       "      <th>sqft_lot</th>\n",
       "      <th>floors</th>\n",
       "      <th>waterfront</th>\n",
       "      <th>view</th>\n",
       "      <th>condition</th>\n",
       "      <th>...</th>\n",
       "      <th>yr_renovated</th>\n",
       "      <th>zipcode</th>\n",
       "      <th>lat</th>\n",
       "      <th>long</th>\n",
       "      <th>sqft_living15</th>\n",
       "      <th>sqft_lot15</th>\n",
       "      <th>year</th>\n",
       "      <th>month</th>\n",
       "      <th>day_of_month</th>\n",
       "      <th>day_of_week</th>\n",
       "    </tr>\n",
       "  </thead>\n",
       "  <tbody>\n",
       "    <tr>\n",
       "      <th>0</th>\n",
       "      <td>2014-10-13</td>\n",
       "      <td>221900.0</td>\n",
       "      <td>3.0</td>\n",
       "      <td>1.00</td>\n",
       "      <td>1180</td>\n",
       "      <td>5650</td>\n",
       "      <td>1.0</td>\n",
       "      <td>0</td>\n",
       "      <td>0</td>\n",
       "      <td>3</td>\n",
       "      <td>...</td>\n",
       "      <td>0</td>\n",
       "      <td>98178</td>\n",
       "      <td>47.5112</td>\n",
       "      <td>-122.257</td>\n",
       "      <td>1340</td>\n",
       "      <td>5650</td>\n",
       "      <td>2014</td>\n",
       "      <td>10</td>\n",
       "      <td>13</td>\n",
       "      <td>Monday</td>\n",
       "    </tr>\n",
       "    <tr>\n",
       "      <th>1</th>\n",
       "      <td>2014-12-09</td>\n",
       "      <td>538000.0</td>\n",
       "      <td>3.0</td>\n",
       "      <td>2.25</td>\n",
       "      <td>2570</td>\n",
       "      <td>7242</td>\n",
       "      <td>2.0</td>\n",
       "      <td>0</td>\n",
       "      <td>0</td>\n",
       "      <td>3</td>\n",
       "      <td>...</td>\n",
       "      <td>1991</td>\n",
       "      <td>98125</td>\n",
       "      <td>47.7210</td>\n",
       "      <td>-122.319</td>\n",
       "      <td>1690</td>\n",
       "      <td>7639</td>\n",
       "      <td>2014</td>\n",
       "      <td>12</td>\n",
       "      <td>9</td>\n",
       "      <td>Tuesday</td>\n",
       "    </tr>\n",
       "    <tr>\n",
       "      <th>2</th>\n",
       "      <td>2015-02-25</td>\n",
       "      <td>180000.0</td>\n",
       "      <td>2.0</td>\n",
       "      <td>1.00</td>\n",
       "      <td>770</td>\n",
       "      <td>10000</td>\n",
       "      <td>1.0</td>\n",
       "      <td>0</td>\n",
       "      <td>0</td>\n",
       "      <td>3</td>\n",
       "      <td>...</td>\n",
       "      <td>0</td>\n",
       "      <td>98028</td>\n",
       "      <td>47.7379</td>\n",
       "      <td>-122.233</td>\n",
       "      <td>2720</td>\n",
       "      <td>8062</td>\n",
       "      <td>2015</td>\n",
       "      <td>2</td>\n",
       "      <td>25</td>\n",
       "      <td>Wednesday</td>\n",
       "    </tr>\n",
       "    <tr>\n",
       "      <th>3</th>\n",
       "      <td>2014-12-09</td>\n",
       "      <td>604000.0</td>\n",
       "      <td>4.0</td>\n",
       "      <td>3.00</td>\n",
       "      <td>1960</td>\n",
       "      <td>5000</td>\n",
       "      <td>1.0</td>\n",
       "      <td>0</td>\n",
       "      <td>0</td>\n",
       "      <td>5</td>\n",
       "      <td>...</td>\n",
       "      <td>0</td>\n",
       "      <td>98136</td>\n",
       "      <td>47.5208</td>\n",
       "      <td>-122.393</td>\n",
       "      <td>1360</td>\n",
       "      <td>5000</td>\n",
       "      <td>2014</td>\n",
       "      <td>12</td>\n",
       "      <td>9</td>\n",
       "      <td>Tuesday</td>\n",
       "    </tr>\n",
       "    <tr>\n",
       "      <th>4</th>\n",
       "      <td>2015-02-18</td>\n",
       "      <td>510000.0</td>\n",
       "      <td>3.0</td>\n",
       "      <td>2.00</td>\n",
       "      <td>1680</td>\n",
       "      <td>8080</td>\n",
       "      <td>1.0</td>\n",
       "      <td>0</td>\n",
       "      <td>0</td>\n",
       "      <td>3</td>\n",
       "      <td>...</td>\n",
       "      <td>0</td>\n",
       "      <td>98074</td>\n",
       "      <td>47.6168</td>\n",
       "      <td>-122.045</td>\n",
       "      <td>1800</td>\n",
       "      <td>7503</td>\n",
       "      <td>2015</td>\n",
       "      <td>2</td>\n",
       "      <td>18</td>\n",
       "      <td>Wednesday</td>\n",
       "    </tr>\n",
       "  </tbody>\n",
       "</table>\n",
       "<p>5 rows × 24 columns</p>\n",
       "</div>"
      ],
      "text/plain": [
       "        date     price  bedrooms  bathrooms  sqft_living  sqft_lot  floors  \\\n",
       "0 2014-10-13  221900.0       3.0       1.00         1180      5650     1.0   \n",
       "1 2014-12-09  538000.0       3.0       2.25         2570      7242     2.0   \n",
       "2 2015-02-25  180000.0       2.0       1.00          770     10000     1.0   \n",
       "3 2014-12-09  604000.0       4.0       3.00         1960      5000     1.0   \n",
       "4 2015-02-18  510000.0       3.0       2.00         1680      8080     1.0   \n",
       "\n",
       "   waterfront  view  condition  ...  yr_renovated  zipcode      lat     long  \\\n",
       "0           0     0          3  ...             0    98178  47.5112 -122.257   \n",
       "1           0     0          3  ...          1991    98125  47.7210 -122.319   \n",
       "2           0     0          3  ...             0    98028  47.7379 -122.233   \n",
       "3           0     0          5  ...             0    98136  47.5208 -122.393   \n",
       "4           0     0          3  ...             0    98074  47.6168 -122.045   \n",
       "\n",
       "   sqft_living15  sqft_lot15  year  month  day_of_month  day_of_week  \n",
       "0           1340        5650  2014     10            13       Monday  \n",
       "1           1690        7639  2014     12             9      Tuesday  \n",
       "2           2720        8062  2015      2            25    Wednesday  \n",
       "3           1360        5000  2014     12             9      Tuesday  \n",
       "4           1800        7503  2015      2            18    Wednesday  \n",
       "\n",
       "[5 rows x 24 columns]"
      ]
     },
     "execution_count": 24,
     "metadata": {},
     "output_type": "execute_result"
    }
   ],
   "source": [
    "df['day_of_month'] = pd.to_datetime(df['date'], format = '%Y-%m-%d').dt.day\n",
    "df['day_of_week'] = pd.to_datetime(df['date'], format = '%Y-%m-%d').dt.day_name()\n",
    "df.head()"
   ]
  },
  {
   "cell_type": "markdown",
   "id": "252b4a03",
   "metadata": {},
   "source": [
    "Lets check our dataframe after formatting:"
   ]
  },
  {
   "cell_type": "code",
   "execution_count": 25,
   "id": "d5ab86af",
   "metadata": {
    "scrolled": false
   },
   "outputs": [
    {
     "name": "stdout",
     "output_type": "stream",
     "text": [
      "<class 'pandas.core.frame.DataFrame'>\n",
      "RangeIndex: 21613 entries, 0 to 21612\n",
      "Data columns (total 24 columns):\n",
      " #   Column         Non-Null Count  Dtype         \n",
      "---  ------         --------------  -----         \n",
      " 0   date           21613 non-null  datetime64[ns]\n",
      " 1   price          21613 non-null  float64       \n",
      " 2   bedrooms       21613 non-null  float64       \n",
      " 3   bathrooms      21613 non-null  float64       \n",
      " 4   sqft_living    21613 non-null  int64         \n",
      " 5   sqft_lot       21613 non-null  int64         \n",
      " 6   floors         21613 non-null  float64       \n",
      " 7   waterfront     21613 non-null  int64         \n",
      " 8   view           21613 non-null  int64         \n",
      " 9   condition      21613 non-null  int64         \n",
      " 10  grade          21613 non-null  int64         \n",
      " 11  sqft_above     21613 non-null  int64         \n",
      " 12  sqft_basement  21613 non-null  int64         \n",
      " 13  yr_built       21613 non-null  int64         \n",
      " 14  yr_renovated   21613 non-null  int64         \n",
      " 15  zipcode        21613 non-null  int64         \n",
      " 16  lat            21613 non-null  float64       \n",
      " 17  long           21613 non-null  float64       \n",
      " 18  sqft_living15  21613 non-null  int64         \n",
      " 19  sqft_lot15     21613 non-null  int64         \n",
      " 20  year           21613 non-null  int64         \n",
      " 21  month          21613 non-null  int64         \n",
      " 22  day_of_month   21613 non-null  int64         \n",
      " 23  day_of_week    21613 non-null  object        \n",
      "dtypes: datetime64[ns](1), float64(6), int64(16), object(1)\n",
      "memory usage: 4.0+ MB\n"
     ]
    }
   ],
   "source": [
    "df.info()"
   ]
  },
  {
   "cell_type": "code",
   "execution_count": 26,
   "id": "bc8e8486",
   "metadata": {},
   "outputs": [],
   "source": [
    "df.to_csv('King_county_dataset.csv')"
   ]
  },
  {
   "cell_type": "markdown",
   "id": "a87ce531",
   "metadata": {},
   "source": [
    "### 3. EDA"
   ]
  },
  {
   "cell_type": "markdown",
   "id": "df76947b",
   "metadata": {},
   "source": [
    "#### Analysis of prices distribution and correlations"
   ]
  },
  {
   "cell_type": "markdown",
   "id": "d85d310e",
   "metadata": {},
   "source": [
    "Firstly lets check distribution of prices for all dataset using distplot and boxplot. After that we will be able to make some conclusions."
   ]
  },
  {
   "cell_type": "code",
   "execution_count": 27,
   "id": "6e8144b8",
   "metadata": {},
   "outputs": [
    {
     "name": "stderr",
     "output_type": "stream",
     "text": [
      "C:\\Users\\PNarnov\\Anaconda3\\lib\\site-packages\\seaborn\\distributions.py:2619: FutureWarning: `distplot` is a deprecated function and will be removed in a future version. Please adapt your code to use either `displot` (a figure-level function with similar flexibility) or `histplot` (an axes-level function for histograms).\n",
      "  warnings.warn(msg, FutureWarning)\n"
     ]
    },
    {
     "data": {
      "image/png": "[encoded data removed]",
      "text/plain": [
       "<Figure size 864x576 with 1 Axes>"
      ]
     },
     "metadata": {
      "needs_background": "light"
     },
     "output_type": "display_data"
    }
   ],
   "source": [
    "plt.figure(figsize = (12,8))\n",
    "sns.distplot(df.price, color = 'darkblue')\n",
    "plt.show()"
   ]
  },
  {
   "cell_type": "code",
   "execution_count": 28,
   "id": "1711d804",
   "metadata": {},
   "outputs": [
    {
     "data": {
      "text/plain": [
       "4.024069144684712"
      ]
     },
     "execution_count": 28,
     "metadata": {},
     "output_type": "execute_result"
    }
   ],
   "source": [
    "df.price.skew()"
   ]
  },
  {
   "cell_type": "code",
   "execution_count": 29,
   "id": "539a1232",
   "metadata": {},
   "outputs": [
    {
     "data": {
      "image/png": "[encoded data removed]",
      "text/plain": [
       "<Figure size 720x432 with 1 Axes>"
      ]
     },
     "metadata": {
      "needs_background": "light"
     },
     "output_type": "display_data"
    }
   ],
   "source": [
    "plt.figure(figsize = (10,6))\n",
    "sns.boxplot(x = df.price, color = 'lightgreen')\n",
    "plt.show()"
   ]
  },
  {
   "cell_type": "markdown",
   "id": "2c7bd3e7",
   "metadata": {},
   "source": [
    "We see that our price data is right-skewed. We know that it is normal for datasets with house prices. "
   ]
  },
  {
   "cell_type": "markdown",
   "id": "f3768ce0",
   "metadata": {},
   "source": [
    "Lets analyze our outliers:"
   ]
  },
  {
   "cell_type": "code",
   "execution_count": 30,
   "id": "cafa289e",
   "metadata": {},
   "outputs": [
    {
     "data": {
      "text/html": [
       "<div>\n",
       "<style scoped>\n",
       "    .dataframe tbody tr th:only-of-type {\n",
       "        vertical-align: middle;\n",
       "    }\n",
       "\n",
       "    .dataframe tbody tr th {\n",
       "        vertical-align: top;\n",
       "    }\n",
       "\n",
       "    .dataframe thead th {\n",
       "        text-align: right;\n",
       "    }\n",
       "</style>\n",
       "<table border=\"1\" class=\"dataframe\">\n",
       "  <thead>\n",
       "    <tr style=\"text-align: right;\">\n",
       "      <th></th>\n",
       "      <th>price</th>\n",
       "      <th>Z_price</th>\n",
       "    </tr>\n",
       "  </thead>\n",
       "  <tbody>\n",
       "    <tr>\n",
       "      <th>count</th>\n",
       "      <td>21613.00</td>\n",
       "      <td>21613.00</td>\n",
       "    </tr>\n",
       "    <tr>\n",
       "      <th>mean</th>\n",
       "      <td>540088.14</td>\n",
       "      <td>-0.00</td>\n",
       "    </tr>\n",
       "    <tr>\n",
       "      <th>std</th>\n",
       "      <td>367127.20</td>\n",
       "      <td>1.00</td>\n",
       "    </tr>\n",
       "    <tr>\n",
       "      <th>min</th>\n",
       "      <td>75000.00</td>\n",
       "      <td>-1.27</td>\n",
       "    </tr>\n",
       "    <tr>\n",
       "      <th>25%</th>\n",
       "      <td>321950.00</td>\n",
       "      <td>-0.59</td>\n",
       "    </tr>\n",
       "    <tr>\n",
       "      <th>50%</th>\n",
       "      <td>450000.00</td>\n",
       "      <td>-0.25</td>\n",
       "    </tr>\n",
       "    <tr>\n",
       "      <th>75%</th>\n",
       "      <td>645000.00</td>\n",
       "      <td>0.29</td>\n",
       "    </tr>\n",
       "    <tr>\n",
       "      <th>max</th>\n",
       "      <td>7700000.00</td>\n",
       "      <td>19.50</td>\n",
       "    </tr>\n",
       "  </tbody>\n",
       "</table>\n",
       "</div>"
      ],
      "text/plain": [
       "            price   Z_price\n",
       "count    21613.00  21613.00\n",
       "mean    540088.14     -0.00\n",
       "std     367127.20      1.00\n",
       "min      75000.00     -1.27\n",
       "25%     321950.00     -0.59\n",
       "50%     450000.00     -0.25\n",
       "75%     645000.00      0.29\n",
       "max    7700000.00     19.50"
      ]
     },
     "execution_count": 30,
     "metadata": {},
     "output_type": "execute_result"
    }
   ],
   "source": [
    "from scipy.stats import zscore\n",
    "df['Z_price'] = zscore(df['price'])\n",
    "round((df[['price', 'Z_price']]).describe(),2)"
   ]
  },
  {
   "cell_type": "code",
   "execution_count": 31,
   "id": "28d99114",
   "metadata": {},
   "outputs": [
    {
     "data": {
      "text/html": [
       "<div>\n",
       "<style scoped>\n",
       "    .dataframe tbody tr th:only-of-type {\n",
       "        vertical-align: middle;\n",
       "    }\n",
       "\n",
       "    .dataframe tbody tr th {\n",
       "        vertical-align: top;\n",
       "    }\n",
       "\n",
       "    .dataframe thead th {\n",
       "        text-align: right;\n",
       "    }\n",
       "</style>\n",
       "<table border=\"1\" class=\"dataframe\">\n",
       "  <thead>\n",
       "    <tr style=\"text-align: right;\">\n",
       "      <th></th>\n",
       "      <th>price</th>\n",
       "      <th>Z_price</th>\n",
       "    </tr>\n",
       "  </thead>\n",
       "  <tbody>\n",
       "    <tr>\n",
       "      <th>21</th>\n",
       "      <td>2000000.0</td>\n",
       "      <td>3.976675</td>\n",
       "    </tr>\n",
       "    <tr>\n",
       "      <th>153</th>\n",
       "      <td>2250000.0</td>\n",
       "      <td>4.657654</td>\n",
       "    </tr>\n",
       "    <tr>\n",
       "      <th>246</th>\n",
       "      <td>2400000.0</td>\n",
       "      <td>5.066241</td>\n",
       "    </tr>\n",
       "    <tr>\n",
       "      <th>269</th>\n",
       "      <td>2900000.0</td>\n",
       "      <td>6.428198</td>\n",
       "    </tr>\n",
       "    <tr>\n",
       "      <th>282</th>\n",
       "      <td>2050000.0</td>\n",
       "      <td>4.112871</td>\n",
       "    </tr>\n",
       "    <tr>\n",
       "      <th>...</th>\n",
       "      <td>...</td>\n",
       "      <td>...</td>\n",
       "    </tr>\n",
       "    <tr>\n",
       "      <th>21514</th>\n",
       "      <td>1865000.0</td>\n",
       "      <td>3.608947</td>\n",
       "    </tr>\n",
       "    <tr>\n",
       "      <th>21530</th>\n",
       "      <td>3000000.0</td>\n",
       "      <td>6.700590</td>\n",
       "    </tr>\n",
       "    <tr>\n",
       "      <th>21540</th>\n",
       "      <td>1881580.0</td>\n",
       "      <td>3.654109</td>\n",
       "    </tr>\n",
       "    <tr>\n",
       "      <th>21568</th>\n",
       "      <td>1700000.0</td>\n",
       "      <td>3.159501</td>\n",
       "    </tr>\n",
       "    <tr>\n",
       "      <th>21576</th>\n",
       "      <td>3567000.0</td>\n",
       "      <td>8.245049</td>\n",
       "    </tr>\n",
       "  </tbody>\n",
       "</table>\n",
       "<p>406 rows × 2 columns</p>\n",
       "</div>"
      ],
      "text/plain": [
       "           price   Z_price\n",
       "21     2000000.0  3.976675\n",
       "153    2250000.0  4.657654\n",
       "246    2400000.0  5.066241\n",
       "269    2900000.0  6.428198\n",
       "282    2050000.0  4.112871\n",
       "...          ...       ...\n",
       "21514  1865000.0  3.608947\n",
       "21530  3000000.0  6.700590\n",
       "21540  1881580.0  3.654109\n",
       "21568  1700000.0  3.159501\n",
       "21576  3567000.0  8.245049\n",
       "\n",
       "[406 rows x 2 columns]"
      ]
     },
     "execution_count": 31,
     "metadata": {},
     "output_type": "execute_result"
    }
   ],
   "source": [
    "df_out = df[df['Z_price'] > 3]\n",
    "df_out[['price', 'Z_price']]"
   ]
  },
  {
   "cell_type": "markdown",
   "id": "3c471b65",
   "metadata": {},
   "source": [
    "We have 406 prices outliers where prices are higher than mean value + 3 std deviations for 21613 records"
   ]
  },
  {
   "cell_type": "markdown",
   "id": "42f54f5f",
   "metadata": {},
   "source": [
    "Lets get correlation info and pairplots for our whole datasets and get some insights from them:"
   ]
  },
  {
   "cell_type": "markdown",
   "id": "67256bd9",
   "metadata": {},
   "source": [
    "Correlation analysis for our dataset:"
   ]
  },
  {
   "cell_type": "code",
   "execution_count": 32,
   "id": "d0448aaa",
   "metadata": {},
   "outputs": [
    {
     "data": {
      "image/png": "[encoded data removed]",
      "text/plain": [
       "<Figure size 1296x1296 with 2 Axes>"
      ]
     },
     "metadata": {
      "needs_background": "light"
     },
     "output_type": "display_data"
    }
   ],
   "source": [
    "plt.figure(figsize=(18,18))\n",
    "sns.heatmap(df.corr(),annot=True,cmap='RdYlGn')\n",
    "plt.show()"
   ]
  },
  {
   "cell_type": "code",
   "execution_count": 33,
   "id": "78047855",
   "metadata": {},
   "outputs": [
    {
     "data": {
      "text/plain": [
       "Z_price          1.000000\n",
       "price            1.000000\n",
       "sqft_living      0.702035\n",
       "grade            0.667434\n",
       "sqft_above       0.605567\n",
       "sqft_living15    0.585379\n",
       "bathrooms        0.525714\n",
       "view             0.397293\n",
       "sqft_basement    0.323816\n",
       "bedrooms         0.308868\n",
       "lat              0.307003\n",
       "waterfront       0.266369\n",
       "floors           0.256794\n",
       "yr_renovated     0.126434\n",
       "sqft_lot         0.089661\n",
       "sqft_lot15       0.082447\n",
       "yr_built         0.054012\n",
       "condition        0.036362\n",
       "long             0.021626\n",
       "year             0.003576\n",
       "month           -0.010081\n",
       "day_of_month    -0.014670\n",
       "zipcode         -0.053203\n",
       "Name: price, dtype: float64"
      ]
     },
     "execution_count": 33,
     "metadata": {},
     "output_type": "execute_result"
    }
   ],
   "source": [
    "df.corr()['price'].sort_values(ascending = False)"
   ]
  },
  {
   "cell_type": "code",
   "execution_count": 34,
   "id": "aee684a7",
   "metadata": {},
   "outputs": [],
   "source": [
    "features = df.corr()['price'].sort_values(ascending = False)"
   ]
  },
  {
   "cell_type": "code",
   "execution_count": 35,
   "id": "f646429d",
   "metadata": {},
   "outputs": [
    {
     "data": {
      "image/png": "[encoded data removed]",
      "text/plain": [
       "<Figure size 864x576 with 1 Axes>"
      ]
     },
     "metadata": {
      "needs_background": "light"
     },
     "output_type": "display_data"
    }
   ],
   "source": [
    "plt.figure(figsize = (12,8))\n",
    "features[2:].plot(kind = 'bar')\n",
    "plt.grid()\n",
    "plt.show()"
   ]
  },
  {
   "cell_type": "markdown",
   "id": "4ab29720",
   "metadata": {},
   "source": [
    "We can stay with df columns which have correlation coefficient > 0.1"
   ]
  },
  {
   "cell_type": "code",
   "execution_count": 36,
   "id": "c832ca5c",
   "metadata": {},
   "outputs": [
    {
     "data": {
      "text/html": [
       "<div>\n",
       "<style scoped>\n",
       "    .dataframe tbody tr th:only-of-type {\n",
       "        vertical-align: middle;\n",
       "    }\n",
       "\n",
       "    .dataframe tbody tr th {\n",
       "        vertical-align: top;\n",
       "    }\n",
       "\n",
       "    .dataframe thead th {\n",
       "        text-align: right;\n",
       "    }\n",
       "</style>\n",
       "<table border=\"1\" class=\"dataframe\">\n",
       "  <thead>\n",
       "    <tr style=\"text-align: right;\">\n",
       "      <th></th>\n",
       "      <th>sqft_living</th>\n",
       "      <th>grade</th>\n",
       "      <th>sqft_above</th>\n",
       "      <th>sqft_living15</th>\n",
       "      <th>bathrooms</th>\n",
       "      <th>view</th>\n",
       "      <th>sqft_basement</th>\n",
       "      <th>bedrooms</th>\n",
       "      <th>lat</th>\n",
       "      <th>waterfront</th>\n",
       "      <th>floors</th>\n",
       "      <th>yr_renovated</th>\n",
       "      <th>price</th>\n",
       "    </tr>\n",
       "  </thead>\n",
       "  <tbody>\n",
       "    <tr>\n",
       "      <th>0</th>\n",
       "      <td>1180</td>\n",
       "      <td>7</td>\n",
       "      <td>1180</td>\n",
       "      <td>1340</td>\n",
       "      <td>1.00</td>\n",
       "      <td>0</td>\n",
       "      <td>0</td>\n",
       "      <td>3.0</td>\n",
       "      <td>47.5112</td>\n",
       "      <td>0</td>\n",
       "      <td>1.0</td>\n",
       "      <td>0</td>\n",
       "      <td>221900.0</td>\n",
       "    </tr>\n",
       "    <tr>\n",
       "      <th>1</th>\n",
       "      <td>2570</td>\n",
       "      <td>7</td>\n",
       "      <td>2170</td>\n",
       "      <td>1690</td>\n",
       "      <td>2.25</td>\n",
       "      <td>0</td>\n",
       "      <td>400</td>\n",
       "      <td>3.0</td>\n",
       "      <td>47.7210</td>\n",
       "      <td>0</td>\n",
       "      <td>2.0</td>\n",
       "      <td>1991</td>\n",
       "      <td>538000.0</td>\n",
       "    </tr>\n",
       "    <tr>\n",
       "      <th>2</th>\n",
       "      <td>770</td>\n",
       "      <td>6</td>\n",
       "      <td>770</td>\n",
       "      <td>2720</td>\n",
       "      <td>1.00</td>\n",
       "      <td>0</td>\n",
       "      <td>0</td>\n",
       "      <td>2.0</td>\n",
       "      <td>47.7379</td>\n",
       "      <td>0</td>\n",
       "      <td>1.0</td>\n",
       "      <td>0</td>\n",
       "      <td>180000.0</td>\n",
       "    </tr>\n",
       "    <tr>\n",
       "      <th>3</th>\n",
       "      <td>1960</td>\n",
       "      <td>7</td>\n",
       "      <td>1050</td>\n",
       "      <td>1360</td>\n",
       "      <td>3.00</td>\n",
       "      <td>0</td>\n",
       "      <td>910</td>\n",
       "      <td>4.0</td>\n",
       "      <td>47.5208</td>\n",
       "      <td>0</td>\n",
       "      <td>1.0</td>\n",
       "      <td>0</td>\n",
       "      <td>604000.0</td>\n",
       "    </tr>\n",
       "    <tr>\n",
       "      <th>4</th>\n",
       "      <td>1680</td>\n",
       "      <td>8</td>\n",
       "      <td>1680</td>\n",
       "      <td>1800</td>\n",
       "      <td>2.00</td>\n",
       "      <td>0</td>\n",
       "      <td>0</td>\n",
       "      <td>3.0</td>\n",
       "      <td>47.6168</td>\n",
       "      <td>0</td>\n",
       "      <td>1.0</td>\n",
       "      <td>0</td>\n",
       "      <td>510000.0</td>\n",
       "    </tr>\n",
       "  </tbody>\n",
       "</table>\n",
       "</div>"
      ],
      "text/plain": [
       "   sqft_living  grade  sqft_above  sqft_living15  bathrooms  view  \\\n",
       "0         1180      7        1180           1340       1.00     0   \n",
       "1         2570      7        2170           1690       2.25     0   \n",
       "2          770      6         770           2720       1.00     0   \n",
       "3         1960      7        1050           1360       3.00     0   \n",
       "4         1680      8        1680           1800       2.00     0   \n",
       "\n",
       "   sqft_basement  bedrooms      lat  waterfront  floors  yr_renovated  \\\n",
       "0              0       3.0  47.5112           0     1.0             0   \n",
       "1            400       3.0  47.7210           0     2.0          1991   \n",
       "2              0       2.0  47.7379           0     1.0             0   \n",
       "3            910       4.0  47.5208           0     1.0             0   \n",
       "4              0       3.0  47.6168           0     1.0             0   \n",
       "\n",
       "      price  \n",
       "0  221900.0  \n",
       "1  538000.0  \n",
       "2  180000.0  \n",
       "3  604000.0  \n",
       "4  510000.0  "
      ]
     },
     "execution_count": 36,
     "metadata": {},
     "output_type": "execute_result"
    }
   ],
   "source": [
    "new_df = df[['sqft_living', 'grade', 'sqft_above', 'sqft_living15', 'bathrooms', 'view', 'sqft_basement', 'bedrooms', 'lat', 'waterfront', 'floors', 'yr_renovated', 'price']]\n",
    "new_df.head()"
   ]
  },
  {
   "cell_type": "code",
   "execution_count": 37,
   "id": "c8e57672",
   "metadata": {},
   "outputs": [],
   "source": [
    "new_df.to_csv('cleaned_df.csv')"
   ]
  },
  {
   "cell_type": "markdown",
   "id": "c337af17",
   "metadata": {},
   "source": [
    "Lets draw pair plots:"
   ]
  },
  {
   "cell_type": "code",
   "execution_count": 38,
   "id": "f51cf5d9",
   "metadata": {},
   "outputs": [
    {
     "data": {
      "image/png": "[encoded data removed]",
      "text/plain": [
       "<Figure size 900x180 with 5 Axes>"
      ]
     },
     "metadata": {
      "needs_background": "light"
     },
     "output_type": "display_data"
    },
    {
     "data": {
      "image/png": "[encoded data removed]",
      "text/plain": [
       "<Figure size 900x180 with 5 Axes>"
      ]
     },
     "metadata": {
      "needs_background": "light"
     },
     "output_type": "display_data"
    },
    {
     "data": {
      "image/png": "[encoded data removed]",
      "text/plain": [
       "<Figure size 540x180 with 4 Axes>"
      ]
     },
     "metadata": {
      "needs_background": "light"
     },
     "output_type": "display_data"
    }
   ],
   "source": [
    "for i in range(0, len(new_df.columns), 5):\n",
    "    sns.pairplot(data=new_df,\n",
    "                x_vars=new_df.columns[i:i+5],\n",
    "                y_vars=['price'])"
   ]
  },
  {
   "cell_type": "markdown",
   "id": "a1c2223e",
   "metadata": {},
   "source": [
    "### 4. Hypothesis testing"
   ]
  },
  {
   "cell_type": "markdown",
   "id": "ab42fb4e",
   "metadata": {},
   "source": [
    "Lets perform a statistical analysis for waterfront parameter. Does it influence to our house prices?"
   ]
  },
  {
   "cell_type": "code",
   "execution_count": 39,
   "id": "8f444a45",
   "metadata": {},
   "outputs": [
    {
     "name": "stdout",
     "output_type": "stream",
     "text": [
      "Mean price grouped by waterfront parameter:\n",
      "waterfront\n",
      "0    5.315636e+05\n",
      "1    1.661876e+06\n",
      "Name: price, dtype: float64\n",
      "\n",
      "Median price grouped by waterfront parameter:\n",
      "waterfront\n",
      "0     450000.0\n",
      "1    1400000.0\n",
      "Name: price, dtype: float64\n"
     ]
    }
   ],
   "source": [
    "print('Mean price grouped by waterfront parameter:')\n",
    "print(new_df.groupby('waterfront')['price'].mean())\n",
    "print('')\n",
    "print('Median price grouped by waterfront parameter:')\n",
    "print(new_df.groupby('waterfront')['price'].median())"
   ]
  },
  {
   "cell_type": "markdown",
   "id": "ec4875b1",
   "metadata": {},
   "source": [
    "1. Lets see how boxplot and distplot are looking: "
   ]
  },
  {
   "cell_type": "code",
   "execution_count": 40,
   "id": "cf52e362",
   "metadata": {
    "scrolled": true
   },
   "outputs": [
    {
     "data": {
      "image/png": "[encoded data removed]",
      "text/plain": [
       "<Figure size 576x360 with 1 Axes>"
      ]
     },
     "metadata": {
      "needs_background": "light"
     },
     "output_type": "display_data"
    }
   ],
   "source": [
    "plt.figure(figsize = (8,5))\n",
    "sns.boxplot(data = new_df, x = 'waterfront', y = 'price')\n",
    "plt.show()"
   ]
  },
  {
   "cell_type": "markdown",
   "id": "7d1aff55",
   "metadata": {},
   "source": [
    "We see that quartile ranges of prices for houses with waterfront and without are different, but houses w/o waterfront view have much more outliers, lets check distribution in other way: "
   ]
  },
  {
   "cell_type": "code",
   "execution_count": 41,
   "id": "e1accb49",
   "metadata": {
    "scrolled": false
   },
   "outputs": [
    {
     "name": "stderr",
     "output_type": "stream",
     "text": [
      "C:\\Users\\PNarnov\\Anaconda3\\lib\\site-packages\\seaborn\\distributions.py:2619: FutureWarning: `distplot` is a deprecated function and will be removed in a future version. Please adapt your code to use either `displot` (a figure-level function with similar flexibility) or `kdeplot` (an axes-level function for kernel density plots).\n",
      "  warnings.warn(msg, FutureWarning)\n",
      "C:\\Users\\PNarnov\\Anaconda3\\lib\\site-packages\\seaborn\\distributions.py:2619: FutureWarning: `distplot` is a deprecated function and will be removed in a future version. Please adapt your code to use either `displot` (a figure-level function with similar flexibility) or `kdeplot` (an axes-level function for kernel density plots).\n",
      "  warnings.warn(msg, FutureWarning)\n"
     ]
    },
    {
     "data": {
      "image/png": "[encoded data removed]",
      "text/plain": [
       "<Figure size 720x432 with 1 Axes>"
      ]
     },
     "metadata": {
      "needs_background": "light"
     },
     "output_type": "display_data"
    }
   ],
   "source": [
    "WoWF = new_df[new_df['waterfront'] == 0]\n",
    "WF = new_df[new_df['waterfront'] == 1]\n",
    "plt.figure(figsize = (10,6))\n",
    "sns.distplot(WoWF.price, color = 'darkblue', hist = False)\n",
    "sns.distplot(WF.price, color = 'orange', hist = False)\n",
    "plt.show()"
   ]
  },
  {
   "cell_type": "markdown",
   "id": "71c5c08d",
   "metadata": {},
   "source": [
    "We see 2 different distribitions with Max density values near each other:   \n",
    "Our Null hypothesis will be: There is no any correlation with waterfront and house price.   \n",
    "Our Alt hypothesis will be: There is some correlation\n",
    "Lets perform a statistical analysis:"
   ]
  },
  {
   "cell_type": "markdown",
   "id": "af6a3c9d",
   "metadata": {},
   "source": [
    "Firstly we fix our distributions to be looking as normal for analysis:"
   ]
  },
  {
   "cell_type": "code",
   "execution_count": 42,
   "id": "ca3a35c2",
   "metadata": {},
   "outputs": [
    {
     "name": "stderr",
     "output_type": "stream",
     "text": [
      "C:\\Users\\PNarnov\\Anaconda3\\lib\\site-packages\\seaborn\\distributions.py:2619: FutureWarning: `distplot` is a deprecated function and will be removed in a future version. Please adapt your code to use either `displot` (a figure-level function with similar flexibility) or `kdeplot` (an axes-level function for kernel density plots).\n",
      "  warnings.warn(msg, FutureWarning)\n",
      "C:\\Users\\PNarnov\\Anaconda3\\lib\\site-packages\\seaborn\\distributions.py:2619: FutureWarning: `distplot` is a deprecated function and will be removed in a future version. Please adapt your code to use either `displot` (a figure-level function with similar flexibility) or `kdeplot` (an axes-level function for kernel density plots).\n",
      "  warnings.warn(msg, FutureWarning)\n"
     ]
    },
    {
     "data": {
      "image/png": "[encoded data removed]",
      "text/plain": [
       "<Figure size 720x432 with 1 Axes>"
      ]
     },
     "metadata": {
      "needs_background": "light"
     },
     "output_type": "display_data"
    }
   ],
   "source": [
    "plt.figure(figsize = (10,6))\n",
    "sns.distplot(np.log(WoWF.price), color = 'darkblue', hist = False)\n",
    "sns.distplot(np.log(WF.price), color = 'orange', hist = False)\n",
    "plt.show()"
   ]
  },
  {
   "cell_type": "markdown",
   "id": "1bebe8d6",
   "metadata": {},
   "source": [
    "Now they look better and we can compare prices for different categories"
   ]
  },
  {
   "cell_type": "code",
   "execution_count": 43,
   "id": "f758ac8c",
   "metadata": {},
   "outputs": [],
   "source": [
    "import scipy.stats as stats "
   ]
  },
  {
   "cell_type": "code",
   "execution_count": 44,
   "id": "805c8b1b",
   "metadata": {},
   "outputs": [
    {
     "name": "stdout",
     "output_type": "stream",
     "text": [
      "t_value1 =  26.065687913630512 , p_value1 =  1.6959013227359578e-147\n"
     ]
    }
   ],
   "source": [
    "alpha=0.05\n",
    "t_value1, p_value1 = stats.ttest_ind(np.log(WF.price), np.log(WoWF.price))\n",
    "print(\"t_value1 = \",t_value1, \", p_value1 = \", p_value1)"
   ]
  },
  {
   "cell_type": "code",
   "execution_count": 45,
   "id": "0f110e11",
   "metadata": {},
   "outputs": [
    {
     "name": "stdout",
     "output_type": "stream",
     "text": [
      "Conclusion: since p_value 1.6959013227359578e-147 is less than alpha 0.05 \n",
      "Reject the null hypothesis that there is no effect of waterfront on house prices.\n"
     ]
    }
   ],
   "source": [
    "if p_value1 < alpha:\n",
    "    print(\"Conclusion: since p_value {} is less than alpha {} \". format (p_value1,alpha))\n",
    "    print(\"Reject the null hypothesis that there is no effect of waterfront on house prices.\")\n",
    "    \n",
    "else:\n",
    "    print(\"Conclusion: since p_value {} is greater than alpha {} \". format (p_value1,alpha))\n",
    "    print(\"Fail to reject the null hypothesis that there is no effect of waterfront on house prices.\")"
   ]
  },
  {
   "cell_type": "markdown",
   "id": "a6abbeab",
   "metadata": {},
   "source": [
    "So we can conclude that there is some effect of waterfront on house prices."
   ]
  },
  {
   "cell_type": "markdown",
   "id": "63be619e",
   "metadata": {},
   "source": [
    "We have day of week parameter which we haven't analyzed yet:"
   ]
  },
  {
   "cell_type": "code",
   "execution_count": 46,
   "id": "c7d28778",
   "metadata": {},
   "outputs": [
    {
     "data": {
      "image/png": "[encoded data removed]",
      "text/plain": [
       "<Figure size 1080x576 with 1 Axes>"
      ]
     },
     "metadata": {
      "needs_background": "light"
     },
     "output_type": "display_data"
    }
   ],
   "source": [
    "plt.figure(figsize = (15,8))\n",
    "sns.boxplot(data = df, x = 'day_of_week', y = 'price')\n",
    "plt.grid()\n",
    "plt.show()"
   ]
  },
  {
   "cell_type": "markdown",
   "id": "0f6e7c19",
   "metadata": {},
   "source": [
    "Boxplot looks like there is no effect of day of week on price.\n",
    "Lets check it!"
   ]
  },
  {
   "cell_type": "markdown",
   "id": "2a7442f5",
   "metadata": {},
   "source": [
    "H0: There is no effect of day of week on price.   \n",
    "H1: There is an effect"
   ]
  },
  {
   "cell_type": "code",
   "execution_count": 47,
   "id": "194ec63a",
   "metadata": {},
   "outputs": [],
   "source": [
    "from statsmodels.formula.api import ols\n",
    "from statsmodels.stats.anova import anova_lm "
   ]
  },
  {
   "cell_type": "code",
   "execution_count": 48,
   "id": "a01316ac",
   "metadata": {},
   "outputs": [
    {
     "data": {
      "text/html": [
       "<div>\n",
       "<style scoped>\n",
       "    .dataframe tbody tr th:only-of-type {\n",
       "        vertical-align: middle;\n",
       "    }\n",
       "\n",
       "    .dataframe tbody tr th {\n",
       "        vertical-align: top;\n",
       "    }\n",
       "\n",
       "    .dataframe thead th {\n",
       "        text-align: right;\n",
       "    }\n",
       "</style>\n",
       "<table border=\"1\" class=\"dataframe\">\n",
       "  <thead>\n",
       "    <tr style=\"text-align: right;\">\n",
       "      <th></th>\n",
       "      <th>df</th>\n",
       "      <th>sum_sq</th>\n",
       "      <th>mean_sq</th>\n",
       "      <th>F</th>\n",
       "      <th>PR(&gt;F)</th>\n",
       "    </tr>\n",
       "  </thead>\n",
       "  <tbody>\n",
       "    <tr>\n",
       "      <th>C(day_of_week)</th>\n",
       "      <td>6.0</td>\n",
       "      <td>6.046927e+11</td>\n",
       "      <td>1.007821e+11</td>\n",
       "      <td>0.747687</td>\n",
       "      <td>0.611198</td>\n",
       "    </tr>\n",
       "    <tr>\n",
       "      <th>Residual</th>\n",
       "      <td>21606.0</td>\n",
       "      <td>2.912312e+15</td>\n",
       "      <td>1.347918e+11</td>\n",
       "      <td>NaN</td>\n",
       "      <td>NaN</td>\n",
       "    </tr>\n",
       "  </tbody>\n",
       "</table>\n",
       "</div>"
      ],
      "text/plain": [
       "                     df        sum_sq       mean_sq         F    PR(>F)\n",
       "C(day_of_week)      6.0  6.046927e+11  1.007821e+11  0.747687  0.611198\n",
       "Residual        21606.0  2.912312e+15  1.347918e+11       NaN       NaN"
      ]
     },
     "execution_count": 48,
     "metadata": {},
     "output_type": "execute_result"
    }
   ],
   "source": [
    "formula = 'price ~ C(day_of_week)'\n",
    "model = ols(formula, df).fit()\n",
    "aov_table = anova_lm(model)\n",
    "aov_table"
   ]
  },
  {
   "cell_type": "markdown",
   "id": "eb3f5254",
   "metadata": {},
   "source": [
    "Our P value in this test is 0.61 and it is greater then 0.05 so we can't reject our null hypothesis for this survey "
   ]
  },
  {
   "cell_type": "markdown",
   "id": "78588927",
   "metadata": {},
   "source": [
    "### 5. Feature analysis with Machine learning techniques:"
   ]
  },
  {
   "cell_type": "code",
   "execution_count": 49,
   "id": "3289386e",
   "metadata": {},
   "outputs": [
    {
     "data": {
      "text/plain": [
       "(21613, 25)"
      ]
     },
     "execution_count": 49,
     "metadata": {},
     "output_type": "execute_result"
    }
   ],
   "source": [
    "df.shape"
   ]
  },
  {
   "cell_type": "markdown",
   "id": "9034a700",
   "metadata": {},
   "source": [
    "It seems that 21613 records is very huge quantity of data for feature analysis. In case we analyze the whole dataset we will need to much time for modeling.    "
   ]
  },
  {
   "cell_type": "code",
   "execution_count": 50,
   "id": "17705283",
   "metadata": {},
   "outputs": [],
   "source": [
    "data = df.sample(n = 5000, replace=False, random_state=10000)"
   ]
  },
  {
   "cell_type": "code",
   "execution_count": 51,
   "id": "031040b8",
   "metadata": {
    "scrolled": true
   },
   "outputs": [
    {
     "data": {
      "text/html": [
       "<div>\n",
       "<style scoped>\n",
       "    .dataframe tbody tr th:only-of-type {\n",
       "        vertical-align: middle;\n",
       "    }\n",
       "\n",
       "    .dataframe tbody tr th {\n",
       "        vertical-align: top;\n",
       "    }\n",
       "\n",
       "    .dataframe thead th {\n",
       "        text-align: right;\n",
       "    }\n",
       "</style>\n",
       "<table border=\"1\" class=\"dataframe\">\n",
       "  <thead>\n",
       "    <tr style=\"text-align: right;\">\n",
       "      <th></th>\n",
       "      <th>date</th>\n",
       "      <th>price</th>\n",
       "      <th>bedrooms</th>\n",
       "      <th>bathrooms</th>\n",
       "      <th>sqft_living</th>\n",
       "      <th>sqft_lot</th>\n",
       "      <th>floors</th>\n",
       "      <th>waterfront</th>\n",
       "      <th>view</th>\n",
       "      <th>condition</th>\n",
       "      <th>...</th>\n",
       "      <th>zipcode</th>\n",
       "      <th>lat</th>\n",
       "      <th>long</th>\n",
       "      <th>sqft_living15</th>\n",
       "      <th>sqft_lot15</th>\n",
       "      <th>year</th>\n",
       "      <th>month</th>\n",
       "      <th>day_of_month</th>\n",
       "      <th>day_of_week</th>\n",
       "      <th>Z_price</th>\n",
       "    </tr>\n",
       "  </thead>\n",
       "  <tbody>\n",
       "    <tr>\n",
       "      <th>2083</th>\n",
       "      <td>2014-12-08</td>\n",
       "      <td>800000.0</td>\n",
       "      <td>4.0</td>\n",
       "      <td>2.5</td>\n",
       "      <td>2390</td>\n",
       "      <td>10000</td>\n",
       "      <td>1.0</td>\n",
       "      <td>0</td>\n",
       "      <td>0</td>\n",
       "      <td>3</td>\n",
       "      <td>...</td>\n",
       "      <td>98040</td>\n",
       "      <td>47.5801</td>\n",
       "      <td>-122.229</td>\n",
       "      <td>1900</td>\n",
       "      <td>9752</td>\n",
       "      <td>2014</td>\n",
       "      <td>12</td>\n",
       "      <td>8</td>\n",
       "      <td>Monday</td>\n",
       "      <td>0.707978</td>\n",
       "    </tr>\n",
       "    <tr>\n",
       "      <th>3120</th>\n",
       "      <td>2014-08-11</td>\n",
       "      <td>350000.0</td>\n",
       "      <td>3.0</td>\n",
       "      <td>1.5</td>\n",
       "      <td>1320</td>\n",
       "      <td>4400</td>\n",
       "      <td>1.0</td>\n",
       "      <td>0</td>\n",
       "      <td>0</td>\n",
       "      <td>3</td>\n",
       "      <td>...</td>\n",
       "      <td>98112</td>\n",
       "      <td>47.6231</td>\n",
       "      <td>-122.292</td>\n",
       "      <td>1350</td>\n",
       "      <td>4400</td>\n",
       "      <td>2014</td>\n",
       "      <td>8</td>\n",
       "      <td>11</td>\n",
       "      <td>Monday</td>\n",
       "      <td>-0.517784</td>\n",
       "    </tr>\n",
       "    <tr>\n",
       "      <th>9705</th>\n",
       "      <td>2014-05-12</td>\n",
       "      <td>751000.0</td>\n",
       "      <td>4.0</td>\n",
       "      <td>2.5</td>\n",
       "      <td>3110</td>\n",
       "      <td>6142</td>\n",
       "      <td>2.0</td>\n",
       "      <td>0</td>\n",
       "      <td>0</td>\n",
       "      <td>3</td>\n",
       "      <td>...</td>\n",
       "      <td>98052</td>\n",
       "      <td>47.7010</td>\n",
       "      <td>-122.111</td>\n",
       "      <td>3200</td>\n",
       "      <td>6826</td>\n",
       "      <td>2014</td>\n",
       "      <td>5</td>\n",
       "      <td>12</td>\n",
       "      <td>Monday</td>\n",
       "      <td>0.574506</td>\n",
       "    </tr>\n",
       "    <tr>\n",
       "      <th>13000</th>\n",
       "      <td>2014-11-04</td>\n",
       "      <td>295000.0</td>\n",
       "      <td>3.0</td>\n",
       "      <td>1.0</td>\n",
       "      <td>1380</td>\n",
       "      <td>7575</td>\n",
       "      <td>1.0</td>\n",
       "      <td>0</td>\n",
       "      <td>0</td>\n",
       "      <td>4</td>\n",
       "      <td>...</td>\n",
       "      <td>98056</td>\n",
       "      <td>47.5139</td>\n",
       "      <td>-122.187</td>\n",
       "      <td>1320</td>\n",
       "      <td>7600</td>\n",
       "      <td>2014</td>\n",
       "      <td>11</td>\n",
       "      <td>4</td>\n",
       "      <td>Tuesday</td>\n",
       "      <td>-0.667599</td>\n",
       "    </tr>\n",
       "    <tr>\n",
       "      <th>9783</th>\n",
       "      <td>2014-12-30</td>\n",
       "      <td>340000.0</td>\n",
       "      <td>3.0</td>\n",
       "      <td>2.0</td>\n",
       "      <td>1570</td>\n",
       "      <td>14992</td>\n",
       "      <td>1.0</td>\n",
       "      <td>0</td>\n",
       "      <td>0</td>\n",
       "      <td>3</td>\n",
       "      <td>...</td>\n",
       "      <td>98014</td>\n",
       "      <td>47.6965</td>\n",
       "      <td>-121.922</td>\n",
       "      <td>1640</td>\n",
       "      <td>15000</td>\n",
       "      <td>2014</td>\n",
       "      <td>12</td>\n",
       "      <td>30</td>\n",
       "      <td>Tuesday</td>\n",
       "      <td>-0.545023</td>\n",
       "    </tr>\n",
       "  </tbody>\n",
       "</table>\n",
       "<p>5 rows × 25 columns</p>\n",
       "</div>"
      ],
      "text/plain": [
       "            date     price  bedrooms  bathrooms  sqft_living  sqft_lot  \\\n",
       "2083  2014-12-08  800000.0       4.0        2.5         2390     10000   \n",
       "3120  2014-08-11  350000.0       3.0        1.5         1320      4400   \n",
       "9705  2014-05-12  751000.0       4.0        2.5         3110      6142   \n",
       "13000 2014-11-04  295000.0       3.0        1.0         1380      7575   \n",
       "9783  2014-12-30  340000.0       3.0        2.0         1570     14992   \n",
       "\n",
       "       floors  waterfront  view  condition  ...  zipcode      lat     long  \\\n",
       "2083      1.0           0     0          3  ...    98040  47.5801 -122.229   \n",
       "3120      1.0           0     0          3  ...    98112  47.6231 -122.292   \n",
       "9705      2.0           0     0          3  ...    98052  47.7010 -122.111   \n",
       "13000     1.0           0     0          4  ...    98056  47.5139 -122.187   \n",
       "9783      1.0           0     0          3  ...    98014  47.6965 -121.922   \n",
       "\n",
       "       sqft_living15  sqft_lot15  year  month  day_of_month  day_of_week  \\\n",
       "2083            1900        9752  2014     12             8       Monday   \n",
       "3120            1350        4400  2014      8            11       Monday   \n",
       "9705            3200        6826  2014      5            12       Monday   \n",
       "13000           1320        7600  2014     11             4      Tuesday   \n",
       "9783            1640       15000  2014     12            30      Tuesday   \n",
       "\n",
       "        Z_price  \n",
       "2083   0.707978  \n",
       "3120  -0.517784  \n",
       "9705   0.574506  \n",
       "13000 -0.667599  \n",
       "9783  -0.545023  \n",
       "\n",
       "[5 rows x 25 columns]"
      ]
     },
     "execution_count": 51,
     "metadata": {},
     "output_type": "execute_result"
    }
   ],
   "source": [
    "data.head()"
   ]
  },
  {
   "cell_type": "code",
   "execution_count": 52,
   "id": "0d7b58f9",
   "metadata": {},
   "outputs": [
    {
     "data": {
      "text/plain": [
       "(5000, 25)"
      ]
     },
     "execution_count": 52,
     "metadata": {},
     "output_type": "execute_result"
    }
   ],
   "source": [
    "data.shape"
   ]
  },
  {
   "cell_type": "code",
   "execution_count": 53,
   "id": "83e67246",
   "metadata": {},
   "outputs": [
    {
     "data": {
      "text/plain": [
       "{False}"
      ]
     },
     "execution_count": 53,
     "metadata": {},
     "output_type": "execute_result"
    }
   ],
   "source": [
    "set(data.duplicated())"
   ]
  },
  {
   "cell_type": "code",
   "execution_count": 54,
   "id": "5beef96b",
   "metadata": {},
   "outputs": [],
   "source": [
    "data.to_csv('Houses_5000ex.csv')"
   ]
  },
  {
   "cell_type": "markdown",
   "id": "8e3f8968",
   "metadata": {},
   "source": [
    "## Load the data for Reg analysis"
   ]
  },
  {
   "cell_type": "code",
   "execution_count": 3,
   "id": "a445d370",
   "metadata": {},
   "outputs": [
    {
     "data": {
      "text/html": [
       "<div>\n",
       "<style scoped>\n",
       "    .dataframe tbody tr th:only-of-type {\n",
       "        vertical-align: middle;\n",
       "    }\n",
       "\n",
       "    .dataframe tbody tr th {\n",
       "        vertical-align: top;\n",
       "    }\n",
       "\n",
       "    .dataframe thead th {\n",
       "        text-align: right;\n",
       "    }\n",
       "</style>\n",
       "<table border=\"1\" class=\"dataframe\">\n",
       "  <thead>\n",
       "    <tr style=\"text-align: right;\">\n",
       "      <th></th>\n",
       "      <th>date</th>\n",
       "      <th>price</th>\n",
       "      <th>bedrooms</th>\n",
       "      <th>bathrooms</th>\n",
       "      <th>sqft_living</th>\n",
       "      <th>sqft_lot</th>\n",
       "      <th>floors</th>\n",
       "      <th>waterfront</th>\n",
       "      <th>view</th>\n",
       "      <th>condition</th>\n",
       "      <th>...</th>\n",
       "      <th>zipcode</th>\n",
       "      <th>lat</th>\n",
       "      <th>long</th>\n",
       "      <th>sqft_living15</th>\n",
       "      <th>sqft_lot15</th>\n",
       "      <th>year</th>\n",
       "      <th>month</th>\n",
       "      <th>day_of_month</th>\n",
       "      <th>day_of_week</th>\n",
       "      <th>Z_price</th>\n",
       "    </tr>\n",
       "  </thead>\n",
       "  <tbody>\n",
       "    <tr>\n",
       "      <th>0</th>\n",
       "      <td>2014-12-08</td>\n",
       "      <td>800000.0</td>\n",
       "      <td>4.0</td>\n",
       "      <td>2.5</td>\n",
       "      <td>2390</td>\n",
       "      <td>10000</td>\n",
       "      <td>1.0</td>\n",
       "      <td>0</td>\n",
       "      <td>0</td>\n",
       "      <td>3</td>\n",
       "      <td>...</td>\n",
       "      <td>98040</td>\n",
       "      <td>47.5801</td>\n",
       "      <td>-122.229</td>\n",
       "      <td>1900</td>\n",
       "      <td>9752</td>\n",
       "      <td>2014</td>\n",
       "      <td>12</td>\n",
       "      <td>8</td>\n",
       "      <td>Monday</td>\n",
       "      <td>0.707978</td>\n",
       "    </tr>\n",
       "    <tr>\n",
       "      <th>1</th>\n",
       "      <td>2014-08-11</td>\n",
       "      <td>350000.0</td>\n",
       "      <td>3.0</td>\n",
       "      <td>1.5</td>\n",
       "      <td>1320</td>\n",
       "      <td>4400</td>\n",
       "      <td>1.0</td>\n",
       "      <td>0</td>\n",
       "      <td>0</td>\n",
       "      <td>3</td>\n",
       "      <td>...</td>\n",
       "      <td>98112</td>\n",
       "      <td>47.6231</td>\n",
       "      <td>-122.292</td>\n",
       "      <td>1350</td>\n",
       "      <td>4400</td>\n",
       "      <td>2014</td>\n",
       "      <td>8</td>\n",
       "      <td>11</td>\n",
       "      <td>Monday</td>\n",
       "      <td>-0.517784</td>\n",
       "    </tr>\n",
       "    <tr>\n",
       "      <th>2</th>\n",
       "      <td>2014-05-12</td>\n",
       "      <td>751000.0</td>\n",
       "      <td>4.0</td>\n",
       "      <td>2.5</td>\n",
       "      <td>3110</td>\n",
       "      <td>6142</td>\n",
       "      <td>2.0</td>\n",
       "      <td>0</td>\n",
       "      <td>0</td>\n",
       "      <td>3</td>\n",
       "      <td>...</td>\n",
       "      <td>98052</td>\n",
       "      <td>47.7010</td>\n",
       "      <td>-122.111</td>\n",
       "      <td>3200</td>\n",
       "      <td>6826</td>\n",
       "      <td>2014</td>\n",
       "      <td>5</td>\n",
       "      <td>12</td>\n",
       "      <td>Monday</td>\n",
       "      <td>0.574506</td>\n",
       "    </tr>\n",
       "    <tr>\n",
       "      <th>3</th>\n",
       "      <td>2014-11-04</td>\n",
       "      <td>295000.0</td>\n",
       "      <td>3.0</td>\n",
       "      <td>1.0</td>\n",
       "      <td>1380</td>\n",
       "      <td>7575</td>\n",
       "      <td>1.0</td>\n",
       "      <td>0</td>\n",
       "      <td>0</td>\n",
       "      <td>4</td>\n",
       "      <td>...</td>\n",
       "      <td>98056</td>\n",
       "      <td>47.5139</td>\n",
       "      <td>-122.187</td>\n",
       "      <td>1320</td>\n",
       "      <td>7600</td>\n",
       "      <td>2014</td>\n",
       "      <td>11</td>\n",
       "      <td>4</td>\n",
       "      <td>Tuesday</td>\n",
       "      <td>-0.667599</td>\n",
       "    </tr>\n",
       "    <tr>\n",
       "      <th>4</th>\n",
       "      <td>2014-12-30</td>\n",
       "      <td>340000.0</td>\n",
       "      <td>3.0</td>\n",
       "      <td>2.0</td>\n",
       "      <td>1570</td>\n",
       "      <td>14992</td>\n",
       "      <td>1.0</td>\n",
       "      <td>0</td>\n",
       "      <td>0</td>\n",
       "      <td>3</td>\n",
       "      <td>...</td>\n",
       "      <td>98014</td>\n",
       "      <td>47.6965</td>\n",
       "      <td>-121.922</td>\n",
       "      <td>1640</td>\n",
       "      <td>15000</td>\n",
       "      <td>2014</td>\n",
       "      <td>12</td>\n",
       "      <td>30</td>\n",
       "      <td>Tuesday</td>\n",
       "      <td>-0.545023</td>\n",
       "    </tr>\n",
       "  </tbody>\n",
       "</table>\n",
       "<p>5 rows × 25 columns</p>\n",
       "</div>"
      ],
      "text/plain": [
       "         date     price  bedrooms  bathrooms  sqft_living  sqft_lot  floors  \\\n",
       "0  2014-12-08  800000.0       4.0        2.5         2390     10000     1.0   \n",
       "1  2014-08-11  350000.0       3.0        1.5         1320      4400     1.0   \n",
       "2  2014-05-12  751000.0       4.0        2.5         3110      6142     2.0   \n",
       "3  2014-11-04  295000.0       3.0        1.0         1380      7575     1.0   \n",
       "4  2014-12-30  340000.0       3.0        2.0         1570     14992     1.0   \n",
       "\n",
       "   waterfront  view  condition  ...  zipcode      lat     long  sqft_living15  \\\n",
       "0           0     0          3  ...    98040  47.5801 -122.229           1900   \n",
       "1           0     0          3  ...    98112  47.6231 -122.292           1350   \n",
       "2           0     0          3  ...    98052  47.7010 -122.111           3200   \n",
       "3           0     0          4  ...    98056  47.5139 -122.187           1320   \n",
       "4           0     0          3  ...    98014  47.6965 -121.922           1640   \n",
       "\n",
       "   sqft_lot15  year  month  day_of_month  day_of_week   Z_price  \n",
       "0        9752  2014     12             8       Monday  0.707978  \n",
       "1        4400  2014      8            11       Monday -0.517784  \n",
       "2        6826  2014      5            12       Monday  0.574506  \n",
       "3        7600  2014     11             4      Tuesday -0.667599  \n",
       "4       15000  2014     12            30      Tuesday -0.545023  \n",
       "\n",
       "[5 rows x 25 columns]"
      ]
     },
     "execution_count": 3,
     "metadata": {},
     "output_type": "execute_result"
    }
   ],
   "source": [
    "data = pd.read_csv('Houses_5000ex.csv')\n",
    "data.drop('Unnamed: 0', axis = 1, inplace = True)\n",
    "data.head()"
   ]
  },
  {
   "cell_type": "markdown",
   "id": "bcbf1c96",
   "metadata": {},
   "source": [
    "We see that we don't have any duplicated data in our smaller dataset made for ML analysis."
   ]
  },
  {
   "cell_type": "code",
   "execution_count": 4,
   "id": "7b4a9351",
   "metadata": {},
   "outputs": [
    {
     "data": {
      "text/html": [
       "<div>\n",
       "<style scoped>\n",
       "    .dataframe tbody tr th:only-of-type {\n",
       "        vertical-align: middle;\n",
       "    }\n",
       "\n",
       "    .dataframe tbody tr th {\n",
       "        vertical-align: top;\n",
       "    }\n",
       "\n",
       "    .dataframe thead th {\n",
       "        text-align: right;\n",
       "    }\n",
       "</style>\n",
       "<table border=\"1\" class=\"dataframe\">\n",
       "  <thead>\n",
       "    <tr style=\"text-align: right;\">\n",
       "      <th></th>\n",
       "      <th>date</th>\n",
       "      <th>price</th>\n",
       "      <th>bedrooms</th>\n",
       "      <th>bathrooms</th>\n",
       "      <th>sqft_living</th>\n",
       "      <th>sqft_lot</th>\n",
       "      <th>floors</th>\n",
       "      <th>waterfront</th>\n",
       "      <th>view</th>\n",
       "      <th>condition</th>\n",
       "      <th>...</th>\n",
       "      <th>zipcode</th>\n",
       "      <th>lat</th>\n",
       "      <th>long</th>\n",
       "      <th>sqft_living15</th>\n",
       "      <th>sqft_lot15</th>\n",
       "      <th>year</th>\n",
       "      <th>month</th>\n",
       "      <th>day_of_month</th>\n",
       "      <th>day_of_week</th>\n",
       "      <th>Z_price</th>\n",
       "    </tr>\n",
       "  </thead>\n",
       "  <tbody>\n",
       "    <tr>\n",
       "      <th>0</th>\n",
       "      <td>2014-12-08</td>\n",
       "      <td>800000.0</td>\n",
       "      <td>4.0</td>\n",
       "      <td>2.5</td>\n",
       "      <td>2390</td>\n",
       "      <td>10000</td>\n",
       "      <td>1.0</td>\n",
       "      <td>0</td>\n",
       "      <td>0</td>\n",
       "      <td>3</td>\n",
       "      <td>...</td>\n",
       "      <td>98040</td>\n",
       "      <td>47.5801</td>\n",
       "      <td>-122.229</td>\n",
       "      <td>1900</td>\n",
       "      <td>9752</td>\n",
       "      <td>2014</td>\n",
       "      <td>12</td>\n",
       "      <td>8</td>\n",
       "      <td>Monday</td>\n",
       "      <td>0.707978</td>\n",
       "    </tr>\n",
       "    <tr>\n",
       "      <th>1</th>\n",
       "      <td>2014-08-11</td>\n",
       "      <td>350000.0</td>\n",
       "      <td>3.0</td>\n",
       "      <td>1.5</td>\n",
       "      <td>1320</td>\n",
       "      <td>4400</td>\n",
       "      <td>1.0</td>\n",
       "      <td>0</td>\n",
       "      <td>0</td>\n",
       "      <td>3</td>\n",
       "      <td>...</td>\n",
       "      <td>98112</td>\n",
       "      <td>47.6231</td>\n",
       "      <td>-122.292</td>\n",
       "      <td>1350</td>\n",
       "      <td>4400</td>\n",
       "      <td>2014</td>\n",
       "      <td>8</td>\n",
       "      <td>11</td>\n",
       "      <td>Monday</td>\n",
       "      <td>-0.517784</td>\n",
       "    </tr>\n",
       "    <tr>\n",
       "      <th>2</th>\n",
       "      <td>2014-05-12</td>\n",
       "      <td>751000.0</td>\n",
       "      <td>4.0</td>\n",
       "      <td>2.5</td>\n",
       "      <td>3110</td>\n",
       "      <td>6142</td>\n",
       "      <td>2.0</td>\n",
       "      <td>0</td>\n",
       "      <td>0</td>\n",
       "      <td>3</td>\n",
       "      <td>...</td>\n",
       "      <td>98052</td>\n",
       "      <td>47.7010</td>\n",
       "      <td>-122.111</td>\n",
       "      <td>3200</td>\n",
       "      <td>6826</td>\n",
       "      <td>2014</td>\n",
       "      <td>5</td>\n",
       "      <td>12</td>\n",
       "      <td>Monday</td>\n",
       "      <td>0.574506</td>\n",
       "    </tr>\n",
       "    <tr>\n",
       "      <th>3</th>\n",
       "      <td>2014-11-04</td>\n",
       "      <td>295000.0</td>\n",
       "      <td>3.0</td>\n",
       "      <td>1.0</td>\n",
       "      <td>1380</td>\n",
       "      <td>7575</td>\n",
       "      <td>1.0</td>\n",
       "      <td>0</td>\n",
       "      <td>0</td>\n",
       "      <td>4</td>\n",
       "      <td>...</td>\n",
       "      <td>98056</td>\n",
       "      <td>47.5139</td>\n",
       "      <td>-122.187</td>\n",
       "      <td>1320</td>\n",
       "      <td>7600</td>\n",
       "      <td>2014</td>\n",
       "      <td>11</td>\n",
       "      <td>4</td>\n",
       "      <td>Tuesday</td>\n",
       "      <td>-0.667599</td>\n",
       "    </tr>\n",
       "    <tr>\n",
       "      <th>4</th>\n",
       "      <td>2014-12-30</td>\n",
       "      <td>340000.0</td>\n",
       "      <td>3.0</td>\n",
       "      <td>2.0</td>\n",
       "      <td>1570</td>\n",
       "      <td>14992</td>\n",
       "      <td>1.0</td>\n",
       "      <td>0</td>\n",
       "      <td>0</td>\n",
       "      <td>3</td>\n",
       "      <td>...</td>\n",
       "      <td>98014</td>\n",
       "      <td>47.6965</td>\n",
       "      <td>-121.922</td>\n",
       "      <td>1640</td>\n",
       "      <td>15000</td>\n",
       "      <td>2014</td>\n",
       "      <td>12</td>\n",
       "      <td>30</td>\n",
       "      <td>Tuesday</td>\n",
       "      <td>-0.545023</td>\n",
       "    </tr>\n",
       "  </tbody>\n",
       "</table>\n",
       "<p>5 rows × 25 columns</p>\n",
       "</div>"
      ],
      "text/plain": [
       "         date     price  bedrooms  bathrooms  sqft_living  sqft_lot  floors  \\\n",
       "0  2014-12-08  800000.0       4.0        2.5         2390     10000     1.0   \n",
       "1  2014-08-11  350000.0       3.0        1.5         1320      4400     1.0   \n",
       "2  2014-05-12  751000.0       4.0        2.5         3110      6142     2.0   \n",
       "3  2014-11-04  295000.0       3.0        1.0         1380      7575     1.0   \n",
       "4  2014-12-30  340000.0       3.0        2.0         1570     14992     1.0   \n",
       "\n",
       "   waterfront  view  condition  ...  zipcode      lat     long  sqft_living15  \\\n",
       "0           0     0          3  ...    98040  47.5801 -122.229           1900   \n",
       "1           0     0          3  ...    98112  47.6231 -122.292           1350   \n",
       "2           0     0          3  ...    98052  47.7010 -122.111           3200   \n",
       "3           0     0          4  ...    98056  47.5139 -122.187           1320   \n",
       "4           0     0          3  ...    98014  47.6965 -121.922           1640   \n",
       "\n",
       "   sqft_lot15  year  month  day_of_month  day_of_week   Z_price  \n",
       "0        9752  2014     12             8       Monday  0.707978  \n",
       "1        4400  2014      8            11       Monday -0.517784  \n",
       "2        6826  2014      5            12       Monday  0.574506  \n",
       "3        7600  2014     11             4      Tuesday -0.667599  \n",
       "4       15000  2014     12            30      Tuesday -0.545023  \n",
       "\n",
       "[5 rows x 25 columns]"
      ]
     },
     "execution_count": 4,
     "metadata": {},
     "output_type": "execute_result"
    }
   ],
   "source": [
    "X = data.copy()\n",
    "X.head()"
   ]
  },
  {
   "cell_type": "code",
   "execution_count": 5,
   "id": "c2f7e359",
   "metadata": {},
   "outputs": [
    {
     "data": {
      "text/html": [
       "<div>\n",
       "<style scoped>\n",
       "    .dataframe tbody tr th:only-of-type {\n",
       "        vertical-align: middle;\n",
       "    }\n",
       "\n",
       "    .dataframe tbody tr th {\n",
       "        vertical-align: top;\n",
       "    }\n",
       "\n",
       "    .dataframe thead th {\n",
       "        text-align: right;\n",
       "    }\n",
       "</style>\n",
       "<table border=\"1\" class=\"dataframe\">\n",
       "  <thead>\n",
       "    <tr style=\"text-align: right;\">\n",
       "      <th></th>\n",
       "      <th>bedrooms</th>\n",
       "      <th>bathrooms</th>\n",
       "      <th>sqft_living</th>\n",
       "      <th>sqft_lot</th>\n",
       "      <th>floors</th>\n",
       "      <th>waterfront</th>\n",
       "      <th>view</th>\n",
       "      <th>condition</th>\n",
       "      <th>grade</th>\n",
       "      <th>sqft_above</th>\n",
       "      <th>sqft_basement</th>\n",
       "      <th>yr_built</th>\n",
       "      <th>yr_renovated</th>\n",
       "      <th>lat</th>\n",
       "      <th>long</th>\n",
       "      <th>month</th>\n",
       "      <th>day_of_month</th>\n",
       "    </tr>\n",
       "  </thead>\n",
       "  <tbody>\n",
       "    <tr>\n",
       "      <th>0</th>\n",
       "      <td>4.0</td>\n",
       "      <td>2.5</td>\n",
       "      <td>2390</td>\n",
       "      <td>10000</td>\n",
       "      <td>1.0</td>\n",
       "      <td>0</td>\n",
       "      <td>0</td>\n",
       "      <td>3</td>\n",
       "      <td>9</td>\n",
       "      <td>1590</td>\n",
       "      <td>800</td>\n",
       "      <td>1975</td>\n",
       "      <td>0</td>\n",
       "      <td>47.5801</td>\n",
       "      <td>-122.229</td>\n",
       "      <td>12</td>\n",
       "      <td>8</td>\n",
       "    </tr>\n",
       "    <tr>\n",
       "      <th>1</th>\n",
       "      <td>3.0</td>\n",
       "      <td>1.5</td>\n",
       "      <td>1320</td>\n",
       "      <td>4400</td>\n",
       "      <td>1.0</td>\n",
       "      <td>0</td>\n",
       "      <td>0</td>\n",
       "      <td>3</td>\n",
       "      <td>6</td>\n",
       "      <td>1320</td>\n",
       "      <td>0</td>\n",
       "      <td>1909</td>\n",
       "      <td>0</td>\n",
       "      <td>47.6231</td>\n",
       "      <td>-122.292</td>\n",
       "      <td>8</td>\n",
       "      <td>11</td>\n",
       "    </tr>\n",
       "    <tr>\n",
       "      <th>2</th>\n",
       "      <td>4.0</td>\n",
       "      <td>2.5</td>\n",
       "      <td>3110</td>\n",
       "      <td>6142</td>\n",
       "      <td>2.0</td>\n",
       "      <td>0</td>\n",
       "      <td>0</td>\n",
       "      <td>3</td>\n",
       "      <td>9</td>\n",
       "      <td>3110</td>\n",
       "      <td>0</td>\n",
       "      <td>2004</td>\n",
       "      <td>0</td>\n",
       "      <td>47.7010</td>\n",
       "      <td>-122.111</td>\n",
       "      <td>5</td>\n",
       "      <td>12</td>\n",
       "    </tr>\n",
       "    <tr>\n",
       "      <th>3</th>\n",
       "      <td>3.0</td>\n",
       "      <td>1.0</td>\n",
       "      <td>1380</td>\n",
       "      <td>7575</td>\n",
       "      <td>1.0</td>\n",
       "      <td>0</td>\n",
       "      <td>0</td>\n",
       "      <td>4</td>\n",
       "      <td>7</td>\n",
       "      <td>1380</td>\n",
       "      <td>0</td>\n",
       "      <td>1963</td>\n",
       "      <td>0</td>\n",
       "      <td>47.5139</td>\n",
       "      <td>-122.187</td>\n",
       "      <td>11</td>\n",
       "      <td>4</td>\n",
       "    </tr>\n",
       "    <tr>\n",
       "      <th>4</th>\n",
       "      <td>3.0</td>\n",
       "      <td>2.0</td>\n",
       "      <td>1570</td>\n",
       "      <td>14992</td>\n",
       "      <td>1.0</td>\n",
       "      <td>0</td>\n",
       "      <td>0</td>\n",
       "      <td>3</td>\n",
       "      <td>8</td>\n",
       "      <td>1570</td>\n",
       "      <td>0</td>\n",
       "      <td>2001</td>\n",
       "      <td>0</td>\n",
       "      <td>47.6965</td>\n",
       "      <td>-121.922</td>\n",
       "      <td>12</td>\n",
       "      <td>30</td>\n",
       "    </tr>\n",
       "  </tbody>\n",
       "</table>\n",
       "</div>"
      ],
      "text/plain": [
       "   bedrooms  bathrooms  sqft_living  sqft_lot  floors  waterfront  view  \\\n",
       "0       4.0        2.5         2390     10000     1.0           0     0   \n",
       "1       3.0        1.5         1320      4400     1.0           0     0   \n",
       "2       4.0        2.5         3110      6142     2.0           0     0   \n",
       "3       3.0        1.0         1380      7575     1.0           0     0   \n",
       "4       3.0        2.0         1570     14992     1.0           0     0   \n",
       "\n",
       "   condition  grade  sqft_above  sqft_basement  yr_built  yr_renovated  \\\n",
       "0          3      9        1590            800      1975             0   \n",
       "1          3      6        1320              0      1909             0   \n",
       "2          3      9        3110              0      2004             0   \n",
       "3          4      7        1380              0      1963             0   \n",
       "4          3      8        1570              0      2001             0   \n",
       "\n",
       "       lat     long  month  day_of_month  \n",
       "0  47.5801 -122.229     12             8  \n",
       "1  47.6231 -122.292      8            11  \n",
       "2  47.7010 -122.111      5            12  \n",
       "3  47.5139 -122.187     11             4  \n",
       "4  47.6965 -121.922     12            30  "
      ]
     },
     "execution_count": 5,
     "metadata": {},
     "output_type": "execute_result"
    }
   ],
   "source": [
    "X = X.drop('date', axis = 1)\n",
    "X = X.drop('price', axis = 1)\n",
    "X = X.drop('Z_price', axis = 1)\n",
    "X = X.drop('zipcode', axis = 1)\n",
    "X = X.drop('day_of_week', axis = 1)\n",
    "X = X.drop('sqft_living15', axis = 1)\n",
    "X = X.drop('sqft_lot15', axis = 1)\n",
    "X = X.drop('year', axis = 1)\n",
    "y = data['price']\n",
    "X.head()"
   ]
  },
  {
   "cell_type": "code",
   "execution_count": 6,
   "id": "6360d089",
   "metadata": {},
   "outputs": [
    {
     "name": "stdout",
     "output_type": "stream",
     "text": [
      "Shape of X: (5000, 17)\n",
      "Shape of y (5000,)\n"
     ]
    }
   ],
   "source": [
    "print('Shape of X:', X.shape)\n",
    "print('Shape of y', y.shape)"
   ]
  },
  {
   "cell_type": "markdown",
   "id": "3e18e529",
   "metadata": {},
   "source": [
    "Now we are ready to perform simple linear regression analysis for our data."
   ]
  },
  {
   "cell_type": "markdown",
   "id": "da93dfae",
   "metadata": {},
   "source": [
    "To perform feature analysis we may not divide our dataset for train and test data, we can fit the entire datasert and check the results."
   ]
  },
  {
   "cell_type": "code",
   "execution_count": 7,
   "id": "138741ad",
   "metadata": {},
   "outputs": [
    {
     "name": "stdout",
     "output_type": "stream",
     "text": [
      "<class 'pandas.core.frame.DataFrame'>\n",
      "RangeIndex: 5000 entries, 0 to 4999\n",
      "Data columns (total 17 columns):\n",
      " #   Column         Non-Null Count  Dtype  \n",
      "---  ------         --------------  -----  \n",
      " 0   bedrooms       5000 non-null   float64\n",
      " 1   bathrooms      5000 non-null   float64\n",
      " 2   sqft_living    5000 non-null   int64  \n",
      " 3   sqft_lot       5000 non-null   int64  \n",
      " 4   floors         5000 non-null   float64\n",
      " 5   waterfront     5000 non-null   int64  \n",
      " 6   view           5000 non-null   int64  \n",
      " 7   condition      5000 non-null   int64  \n",
      " 8   grade          5000 non-null   int64  \n",
      " 9   sqft_above     5000 non-null   int64  \n",
      " 10  sqft_basement  5000 non-null   int64  \n",
      " 11  yr_built       5000 non-null   int64  \n",
      " 12  yr_renovated   5000 non-null   int64  \n",
      " 13  lat            5000 non-null   float64\n",
      " 14  long           5000 non-null   float64\n",
      " 15  month          5000 non-null   int64  \n",
      " 16  day_of_month   5000 non-null   int64  \n",
      "dtypes: float64(5), int64(12)\n",
      "memory usage: 664.2 KB\n"
     ]
    }
   ],
   "source": [
    "X.info()"
   ]
  },
  {
   "cell_type": "code",
   "execution_count": 8,
   "id": "7b0b5db9",
   "metadata": {},
   "outputs": [
    {
     "data": {
      "text/plain": [
       "<bound method Series.info of 0        800000.0\n",
       "1        350000.0\n",
       "2        751000.0\n",
       "3        295000.0\n",
       "4        340000.0\n",
       "          ...    \n",
       "4995     250000.0\n",
       "4996     420000.0\n",
       "4997     334990.0\n",
       "4998    1862000.0\n",
       "4999     269950.0\n",
       "Name: price, Length: 5000, dtype: float64>"
      ]
     },
     "execution_count": 8,
     "metadata": {},
     "output_type": "execute_result"
    }
   ],
   "source": [
    "y.info"
   ]
  },
  {
   "cell_type": "markdown",
   "id": "20b0c030",
   "metadata": {},
   "source": [
    "We don't have object or null variables so we are able to train the model."
   ]
  },
  {
   "cell_type": "markdown",
   "id": "913a434a",
   "metadata": {},
   "source": [
    "Lets transform our variables for proper training results:"
   ]
  },
  {
   "cell_type": "code",
   "execution_count": 9,
   "id": "f28d5e58",
   "metadata": {},
   "outputs": [],
   "source": [
    "X_minmax = MinMaxScaler().fit_transform(X)\n",
    "y_sqrt = np.sqrt(y)"
   ]
  },
  {
   "cell_type": "code",
   "execution_count": 10,
   "id": "0d01a8c8",
   "metadata": {},
   "outputs": [
    {
     "name": "stderr",
     "output_type": "stream",
     "text": [
      "C:\\Users\\PNarnov\\Anaconda3\\lib\\site-packages\\seaborn\\distributions.py:2619: FutureWarning: `distplot` is a deprecated function and will be removed in a future version. Please adapt your code to use either `displot` (a figure-level function with similar flexibility) or `histplot` (an axes-level function for histograms).\n",
      "  warnings.warn(msg, FutureWarning)\n"
     ]
    },
    {
     "data": {
      "image/png": "[encoded data removed]",
      "text/plain": [
       "<Figure size 720x432 with 1 Axes>"
      ]
     },
     "metadata": {
      "needs_background": "light"
     },
     "output_type": "display_data"
    }
   ],
   "source": [
    "plt.figure(figsize = (10,6))\n",
    "sns.distplot(y_sqrt, color = 'darkblue')\n",
    "plt.show()"
   ]
  },
  {
   "cell_type": "code",
   "execution_count": 11,
   "id": "04674e34",
   "metadata": {},
   "outputs": [
    {
     "name": "stdout",
     "output_type": "stream",
     "text": [
      "0.750654365545991\n"
     ]
    }
   ],
   "source": [
    "LR = LinearRegression()\n",
    "LR = LR.fit(X_minmax, y_sqrt)\n",
    "y_pred = LR.predict(X_minmax)\n",
    "score = r2_score(y, y_pred**2)\n",
    "print(score)"
   ]
  },
  {
   "cell_type": "code",
   "execution_count": 12,
   "id": "fba5af31",
   "metadata": {},
   "outputs": [
    {
     "data": {
      "text/plain": [
       "array([-116.85496472,  212.95566483,  396.33918276,   44.82996332,\n",
       "         24.31488271,  189.30849591,  130.7564113 ,   89.8465055 ,\n",
       "        618.6269517 ,  493.67684577,  183.61043062, -159.85870722,\n",
       "         25.44988798,  277.98512689,  -18.37846085,  -15.52958343,\n",
       "         -4.41775438])"
      ]
     },
     "execution_count": 12,
     "metadata": {},
     "output_type": "execute_result"
    }
   ],
   "source": [
    "LR.coef_"
   ]
  },
  {
   "cell_type": "markdown",
   "id": "47d29bbf",
   "metadata": {},
   "source": [
    "We see that Linear regression for sqrt transformed y variable gives us high r2 score results which are sutable for futher analysis."
   ]
  },
  {
   "cell_type": "code",
   "execution_count": 13,
   "id": "65af775e",
   "metadata": {
    "scrolled": false
   },
   "outputs": [
    {
     "data": {
      "text/html": [
       "<div>\n",
       "<style scoped>\n",
       "    .dataframe tbody tr th:only-of-type {\n",
       "        vertical-align: middle;\n",
       "    }\n",
       "\n",
       "    .dataframe tbody tr th {\n",
       "        vertical-align: top;\n",
       "    }\n",
       "\n",
       "    .dataframe thead th {\n",
       "        text-align: right;\n",
       "    }\n",
       "</style>\n",
       "<table border=\"1\" class=\"dataframe\">\n",
       "  <thead>\n",
       "    <tr style=\"text-align: right;\">\n",
       "      <th></th>\n",
       "      <th>0</th>\n",
       "      <th>1</th>\n",
       "    </tr>\n",
       "  </thead>\n",
       "  <tbody>\n",
       "    <tr>\n",
       "      <th>11</th>\n",
       "      <td>yr_built</td>\n",
       "      <td>-159.858707</td>\n",
       "    </tr>\n",
       "    <tr>\n",
       "      <th>0</th>\n",
       "      <td>bedrooms</td>\n",
       "      <td>-116.854965</td>\n",
       "    </tr>\n",
       "    <tr>\n",
       "      <th>14</th>\n",
       "      <td>long</td>\n",
       "      <td>-18.378461</td>\n",
       "    </tr>\n",
       "    <tr>\n",
       "      <th>15</th>\n",
       "      <td>month</td>\n",
       "      <td>-15.529583</td>\n",
       "    </tr>\n",
       "    <tr>\n",
       "      <th>16</th>\n",
       "      <td>day_of_month</td>\n",
       "      <td>-4.417754</td>\n",
       "    </tr>\n",
       "    <tr>\n",
       "      <th>4</th>\n",
       "      <td>floors</td>\n",
       "      <td>24.314883</td>\n",
       "    </tr>\n",
       "    <tr>\n",
       "      <th>12</th>\n",
       "      <td>yr_renovated</td>\n",
       "      <td>25.449888</td>\n",
       "    </tr>\n",
       "    <tr>\n",
       "      <th>3</th>\n",
       "      <td>sqft_lot</td>\n",
       "      <td>44.829963</td>\n",
       "    </tr>\n",
       "    <tr>\n",
       "      <th>7</th>\n",
       "      <td>condition</td>\n",
       "      <td>89.846506</td>\n",
       "    </tr>\n",
       "    <tr>\n",
       "      <th>6</th>\n",
       "      <td>view</td>\n",
       "      <td>130.756411</td>\n",
       "    </tr>\n",
       "    <tr>\n",
       "      <th>10</th>\n",
       "      <td>sqft_basement</td>\n",
       "      <td>183.610431</td>\n",
       "    </tr>\n",
       "    <tr>\n",
       "      <th>5</th>\n",
       "      <td>waterfront</td>\n",
       "      <td>189.308496</td>\n",
       "    </tr>\n",
       "    <tr>\n",
       "      <th>1</th>\n",
       "      <td>bathrooms</td>\n",
       "      <td>212.955665</td>\n",
       "    </tr>\n",
       "    <tr>\n",
       "      <th>13</th>\n",
       "      <td>lat</td>\n",
       "      <td>277.985127</td>\n",
       "    </tr>\n",
       "    <tr>\n",
       "      <th>2</th>\n",
       "      <td>sqft_living</td>\n",
       "      <td>396.339183</td>\n",
       "    </tr>\n",
       "    <tr>\n",
       "      <th>9</th>\n",
       "      <td>sqft_above</td>\n",
       "      <td>493.676846</td>\n",
       "    </tr>\n",
       "    <tr>\n",
       "      <th>8</th>\n",
       "      <td>grade</td>\n",
       "      <td>618.626952</td>\n",
       "    </tr>\n",
       "  </tbody>\n",
       "</table>\n",
       "</div>"
      ],
      "text/plain": [
       "                0           1\n",
       "11       yr_built -159.858707\n",
       "0        bedrooms -116.854965\n",
       "14           long  -18.378461\n",
       "15          month  -15.529583\n",
       "16   day_of_month   -4.417754\n",
       "4          floors   24.314883\n",
       "12   yr_renovated   25.449888\n",
       "3        sqft_lot   44.829963\n",
       "7       condition   89.846506\n",
       "6            view  130.756411\n",
       "10  sqft_basement  183.610431\n",
       "5      waterfront  189.308496\n",
       "1       bathrooms  212.955665\n",
       "13            lat  277.985127\n",
       "2     sqft_living  396.339183\n",
       "9      sqft_above  493.676846\n",
       "8           grade  618.626952"
      ]
     },
     "execution_count": 13,
     "metadata": {},
     "output_type": "execute_result"
    }
   ],
   "source": [
    "coef_vals = pd.DataFrame(zip(X.columns.values, LR.coef_))\n",
    "coef_vals.sort_values(by = 1)"
   ]
  },
  {
   "cell_type": "code",
   "execution_count": 14,
   "id": "ffd3305b",
   "metadata": {},
   "outputs": [
    {
     "data": {
      "image/png": "[encoded data removed]",
      "text/plain": [
       "<Figure size 648x360 with 1 Axes>"
      ]
     },
     "metadata": {
      "needs_background": "light"
     },
     "output_type": "display_data"
    }
   ],
   "source": [
    "coef_vals.set_index(0, inplace = True)\n",
    "\n",
    "plt.figure(figsize = (9,5))\n",
    "coef_vals[1].sort_values(ascending = False).plot(kind = 'bar', color = 'purple')\n",
    "plt.title('Bar plot for the coefficients for the LinR model')\n",
    "plt.ylabel('Magnitude of the coefficients')\n",
    "plt.xlabel('The features of the model')\n",
    "plt.grid()\n",
    "plt.show()"
   ]
  },
  {
   "cell_type": "markdown",
   "id": "40756f48",
   "metadata": {},
   "source": [
    "### RFE method to find N best parameters for Linear Regression!"
   ]
  },
  {
   "cell_type": "code",
   "execution_count": 15,
   "id": "add3cc34",
   "metadata": {},
   "outputs": [],
   "source": [
    "from sklearn.feature_selection import RFE\n",
    "rfe_mod = RFE(LR, n_features_to_select = 1, importance_getter = 'auto')\n",
    "rfe_mod = rfe_mod.fit(X_minmax, y_sqrt)\n",
    "y_hat = rfe_mod.predict(X_minmax)"
   ]
  },
  {
   "cell_type": "markdown",
   "id": "0d4ced07",
   "metadata": {},
   "source": [
    "Method which is described below is the method to get several (10) features with the highest influence on our target variable. \n",
    "We need to compare these attributes with correlation barplot."
   ]
  },
  {
   "cell_type": "code",
   "execution_count": 16,
   "id": "e9180e0f",
   "metadata": {
    "scrolled": true
   },
   "outputs": [
    {
     "name": "stdout",
     "output_type": "stream",
     "text": [
      "['sqft_living']\n"
     ]
    }
   ],
   "source": [
    "print(rfe_mod.get_feature_names_out(input_features = X.columns.values))"
   ]
  },
  {
   "cell_type": "code",
   "execution_count": 17,
   "id": "c14c62cb",
   "metadata": {},
   "outputs": [
    {
     "data": {
      "text/plain": [
       "0.5065911775324223"
      ]
     },
     "execution_count": 17,
     "metadata": {},
     "output_type": "execute_result"
    }
   ],
   "source": [
    "r2_score(y, y_hat**2)"
   ]
  },
  {
   "cell_type": "code",
   "execution_count": 18,
   "id": "1a77a02b",
   "metadata": {},
   "outputs": [
    {
     "data": {
      "text/plain": [
       "array([10,  7,  1, 12, 13,  5,  9, 11,  4,  2,  3,  8, 14,  6, 15, 16, 17])"
      ]
     },
     "execution_count": 18,
     "metadata": {},
     "output_type": "execute_result"
    }
   ],
   "source": [
    "rfe_mod.ranking_"
   ]
  },
  {
   "cell_type": "code",
   "execution_count": 19,
   "id": "ea2d02dd",
   "metadata": {
    "scrolled": false
   },
   "outputs": [
    {
     "data": {
      "text/html": [
       "<div>\n",
       "<style scoped>\n",
       "    .dataframe tbody tr th:only-of-type {\n",
       "        vertical-align: middle;\n",
       "    }\n",
       "\n",
       "    .dataframe tbody tr th {\n",
       "        vertical-align: top;\n",
       "    }\n",
       "\n",
       "    .dataframe thead th {\n",
       "        text-align: right;\n",
       "    }\n",
       "</style>\n",
       "<table border=\"1\" class=\"dataframe\">\n",
       "  <thead>\n",
       "    <tr style=\"text-align: right;\">\n",
       "      <th></th>\n",
       "      <th>0</th>\n",
       "      <th>1</th>\n",
       "    </tr>\n",
       "  </thead>\n",
       "  <tbody>\n",
       "    <tr>\n",
       "      <th>2</th>\n",
       "      <td>sqft_living</td>\n",
       "      <td>1</td>\n",
       "    </tr>\n",
       "    <tr>\n",
       "      <th>9</th>\n",
       "      <td>sqft_above</td>\n",
       "      <td>2</td>\n",
       "    </tr>\n",
       "    <tr>\n",
       "      <th>10</th>\n",
       "      <td>sqft_basement</td>\n",
       "      <td>3</td>\n",
       "    </tr>\n",
       "    <tr>\n",
       "      <th>8</th>\n",
       "      <td>grade</td>\n",
       "      <td>4</td>\n",
       "    </tr>\n",
       "    <tr>\n",
       "      <th>5</th>\n",
       "      <td>waterfront</td>\n",
       "      <td>5</td>\n",
       "    </tr>\n",
       "    <tr>\n",
       "      <th>13</th>\n",
       "      <td>lat</td>\n",
       "      <td>6</td>\n",
       "    </tr>\n",
       "    <tr>\n",
       "      <th>1</th>\n",
       "      <td>bathrooms</td>\n",
       "      <td>7</td>\n",
       "    </tr>\n",
       "    <tr>\n",
       "      <th>11</th>\n",
       "      <td>yr_built</td>\n",
       "      <td>8</td>\n",
       "    </tr>\n",
       "    <tr>\n",
       "      <th>6</th>\n",
       "      <td>view</td>\n",
       "      <td>9</td>\n",
       "    </tr>\n",
       "    <tr>\n",
       "      <th>0</th>\n",
       "      <td>bedrooms</td>\n",
       "      <td>10</td>\n",
       "    </tr>\n",
       "    <tr>\n",
       "      <th>7</th>\n",
       "      <td>condition</td>\n",
       "      <td>11</td>\n",
       "    </tr>\n",
       "    <tr>\n",
       "      <th>3</th>\n",
       "      <td>sqft_lot</td>\n",
       "      <td>12</td>\n",
       "    </tr>\n",
       "    <tr>\n",
       "      <th>4</th>\n",
       "      <td>floors</td>\n",
       "      <td>13</td>\n",
       "    </tr>\n",
       "    <tr>\n",
       "      <th>12</th>\n",
       "      <td>yr_renovated</td>\n",
       "      <td>14</td>\n",
       "    </tr>\n",
       "    <tr>\n",
       "      <th>14</th>\n",
       "      <td>long</td>\n",
       "      <td>15</td>\n",
       "    </tr>\n",
       "    <tr>\n",
       "      <th>15</th>\n",
       "      <td>month</td>\n",
       "      <td>16</td>\n",
       "    </tr>\n",
       "    <tr>\n",
       "      <th>16</th>\n",
       "      <td>day_of_month</td>\n",
       "      <td>17</td>\n",
       "    </tr>\n",
       "  </tbody>\n",
       "</table>\n",
       "</div>"
      ],
      "text/plain": [
       "                0   1\n",
       "2     sqft_living   1\n",
       "9      sqft_above   2\n",
       "10  sqft_basement   3\n",
       "8           grade   4\n",
       "5      waterfront   5\n",
       "13            lat   6\n",
       "1       bathrooms   7\n",
       "11       yr_built   8\n",
       "6            view   9\n",
       "0        bedrooms  10\n",
       "7       condition  11\n",
       "3        sqft_lot  12\n",
       "4          floors  13\n",
       "12   yr_renovated  14\n",
       "14           long  15\n",
       "15          month  16\n",
       "16   day_of_month  17"
      ]
     },
     "execution_count": 19,
     "metadata": {},
     "output_type": "execute_result"
    }
   ],
   "source": [
    "coef_rank = pd.DataFrame(zip(X.columns.values, rfe_mod.ranking_))\n",
    "coef_rank.sort_values(by = 1)"
   ]
  },
  {
   "cell_type": "code",
   "execution_count": 20,
   "id": "f7b71193",
   "metadata": {},
   "outputs": [
    {
     "data": {
      "text/plain": [
       "17"
      ]
     },
     "execution_count": 20,
     "metadata": {},
     "output_type": "execute_result"
    }
   ],
   "source": [
    "len(X.columns)"
   ]
  },
  {
   "cell_type": "code",
   "execution_count": 21,
   "id": "09f6e356",
   "metadata": {},
   "outputs": [
    {
     "data": {
      "text/plain": [
       "{1: 0.5065911775324223,\n",
       " 2: 0.5064145476467575,\n",
       " 3: 0.505644276941646,\n",
       " 4: 0.5840024524218367,\n",
       " 5: 0.6202490098971751,\n",
       " 6: 0.6882776510630249,\n",
       " 7: 0.6889034991470262,\n",
       " 8: 0.7333946439153439,\n",
       " 9: 0.7451113535193258,\n",
       " 10: 0.7470935708477076,\n",
       " 11: 0.7505953983099597,\n",
       " 12: 0.7501591660307227,\n",
       " 13: 0.7493968120118994,\n",
       " 14: 0.7499584605345038,\n",
       " 15: 0.750342360847142,\n",
       " 16: 0.7505800754365719,\n",
       " 17: 0.750654365545991}"
      ]
     },
     "execution_count": 21,
     "metadata": {},
     "output_type": "execute_result"
    }
   ],
   "source": [
    "scores = {}\n",
    "for i in range(len(X.columns)):\n",
    "    rfe_mod = RFE(LR, n_features_to_select = i+1)\n",
    "    rfe_mod = rfe_mod.fit(X_minmax, y_sqrt)\n",
    "    y_hat = rfe_mod.predict(X_minmax)\n",
    "    scores[i+1] = (r2_score(y, y_hat**2))\n",
    "    \n",
    "scores"
   ]
  },
  {
   "cell_type": "code",
   "execution_count": 22,
   "id": "53d80072",
   "metadata": {},
   "outputs": [
    {
     "data": {
      "image/png": "[encoded data removed]",
      "text/plain": [
       "<Figure size 1008x432 with 1 Axes>"
      ]
     },
     "metadata": {
      "needs_background": "light"
     },
     "output_type": "display_data"
    }
   ],
   "source": [
    "plt.figure(figsize = (14,6))\n",
    "fig = sns.lineplot(x = scores.keys(), y = scores.values())\n",
    "plt.title('Dependence of r2 to quantity of coefficients:')\n",
    "plt.grid()\n",
    "plt.show()"
   ]
  },
  {
   "cell_type": "markdown",
   "id": "7902f8ec",
   "metadata": {},
   "source": [
    "Line plot analysis shows us that 11 variables are enough for Linear Regression moddeling. We have R2 score = 0.75 having only 11 features from our dataset. It is better to cut quantity of features to avoid model overfiiting.\n",
    "We also see that sqft_above and sqft_basement are the 2nd and the 3rd essential variables but they do not improve r2 results due to these variables are strongly correlated with sqf_living. Lets remove these two variables for futher analysis."
   ]
  },
  {
   "cell_type": "markdown",
   "id": "0d88041b",
   "metadata": {},
   "source": [
    "For our Lasso analysis we may leave 10 most important variables. I suppose it's good idea to reject sqft_living15 and sqft_lot15 beacose these variables seem to be the duplicates of sqft_living and sqft_lot."
   ]
  },
  {
   "cell_type": "markdown",
   "id": "02d19c34",
   "metadata": {},
   "source": [
    "It is possible to choose variables for simplified analysis using RFE method. RFE method for Liear Regression shows that some results of influencive variables are different in comparison with the results of correlation analysis. I suppose this this difference may be connected to scaling of the data. RFE method should give us more accureate results."
   ]
  },
  {
   "cell_type": "code",
   "execution_count": 23,
   "id": "d34dfcd6",
   "metadata": {},
   "outputs": [
    {
     "name": "stdout",
     "output_type": "stream",
     "text": [
      "['bedrooms' 'bathrooms' 'sqft_living' 'waterfront' 'view' 'condition'\n",
      " 'grade' 'sqft_above' 'sqft_basement' 'yr_built' 'lat']\n"
     ]
    }
   ],
   "source": [
    "from sklearn.feature_selection import RFE\n",
    "rfe_mod = RFE(LR, n_features_to_select = 11)\n",
    "rfe_mod = rfe_mod.fit(X_minmax, y_sqrt)\n",
    "y_hat = rfe_mod.predict(X_minmax)\n",
    "print(rfe_mod.get_feature_names_out(input_features = X.columns.values))"
   ]
  },
  {
   "cell_type": "code",
   "execution_count": 102,
   "id": "a2bb4479",
   "metadata": {},
   "outputs": [
    {
     "data": {
      "text/plain": [
       "(5000, 25)"
      ]
     },
     "execution_count": 102,
     "metadata": {},
     "output_type": "execute_result"
    }
   ],
   "source": [
    "data.shape"
   ]
  },
  {
   "cell_type": "code",
   "execution_count": 24,
   "id": "cbaf306f",
   "metadata": {},
   "outputs": [
    {
     "data": {
      "text/html": [
       "<div>\n",
       "<style scoped>\n",
       "    .dataframe tbody tr th:only-of-type {\n",
       "        vertical-align: middle;\n",
       "    }\n",
       "\n",
       "    .dataframe tbody tr th {\n",
       "        vertical-align: top;\n",
       "    }\n",
       "\n",
       "    .dataframe thead th {\n",
       "        text-align: right;\n",
       "    }\n",
       "</style>\n",
       "<table border=\"1\" class=\"dataframe\">\n",
       "  <thead>\n",
       "    <tr style=\"text-align: right;\">\n",
       "      <th></th>\n",
       "      <th>bedrooms</th>\n",
       "      <th>bathrooms</th>\n",
       "      <th>sqft_living</th>\n",
       "      <th>waterfront</th>\n",
       "      <th>view</th>\n",
       "      <th>condition</th>\n",
       "      <th>grade</th>\n",
       "      <th>yr_built</th>\n",
       "      <th>lat</th>\n",
       "      <th>price</th>\n",
       "    </tr>\n",
       "  </thead>\n",
       "  <tbody>\n",
       "    <tr>\n",
       "      <th>0</th>\n",
       "      <td>4.0</td>\n",
       "      <td>2.5</td>\n",
       "      <td>2390</td>\n",
       "      <td>0</td>\n",
       "      <td>0</td>\n",
       "      <td>3</td>\n",
       "      <td>9</td>\n",
       "      <td>1975</td>\n",
       "      <td>47.5801</td>\n",
       "      <td>800000.0</td>\n",
       "    </tr>\n",
       "    <tr>\n",
       "      <th>1</th>\n",
       "      <td>3.0</td>\n",
       "      <td>1.5</td>\n",
       "      <td>1320</td>\n",
       "      <td>0</td>\n",
       "      <td>0</td>\n",
       "      <td>3</td>\n",
       "      <td>6</td>\n",
       "      <td>1909</td>\n",
       "      <td>47.6231</td>\n",
       "      <td>350000.0</td>\n",
       "    </tr>\n",
       "    <tr>\n",
       "      <th>2</th>\n",
       "      <td>4.0</td>\n",
       "      <td>2.5</td>\n",
       "      <td>3110</td>\n",
       "      <td>0</td>\n",
       "      <td>0</td>\n",
       "      <td>3</td>\n",
       "      <td>9</td>\n",
       "      <td>2004</td>\n",
       "      <td>47.7010</td>\n",
       "      <td>751000.0</td>\n",
       "    </tr>\n",
       "    <tr>\n",
       "      <th>3</th>\n",
       "      <td>3.0</td>\n",
       "      <td>1.0</td>\n",
       "      <td>1380</td>\n",
       "      <td>0</td>\n",
       "      <td>0</td>\n",
       "      <td>4</td>\n",
       "      <td>7</td>\n",
       "      <td>1963</td>\n",
       "      <td>47.5139</td>\n",
       "      <td>295000.0</td>\n",
       "    </tr>\n",
       "    <tr>\n",
       "      <th>4</th>\n",
       "      <td>3.0</td>\n",
       "      <td>2.0</td>\n",
       "      <td>1570</td>\n",
       "      <td>0</td>\n",
       "      <td>0</td>\n",
       "      <td>3</td>\n",
       "      <td>8</td>\n",
       "      <td>2001</td>\n",
       "      <td>47.6965</td>\n",
       "      <td>340000.0</td>\n",
       "    </tr>\n",
       "  </tbody>\n",
       "</table>\n",
       "</div>"
      ],
      "text/plain": [
       "   bedrooms  bathrooms  sqft_living  waterfront  view  condition  grade  \\\n",
       "0       4.0        2.5         2390           0     0          3      9   \n",
       "1       3.0        1.5         1320           0     0          3      6   \n",
       "2       4.0        2.5         3110           0     0          3      9   \n",
       "3       3.0        1.0         1380           0     0          4      7   \n",
       "4       3.0        2.0         1570           0     0          3      8   \n",
       "\n",
       "   yr_built      lat     price  \n",
       "0      1975  47.5801  800000.0  \n",
       "1      1909  47.6231  350000.0  \n",
       "2      2004  47.7010  751000.0  \n",
       "3      1963  47.5139  295000.0  \n",
       "4      2001  47.6965  340000.0  "
      ]
     },
     "execution_count": 24,
     "metadata": {},
     "output_type": "execute_result"
    }
   ],
   "source": [
    "data1 = data[['bedrooms','bathrooms','sqft_living', 'waterfront', 'view', 'condition',\n",
    "             'grade', 'yr_built', 'lat', 'price']]\n",
    "data1.head()"
   ]
  },
  {
   "cell_type": "code",
   "execution_count": 25,
   "id": "334ea4ba",
   "metadata": {},
   "outputs": [
    {
     "data": {
      "text/plain": [
       "(5000, 10)"
      ]
     },
     "execution_count": 25,
     "metadata": {},
     "output_type": "execute_result"
    }
   ],
   "source": [
    "data1.shape"
   ]
  },
  {
   "cell_type": "code",
   "execution_count": 26,
   "id": "eae2439c",
   "metadata": {},
   "outputs": [],
   "source": [
    "data1.to_csv('Houses_CLEANED.csv')"
   ]
  },
  {
   "cell_type": "markdown",
   "id": "c8ba8709",
   "metadata": {},
   "source": [
    "### Lasso analysis.\n",
    "Lets perform Lasso analysis for our most impacful variables."
   ]
  },
  {
   "cell_type": "markdown",
   "id": "34b5b3a5",
   "metadata": {},
   "source": [
    "Firstly it will be great to find the best hyperparameters using Grid Search CV."
   ]
  },
  {
   "cell_type": "code",
   "execution_count": 27,
   "id": "3ff90d6d",
   "metadata": {},
   "outputs": [
    {
     "name": "stdout",
     "output_type": "stream",
     "text": [
      "Shape of the data:\n",
      "(5000, 10)\n",
      " \n"
     ]
    },
    {
     "data": {
      "text/html": [
       "<div>\n",
       "<style scoped>\n",
       "    .dataframe tbody tr th:only-of-type {\n",
       "        vertical-align: middle;\n",
       "    }\n",
       "\n",
       "    .dataframe tbody tr th {\n",
       "        vertical-align: top;\n",
       "    }\n",
       "\n",
       "    .dataframe thead th {\n",
       "        text-align: right;\n",
       "    }\n",
       "</style>\n",
       "<table border=\"1\" class=\"dataframe\">\n",
       "  <thead>\n",
       "    <tr style=\"text-align: right;\">\n",
       "      <th></th>\n",
       "      <th>bedrooms</th>\n",
       "      <th>bathrooms</th>\n",
       "      <th>sqft_living</th>\n",
       "      <th>waterfront</th>\n",
       "      <th>view</th>\n",
       "      <th>condition</th>\n",
       "      <th>grade</th>\n",
       "      <th>yr_built</th>\n",
       "      <th>lat</th>\n",
       "      <th>price</th>\n",
       "    </tr>\n",
       "  </thead>\n",
       "  <tbody>\n",
       "    <tr>\n",
       "      <th>0</th>\n",
       "      <td>4.0</td>\n",
       "      <td>2.5</td>\n",
       "      <td>2390</td>\n",
       "      <td>0</td>\n",
       "      <td>0</td>\n",
       "      <td>3</td>\n",
       "      <td>9</td>\n",
       "      <td>1975</td>\n",
       "      <td>47.5801</td>\n",
       "      <td>800000.0</td>\n",
       "    </tr>\n",
       "    <tr>\n",
       "      <th>1</th>\n",
       "      <td>3.0</td>\n",
       "      <td>1.5</td>\n",
       "      <td>1320</td>\n",
       "      <td>0</td>\n",
       "      <td>0</td>\n",
       "      <td>3</td>\n",
       "      <td>6</td>\n",
       "      <td>1909</td>\n",
       "      <td>47.6231</td>\n",
       "      <td>350000.0</td>\n",
       "    </tr>\n",
       "    <tr>\n",
       "      <th>2</th>\n",
       "      <td>4.0</td>\n",
       "      <td>2.5</td>\n",
       "      <td>3110</td>\n",
       "      <td>0</td>\n",
       "      <td>0</td>\n",
       "      <td>3</td>\n",
       "      <td>9</td>\n",
       "      <td>2004</td>\n",
       "      <td>47.7010</td>\n",
       "      <td>751000.0</td>\n",
       "    </tr>\n",
       "    <tr>\n",
       "      <th>3</th>\n",
       "      <td>3.0</td>\n",
       "      <td>1.0</td>\n",
       "      <td>1380</td>\n",
       "      <td>0</td>\n",
       "      <td>0</td>\n",
       "      <td>4</td>\n",
       "      <td>7</td>\n",
       "      <td>1963</td>\n",
       "      <td>47.5139</td>\n",
       "      <td>295000.0</td>\n",
       "    </tr>\n",
       "    <tr>\n",
       "      <th>4</th>\n",
       "      <td>3.0</td>\n",
       "      <td>2.0</td>\n",
       "      <td>1570</td>\n",
       "      <td>0</td>\n",
       "      <td>0</td>\n",
       "      <td>3</td>\n",
       "      <td>8</td>\n",
       "      <td>2001</td>\n",
       "      <td>47.6965</td>\n",
       "      <td>340000.0</td>\n",
       "    </tr>\n",
       "  </tbody>\n",
       "</table>\n",
       "</div>"
      ],
      "text/plain": [
       "   bedrooms  bathrooms  sqft_living  waterfront  view  condition  grade  \\\n",
       "0       4.0        2.5         2390           0     0          3      9   \n",
       "1       3.0        1.5         1320           0     0          3      6   \n",
       "2       4.0        2.5         3110           0     0          3      9   \n",
       "3       3.0        1.0         1380           0     0          4      7   \n",
       "4       3.0        2.0         1570           0     0          3      8   \n",
       "\n",
       "   yr_built      lat     price  \n",
       "0      1975  47.5801  800000.0  \n",
       "1      1909  47.6231  350000.0  \n",
       "2      2004  47.7010  751000.0  \n",
       "3      1963  47.5139  295000.0  \n",
       "4      2001  47.6965  340000.0  "
      ]
     },
     "execution_count": 27,
     "metadata": {},
     "output_type": "execute_result"
    }
   ],
   "source": [
    "data = pd.read_csv('Houses_CLEANED.csv')\n",
    "data.drop('Unnamed: 0', axis = 1, inplace = True)\n",
    "print('Shape of the data:')\n",
    "print(data.shape)\n",
    "print(' ')\n",
    "data.head()"
   ]
  },
  {
   "cell_type": "code",
   "execution_count": 28,
   "id": "da897457",
   "metadata": {},
   "outputs": [
    {
     "name": "stdout",
     "output_type": "stream",
     "text": [
      "(5000, 9) (5000,)\n"
     ]
    }
   ],
   "source": [
    "X = data.drop('price', axis = 1)\n",
    "y = data['price']\n",
    "print(X.shape, y.shape)"
   ]
  },
  {
   "cell_type": "code",
   "execution_count": 29,
   "id": "378fbc47",
   "metadata": {},
   "outputs": [
    {
     "data": {
      "text/html": [
       "<div>\n",
       "<style scoped>\n",
       "    .dataframe tbody tr th:only-of-type {\n",
       "        vertical-align: middle;\n",
       "    }\n",
       "\n",
       "    .dataframe tbody tr th {\n",
       "        vertical-align: top;\n",
       "    }\n",
       "\n",
       "    .dataframe thead th {\n",
       "        text-align: right;\n",
       "    }\n",
       "</style>\n",
       "<table border=\"1\" class=\"dataframe\">\n",
       "  <thead>\n",
       "    <tr style=\"text-align: right;\">\n",
       "      <th></th>\n",
       "      <th>bedrooms</th>\n",
       "      <th>bathrooms</th>\n",
       "      <th>sqft_living</th>\n",
       "      <th>waterfront</th>\n",
       "      <th>view</th>\n",
       "      <th>condition</th>\n",
       "      <th>grade</th>\n",
       "      <th>yr_built</th>\n",
       "      <th>lat</th>\n",
       "    </tr>\n",
       "  </thead>\n",
       "  <tbody>\n",
       "    <tr>\n",
       "      <th>0</th>\n",
       "      <td>4.0</td>\n",
       "      <td>2.50</td>\n",
       "      <td>2390</td>\n",
       "      <td>0</td>\n",
       "      <td>0</td>\n",
       "      <td>3</td>\n",
       "      <td>9</td>\n",
       "      <td>1975</td>\n",
       "      <td>47.5801</td>\n",
       "    </tr>\n",
       "    <tr>\n",
       "      <th>1</th>\n",
       "      <td>3.0</td>\n",
       "      <td>1.50</td>\n",
       "      <td>1320</td>\n",
       "      <td>0</td>\n",
       "      <td>0</td>\n",
       "      <td>3</td>\n",
       "      <td>6</td>\n",
       "      <td>1909</td>\n",
       "      <td>47.6231</td>\n",
       "    </tr>\n",
       "    <tr>\n",
       "      <th>2</th>\n",
       "      <td>4.0</td>\n",
       "      <td>2.50</td>\n",
       "      <td>3110</td>\n",
       "      <td>0</td>\n",
       "      <td>0</td>\n",
       "      <td>3</td>\n",
       "      <td>9</td>\n",
       "      <td>2004</td>\n",
       "      <td>47.7010</td>\n",
       "    </tr>\n",
       "    <tr>\n",
       "      <th>3</th>\n",
       "      <td>3.0</td>\n",
       "      <td>1.00</td>\n",
       "      <td>1380</td>\n",
       "      <td>0</td>\n",
       "      <td>0</td>\n",
       "      <td>4</td>\n",
       "      <td>7</td>\n",
       "      <td>1963</td>\n",
       "      <td>47.5139</td>\n",
       "    </tr>\n",
       "    <tr>\n",
       "      <th>4</th>\n",
       "      <td>3.0</td>\n",
       "      <td>2.00</td>\n",
       "      <td>1570</td>\n",
       "      <td>0</td>\n",
       "      <td>0</td>\n",
       "      <td>3</td>\n",
       "      <td>8</td>\n",
       "      <td>2001</td>\n",
       "      <td>47.6965</td>\n",
       "    </tr>\n",
       "    <tr>\n",
       "      <th>...</th>\n",
       "      <td>...</td>\n",
       "      <td>...</td>\n",
       "      <td>...</td>\n",
       "      <td>...</td>\n",
       "      <td>...</td>\n",
       "      <td>...</td>\n",
       "      <td>...</td>\n",
       "      <td>...</td>\n",
       "      <td>...</td>\n",
       "    </tr>\n",
       "    <tr>\n",
       "      <th>4995</th>\n",
       "      <td>3.0</td>\n",
       "      <td>2.00</td>\n",
       "      <td>1050</td>\n",
       "      <td>0</td>\n",
       "      <td>0</td>\n",
       "      <td>4</td>\n",
       "      <td>7</td>\n",
       "      <td>1953</td>\n",
       "      <td>47.3206</td>\n",
       "    </tr>\n",
       "    <tr>\n",
       "      <th>4996</th>\n",
       "      <td>2.0</td>\n",
       "      <td>1.00</td>\n",
       "      <td>960</td>\n",
       "      <td>0</td>\n",
       "      <td>0</td>\n",
       "      <td>3</td>\n",
       "      <td>7</td>\n",
       "      <td>1955</td>\n",
       "      <td>47.7642</td>\n",
       "    </tr>\n",
       "    <tr>\n",
       "      <th>4997</th>\n",
       "      <td>4.0</td>\n",
       "      <td>2.50</td>\n",
       "      <td>2220</td>\n",
       "      <td>0</td>\n",
       "      <td>0</td>\n",
       "      <td>3</td>\n",
       "      <td>8</td>\n",
       "      <td>2014</td>\n",
       "      <td>47.5014</td>\n",
       "    </tr>\n",
       "    <tr>\n",
       "      <th>4998</th>\n",
       "      <td>4.0</td>\n",
       "      <td>5.25</td>\n",
       "      <td>5240</td>\n",
       "      <td>0</td>\n",
       "      <td>2</td>\n",
       "      <td>3</td>\n",
       "      <td>10</td>\n",
       "      <td>2006</td>\n",
       "      <td>47.5605</td>\n",
       "    </tr>\n",
       "    <tr>\n",
       "      <th>4999</th>\n",
       "      <td>4.0</td>\n",
       "      <td>2.50</td>\n",
       "      <td>2540</td>\n",
       "      <td>0</td>\n",
       "      <td>0</td>\n",
       "      <td>5</td>\n",
       "      <td>7</td>\n",
       "      <td>1977</td>\n",
       "      <td>47.3754</td>\n",
       "    </tr>\n",
       "  </tbody>\n",
       "</table>\n",
       "<p>5000 rows × 9 columns</p>\n",
       "</div>"
      ],
      "text/plain": [
       "      bedrooms  bathrooms  sqft_living  waterfront  view  condition  grade  \\\n",
       "0          4.0       2.50         2390           0     0          3      9   \n",
       "1          3.0       1.50         1320           0     0          3      6   \n",
       "2          4.0       2.50         3110           0     0          3      9   \n",
       "3          3.0       1.00         1380           0     0          4      7   \n",
       "4          3.0       2.00         1570           0     0          3      8   \n",
       "...        ...        ...          ...         ...   ...        ...    ...   \n",
       "4995       3.0       2.00         1050           0     0          4      7   \n",
       "4996       2.0       1.00          960           0     0          3      7   \n",
       "4997       4.0       2.50         2220           0     0          3      8   \n",
       "4998       4.0       5.25         5240           0     2          3     10   \n",
       "4999       4.0       2.50         2540           0     0          5      7   \n",
       "\n",
       "      yr_built      lat  \n",
       "0         1975  47.5801  \n",
       "1         1909  47.6231  \n",
       "2         2004  47.7010  \n",
       "3         1963  47.5139  \n",
       "4         2001  47.6965  \n",
       "...        ...      ...  \n",
       "4995      1953  47.3206  \n",
       "4996      1955  47.7642  \n",
       "4997      2014  47.5014  \n",
       "4998      2006  47.5605  \n",
       "4999      1977  47.3754  \n",
       "\n",
       "[5000 rows x 9 columns]"
      ]
     },
     "execution_count": 29,
     "metadata": {},
     "output_type": "execute_result"
    }
   ],
   "source": [
    "X"
   ]
  },
  {
   "cell_type": "code",
   "execution_count": 30,
   "id": "27175d61",
   "metadata": {},
   "outputs": [],
   "source": [
    "def warn(*args, **kwargs):\n",
    "    pass\n",
    "import warnings\n",
    "warnings.warn = warn"
   ]
  },
  {
   "cell_type": "markdown",
   "id": "281c3360",
   "metadata": {},
   "source": [
    "Grid Search to find the best parameters for Lasso regression. I set interaction_only = False to try to get the best r2 result."
   ]
  },
  {
   "cell_type": "code",
   "execution_count": 41,
   "id": "511db3ce",
   "metadata": {},
   "outputs": [
    {
     "name": "stdout",
     "output_type": "stream",
     "text": [
      "Best params: {'model__alpha': 1000.0, 'poly__degree': 4}\n",
      " \n",
      "Best score: 0.7355689529961632\n"
     ]
    }
   ],
   "source": [
    "est = Pipeline([\n",
    "    ('poly', PolynomialFeatures(interaction_only = False, include_bias = True)),\n",
    "    ('scaler', MinMaxScaler()),\n",
    "    ('model', Lasso(max_iter = 10000))\n",
    "])\n",
    "params = {'poly__degree':(2, 3, 4),\n",
    "          'model__alpha':np.geomspace(1,1000, 4)\n",
    "         }\n",
    "grid = GridSearchCV(estimator = est, param_grid = params, cv = 5)\n",
    "grid.fit(X, y)\n",
    "print('Best params:', grid.best_params_)\n",
    "print(' ')\n",
    "print('Best score:', grid.best_score_)"
   ]
  },
  {
   "cell_type": "code",
   "execution_count": 42,
   "id": "9272ad5f",
   "metadata": {},
   "outputs": [],
   "source": [
    "y_hat = grid.best_estimator_.predict(X)\n",
    "score = r2_score(y, y_hat)"
   ]
  },
  {
   "cell_type": "code",
   "execution_count": 43,
   "id": "59412f4c",
   "metadata": {},
   "outputs": [
    {
     "data": {
      "text/plain": [
       "0.7540124469891826"
      ]
     },
     "execution_count": 43,
     "metadata": {},
     "output_type": "execute_result"
    }
   ],
   "source": [
    "score"
   ]
  },
  {
   "cell_type": "code",
   "execution_count": 44,
   "id": "27d7c7f0",
   "metadata": {},
   "outputs": [
    {
     "data": {
      "text/plain": [
       "<bound method Pipeline.get_params of Pipeline(steps=[('poly', PolynomialFeatures(degree=4)),\n",
       "                ('scaler', MinMaxScaler()),\n",
       "                ('model', Lasso(alpha=1000.0, max_iter=10000))])>"
      ]
     },
     "execution_count": 44,
     "metadata": {},
     "output_type": "execute_result"
    }
   ],
   "source": [
    "grid.best_estimator_.get_params"
   ]
  },
  {
   "cell_type": "code",
   "execution_count": 45,
   "id": "c1298f3a",
   "metadata": {},
   "outputs": [
    {
     "name": "stdout",
     "output_type": "stream",
     "text": [
      "{0: 'bedrooms', 1: 'bathrooms', 2: 'sqft_living', 3: 'waterfront', 4: 'view', 5: 'condition', 6: 'grade', 7: 'yr_built', 8: 'lat'}\n",
      " \n"
     ]
    },
    {
     "data": {
      "text/html": [
       "<div>\n",
       "<style scoped>\n",
       "    .dataframe tbody tr th:only-of-type {\n",
       "        vertical-align: middle;\n",
       "    }\n",
       "\n",
       "    .dataframe tbody tr th {\n",
       "        vertical-align: top;\n",
       "    }\n",
       "\n",
       "    .dataframe thead th {\n",
       "        text-align: right;\n",
       "    }\n",
       "</style>\n",
       "<table border=\"1\" class=\"dataframe\">\n",
       "  <thead>\n",
       "    <tr style=\"text-align: right;\">\n",
       "      <th></th>\n",
       "      <th>0</th>\n",
       "      <th>1</th>\n",
       "    </tr>\n",
       "  </thead>\n",
       "  <tbody>\n",
       "    <tr>\n",
       "      <th>8</th>\n",
       "      <td>yr_built</td>\n",
       "      <td>-2.044001e+05</td>\n",
       "    </tr>\n",
       "    <tr>\n",
       "      <th>682</th>\n",
       "      <td>condition^3 yr_built</td>\n",
       "      <td>-4.016389e+04</td>\n",
       "    </tr>\n",
       "    <tr>\n",
       "      <th>680</th>\n",
       "      <td>condition^4</td>\n",
       "      <td>-2.348135e+04</td>\n",
       "    </tr>\n",
       "    <tr>\n",
       "      <th>588</th>\n",
       "      <td>sqft_living lat^3</td>\n",
       "      <td>4.268914e+03</td>\n",
       "    </tr>\n",
       "    <tr>\n",
       "      <th>675</th>\n",
       "      <td>view grade lat^2</td>\n",
       "      <td>2.191165e+04</td>\n",
       "    </tr>\n",
       "    <tr>\n",
       "      <th>644</th>\n",
       "      <td>waterfront lat^3</td>\n",
       "      <td>5.265426e+04</td>\n",
       "    </tr>\n",
       "    <tr>\n",
       "      <th>610</th>\n",
       "      <td>waterfront view^3</td>\n",
       "      <td>5.306679e+04</td>\n",
       "    </tr>\n",
       "    <tr>\n",
       "      <th>645</th>\n",
       "      <td>view^4</td>\n",
       "      <td>1.446705e+05</td>\n",
       "    </tr>\n",
       "    <tr>\n",
       "      <th>664</th>\n",
       "      <td>view condition grade^2</td>\n",
       "      <td>1.821186e+05</td>\n",
       "    </tr>\n",
       "    <tr>\n",
       "      <th>570</th>\n",
       "      <td>sqft_living condition^2 grade</td>\n",
       "      <td>2.089117e+05</td>\n",
       "    </tr>\n",
       "    <tr>\n",
       "      <th>672</th>\n",
       "      <td>view grade^2 lat</td>\n",
       "      <td>2.134677e+05</td>\n",
       "    </tr>\n",
       "    <tr>\n",
       "      <th>640</th>\n",
       "      <td>waterfront grade lat^2</td>\n",
       "      <td>2.583476e+05</td>\n",
       "    </tr>\n",
       "    <tr>\n",
       "      <th>700</th>\n",
       "      <td>grade^4</td>\n",
       "      <td>2.960358e+05</td>\n",
       "    </tr>\n",
       "    <tr>\n",
       "      <th>702</th>\n",
       "      <td>grade^3 lat</td>\n",
       "      <td>3.477239e+05</td>\n",
       "    </tr>\n",
       "    <tr>\n",
       "      <th>9</th>\n",
       "      <td>lat</td>\n",
       "      <td>3.616247e+05</td>\n",
       "    </tr>\n",
       "    <tr>\n",
       "      <th>489</th>\n",
       "      <td>bathrooms condition grade^2</td>\n",
       "      <td>3.724002e+05</td>\n",
       "    </tr>\n",
       "    <tr>\n",
       "      <th>500</th>\n",
       "      <td>bathrooms grade lat^2</td>\n",
       "      <td>4.490937e+05</td>\n",
       "    </tr>\n",
       "    <tr>\n",
       "      <th>573</th>\n",
       "      <td>sqft_living condition grade^2</td>\n",
       "      <td>1.840603e+06</td>\n",
       "    </tr>\n",
       "  </tbody>\n",
       "</table>\n",
       "</div>"
      ],
      "text/plain": [
       "                                 0             1\n",
       "8                         yr_built -2.044001e+05\n",
       "682           condition^3 yr_built -4.016389e+04\n",
       "680                    condition^4 -2.348135e+04\n",
       "588              sqft_living lat^3  4.268914e+03\n",
       "675               view grade lat^2  2.191165e+04\n",
       "644               waterfront lat^3  5.265426e+04\n",
       "610              waterfront view^3  5.306679e+04\n",
       "645                         view^4  1.446705e+05\n",
       "664         view condition grade^2  1.821186e+05\n",
       "570  sqft_living condition^2 grade  2.089117e+05\n",
       "672               view grade^2 lat  2.134677e+05\n",
       "640         waterfront grade lat^2  2.583476e+05\n",
       "700                        grade^4  2.960358e+05\n",
       "702                    grade^3 lat  3.477239e+05\n",
       "9                              lat  3.616247e+05\n",
       "489    bathrooms condition grade^2  3.724002e+05\n",
       "500          bathrooms grade lat^2  4.490937e+05\n",
       "573  sqft_living condition grade^2  1.840603e+06"
      ]
     },
     "execution_count": 45,
     "metadata": {},
     "output_type": "execute_result"
    }
   ],
   "source": [
    "df_importances = pd.DataFrame(zip(grid.best_estimator_.named_steps[\"poly\"].get_feature_names(input_features = X.columns),\n",
    "                 grid.best_estimator_.named_steps[\"model\"].coef_,\n",
    "))\n",
    "col_names_dict = dict(zip(list(range(len(X.columns.values))), X.columns.values))\n",
    "print(col_names_dict)\n",
    "print(' ')\n",
    "df_importances = df_importances[df_importances[1] != 0]\n",
    "df_importances.sort_values(by=1)"
   ]
  },
  {
   "cell_type": "markdown",
   "id": "e7a182e2",
   "metadata": {},
   "source": [
    "We have to complex parameters with very high coefficients. It seems that our model is going to be a black-box model.   \n",
    "We also see that our r2 result is very close to the r2 result of Linear Regression. This fact is telling us about model overfitting as well."
   ]
  },
  {
   "cell_type": "markdown",
   "id": "48d3057d",
   "metadata": {},
   "source": [
    "Lets try to analyze more simple models and their results:"
   ]
  },
  {
   "cell_type": "code",
   "execution_count": 46,
   "id": "48ffa7a5",
   "metadata": {},
   "outputs": [
    {
     "name": "stdout",
     "output_type": "stream",
     "text": [
      "Best params: {'model__alpha': 1.0}\n",
      " \n",
      "Best score: 0.7591107117598368\n",
      " \n",
      "Results info:\n",
      "{'mean_fit_time': array([0.2591311 , 0.04997039, 0.02084193]), 'std_fit_time': array([0.03490503, 0.00622514, 0.00598929]), 'mean_score_time': array([0.00572524, 0.00559649, 0.00381179]), 'std_score_time': array([0.00595527, 0.00101856, 0.00230923]), 'param_model__alpha': masked_array(data=[1.0, 10.0, 100.0],\n",
      "             mask=[False, False, False],\n",
      "       fill_value='?',\n",
      "            dtype=object), 'params': [{'model__alpha': 1.0}, {'model__alpha': 10.0}, {'model__alpha': 100.0}], 'split0_test_score': array([ 7.89346703e-01,  4.61228307e-01, -3.40640943e-04]), 'split1_test_score': array([ 7.55613967e-01,  4.96604669e-01, -5.51497128e-05]), 'split2_test_score': array([ 7.26608700e-01,  4.62396425e-01, -4.06923213e-05]), 'split3_test_score': array([ 7.68548346e-01,  4.86806256e-01, -4.65497457e-04]), 'split4_test_score': array([ 7.55435843e-01,  4.61916890e-01, -8.38936009e-06]), 'mean_test_score': array([ 7.59110712e-01,  4.73790509e-01, -1.82073959e-04]), 'std_test_score': array([0.02042252, 0.01495669, 0.00018533]), 'rank_test_score': array([1, 2, 3])}\n"
     ]
    }
   ],
   "source": [
    "est1 = Pipeline([\n",
    "    ('poly', PolynomialFeatures(degree = 2, interaction_only = True)),\n",
    "    ('scaler', MinMaxScaler()),\n",
    "    ('model', Lasso(max_iter = 10000))\n",
    "])\n",
    "params1 = {'model__alpha':np.geomspace(1,100, 3)}\n",
    "grid1 = GridSearchCV(estimator = est1, param_grid = params1, cv = 5)\n",
    "grid1.fit(X, np.sqrt(y))\n",
    "print('Best params:', grid1.best_params_)\n",
    "print(' ')\n",
    "print('Best score:', grid1.best_score_)\n",
    "print(' ')\n",
    "print('Results info:')\n",
    "print(grid1.cv_results_)"
   ]
  },
  {
   "cell_type": "code",
   "execution_count": 47,
   "id": "247e2b88",
   "metadata": {},
   "outputs": [
    {
     "data": {
      "text/plain": [
       "0.7295962864630399"
      ]
     },
     "execution_count": 47,
     "metadata": {},
     "output_type": "execute_result"
    }
   ],
   "source": [
    "y_hat2 = grid1.best_estimator_.predict(X)\n",
    "r2_score(y, y_hat2**2)"
   ]
  },
  {
   "cell_type": "code",
   "execution_count": 48,
   "id": "05dbc79e",
   "metadata": {},
   "outputs": [
    {
     "name": "stdout",
     "output_type": "stream",
     "text": [
      "{0: 'bedrooms', 1: 'bathrooms', 2: 'sqft_living', 3: 'waterfront', 4: 'view', 5: 'condition', 6: 'grade', 7: 'yr_built', 8: 'lat'}\n",
      " \n"
     ]
    },
    {
     "data": {
      "text/html": [
       "<div>\n",
       "<style scoped>\n",
       "    .dataframe tbody tr th:only-of-type {\n",
       "        vertical-align: middle;\n",
       "    }\n",
       "\n",
       "    .dataframe tbody tr th {\n",
       "        vertical-align: top;\n",
       "    }\n",
       "\n",
       "    .dataframe thead th {\n",
       "        text-align: right;\n",
       "    }\n",
       "</style>\n",
       "<table border=\"1\" class=\"dataframe\">\n",
       "  <thead>\n",
       "    <tr style=\"text-align: right;\">\n",
       "      <th></th>\n",
       "      <th>0</th>\n",
       "      <th>1</th>\n",
       "    </tr>\n",
       "  </thead>\n",
       "  <tbody>\n",
       "    <tr>\n",
       "      <th>8</th>\n",
       "      <td>yr_built</td>\n",
       "      <td>-111.096534</td>\n",
       "    </tr>\n",
       "    <tr>\n",
       "      <th>30</th>\n",
       "      <td>sqft_living lat</td>\n",
       "      <td>34.398338</td>\n",
       "    </tr>\n",
       "    <tr>\n",
       "      <th>39</th>\n",
       "      <td>view lat</td>\n",
       "      <td>47.341524</td>\n",
       "    </tr>\n",
       "    <tr>\n",
       "      <th>4</th>\n",
       "      <td>waterfront</td>\n",
       "      <td>78.498247</td>\n",
       "    </tr>\n",
       "    <tr>\n",
       "      <th>5</th>\n",
       "      <td>view</td>\n",
       "      <td>104.720704</td>\n",
       "    </tr>\n",
       "    <tr>\n",
       "      <th>9</th>\n",
       "      <td>lat</td>\n",
       "      <td>256.433450</td>\n",
       "    </tr>\n",
       "    <tr>\n",
       "      <th>22</th>\n",
       "      <td>bathrooms grade</td>\n",
       "      <td>295.222751</td>\n",
       "    </tr>\n",
       "    <tr>\n",
       "      <th>27</th>\n",
       "      <td>sqft_living condition</td>\n",
       "      <td>569.031568</td>\n",
       "    </tr>\n",
       "    <tr>\n",
       "      <th>44</th>\n",
       "      <td>grade lat</td>\n",
       "      <td>647.345303</td>\n",
       "    </tr>\n",
       "  </tbody>\n",
       "</table>\n",
       "</div>"
      ],
      "text/plain": [
       "                        0           1\n",
       "8                yr_built -111.096534\n",
       "30        sqft_living lat   34.398338\n",
       "39               view lat   47.341524\n",
       "4              waterfront   78.498247\n",
       "5                    view  104.720704\n",
       "9                     lat  256.433450\n",
       "22        bathrooms grade  295.222751\n",
       "27  sqft_living condition  569.031568\n",
       "44              grade lat  647.345303"
      ]
     },
     "execution_count": 48,
     "metadata": {},
     "output_type": "execute_result"
    }
   ],
   "source": [
    "df_importances = pd.DataFrame(zip(grid1.best_estimator_.named_steps[\"poly\"].get_feature_names(input_features = X.columns),\n",
    "                 grid1.best_estimator_.named_steps[\"model\"].coef_,\n",
    "))\n",
    "col_names_dict = dict(zip(list(range(len(X.columns.values))), X.columns.values))\n",
    "print(col_names_dict)\n",
    "print(' ')\n",
    "df_importances = df_importances[df_importances[1] != 0]\n",
    "df_importances.sort_values(by=1)"
   ]
  },
  {
   "cell_type": "markdown",
   "id": "38cb2434",
   "metadata": {},
   "source": [
    "We got only 9 not null parameters with sutable r2 results. It is good result for model interpretation task."
   ]
  },
  {
   "cell_type": "code",
   "execution_count": 49,
   "id": "2088bf28",
   "metadata": {},
   "outputs": [
    {
     "data": {
      "text/html": [
       "<div>\n",
       "<style scoped>\n",
       "    .dataframe tbody tr th:only-of-type {\n",
       "        vertical-align: middle;\n",
       "    }\n",
       "\n",
       "    .dataframe tbody tr th {\n",
       "        vertical-align: top;\n",
       "    }\n",
       "\n",
       "    .dataframe thead th {\n",
       "        text-align: right;\n",
       "    }\n",
       "</style>\n",
       "<table border=\"1\" class=\"dataframe\">\n",
       "  <thead>\n",
       "    <tr style=\"text-align: right;\">\n",
       "      <th></th>\n",
       "      <th>1</th>\n",
       "    </tr>\n",
       "    <tr>\n",
       "      <th>0</th>\n",
       "      <th></th>\n",
       "    </tr>\n",
       "  </thead>\n",
       "  <tbody>\n",
       "    <tr>\n",
       "      <th>waterfront</th>\n",
       "      <td>78.498247</td>\n",
       "    </tr>\n",
       "    <tr>\n",
       "      <th>view</th>\n",
       "      <td>104.720704</td>\n",
       "    </tr>\n",
       "    <tr>\n",
       "      <th>yr_built</th>\n",
       "      <td>-111.096534</td>\n",
       "    </tr>\n",
       "    <tr>\n",
       "      <th>lat</th>\n",
       "      <td>256.433450</td>\n",
       "    </tr>\n",
       "    <tr>\n",
       "      <th>bathrooms grade</th>\n",
       "      <td>295.222751</td>\n",
       "    </tr>\n",
       "    <tr>\n",
       "      <th>sqft_living condition</th>\n",
       "      <td>569.031568</td>\n",
       "    </tr>\n",
       "    <tr>\n",
       "      <th>sqft_living lat</th>\n",
       "      <td>34.398338</td>\n",
       "    </tr>\n",
       "    <tr>\n",
       "      <th>view lat</th>\n",
       "      <td>47.341524</td>\n",
       "    </tr>\n",
       "    <tr>\n",
       "      <th>grade lat</th>\n",
       "      <td>647.345303</td>\n",
       "    </tr>\n",
       "  </tbody>\n",
       "</table>\n",
       "</div>"
      ],
      "text/plain": [
       "                                1\n",
       "0                                \n",
       "waterfront              78.498247\n",
       "view                   104.720704\n",
       "yr_built              -111.096534\n",
       "lat                    256.433450\n",
       "bathrooms grade        295.222751\n",
       "sqft_living condition  569.031568\n",
       "sqft_living lat         34.398338\n",
       "view lat                47.341524\n",
       "grade lat              647.345303"
      ]
     },
     "execution_count": 49,
     "metadata": {},
     "output_type": "execute_result"
    }
   ],
   "source": [
    "df_importances.set_index(0, inplace = True)\n",
    "df_importances"
   ]
  },
  {
   "cell_type": "code",
   "execution_count": 50,
   "id": "f9f07f3d",
   "metadata": {},
   "outputs": [
    {
     "data": {
      "image/png": "[encoded data removed]",
      "text/plain": [
       "<Figure size 648x360 with 1 Axes>"
      ]
     },
     "metadata": {
      "needs_background": "light"
     },
     "output_type": "display_data"
    }
   ],
   "source": [
    "plt.figure(figsize = (9,5))\n",
    "df_importances[1].sort_values(ascending = False).plot(kind = 'bar', color = 'darkgreen')\n",
    "plt.title('Bar plot for the coefficients for Lasso model, poly degree = 2, alpha = 1.0 and interaction_only = True')\n",
    "plt.ylabel('Magnitude of the coefficients')\n",
    "plt.xlabel('The features of the model')\n",
    "plt.grid()\n",
    "plt.show()"
   ]
  },
  {
   "cell_type": "markdown",
   "id": "cb069fd5",
   "metadata": {},
   "source": [
    "The same model but interaction_only = False."
   ]
  },
  {
   "cell_type": "code",
   "execution_count": 51,
   "id": "3526bb42",
   "metadata": {},
   "outputs": [
    {
     "name": "stdout",
     "output_type": "stream",
     "text": [
      "Best params: {'model__alpha': 1.0}\n",
      " \n",
      "Best score: 0.7617721866597403\n",
      " \n",
      "Results info:\n",
      "{'mean_fit_time': array([0.09162316, 0.188936  , 0.01562471]), 'std_fit_time': array([1.42030368e-02, 2.15118402e-01, 3.16082257e-06]), 'mean_score_time': array([0.00099974, 0.00139976, 0.00624943]), 'std_score_time': array([0.00199947, 0.00279951, 0.00765395]), 'param_model__alpha': masked_array(data=[1.0, 10.0, 100.0],\n",
      "             mask=[False, False, False],\n",
      "       fill_value='?',\n",
      "            dtype=object), 'params': [{'model__alpha': 1.0}, {'model__alpha': 10.0}, {'model__alpha': 100.0}], 'split0_test_score': array([ 7.94170469e-01,  4.61231996e-01, -3.40640943e-04]), 'split1_test_score': array([ 7.59030116e-01,  4.98381757e-01, -5.51497128e-05]), 'split2_test_score': array([ 7.29268233e-01,  4.66536834e-01, -4.06923213e-05]), 'split3_test_score': array([ 7.67886103e-01,  4.90168074e-01, -4.65497457e-04]), 'split4_test_score': array([ 7.58506012e-01,  4.65008483e-01, -8.38936009e-06]), 'mean_test_score': array([ 7.61772187e-01,  4.76265429e-01, -1.82073959e-04]), 'std_test_score': array([0.0207929 , 0.01503186, 0.00018533]), 'rank_test_score': array([1, 2, 3])}\n"
     ]
    }
   ],
   "source": [
    "est1 = Pipeline([\n",
    "    ('poly', PolynomialFeatures(degree = 2, interaction_only = False)),\n",
    "    ('scaler', MinMaxScaler()),\n",
    "    ('model', Lasso(max_iter = 10000))\n",
    "])\n",
    "params1 = {'model__alpha':np.geomspace(1,100, 3)}\n",
    "grid1 = GridSearchCV(estimator = est1, param_grid = params1, cv = 5)\n",
    "grid1.fit(X, np.sqrt(y))\n",
    "print('Best params:', grid1.best_params_)\n",
    "print(' ')\n",
    "print('Best score:', grid1.best_score_)\n",
    "print(' ')\n",
    "print('Results info:')\n",
    "print(grid1.cv_results_)"
   ]
  },
  {
   "cell_type": "code",
   "execution_count": 52,
   "id": "f3db89c0",
   "metadata": {},
   "outputs": [
    {
     "data": {
      "text/plain": [
       "0.7343700021953337"
      ]
     },
     "execution_count": 52,
     "metadata": {},
     "output_type": "execute_result"
    }
   ],
   "source": [
    "y_hat2 = grid1.best_estimator_.predict(X)\n",
    "r2_score(y, y_hat2**2)"
   ]
  },
  {
   "cell_type": "code",
   "execution_count": 53,
   "id": "82840354",
   "metadata": {},
   "outputs": [
    {
     "name": "stdout",
     "output_type": "stream",
     "text": [
      "{0: 'bedrooms', 1: 'bathrooms', 2: 'sqft_living', 3: 'waterfront', 4: 'view', 5: 'condition', 6: 'grade', 7: 'yr_built', 8: 'lat'}\n",
      " \n"
     ]
    },
    {
     "data": {
      "image/png": "[encoded data removed]",
      "text/plain": [
       "<Figure size 648x360 with 1 Axes>"
      ]
     },
     "metadata": {
      "needs_background": "light"
     },
     "output_type": "display_data"
    }
   ],
   "source": [
    "df_importances = pd.DataFrame(zip(grid1.best_estimator_.named_steps[\"poly\"].get_feature_names(input_features = X.columns),\n",
    "                 grid1.best_estimator_.named_steps[\"model\"].coef_,\n",
    "))\n",
    "col_names_dict = dict(zip(list(range(len(X.columns.values))), X.columns.values))\n",
    "print(col_names_dict)\n",
    "print(' ')\n",
    "df_importances = df_importances[df_importances[1] != 0]\n",
    "df_importances.set_index(0, inplace = True)\n",
    "\n",
    "plt.figure(figsize = (9,5))\n",
    "df_importances[1].sort_values(ascending = False).plot(kind = 'bar', color = 'darkblue')\n",
    "plt.title('Bar plot for the coefficients for Lasso model, poly degree = 2, alpha = 1.0 and interaction_only = False')\n",
    "plt.ylabel('Magnitude of the coefficients')\n",
    "plt.xlabel('The features of the model')\n",
    "plt.grid()\n",
    "plt.show()"
   ]
  },
  {
   "cell_type": "markdown",
   "id": "8839aea7",
   "metadata": {},
   "source": [
    "We have 10 not not zero coefficients and we see that our r2 score didn't improve much. Some coefficients are confusing beacouse waterfront variable may be only 0 or 1 so it's hard to interpret influence of waterfront^2 so I suppose that the model with degree = 2 and intaction_only = True has higher interpretability."
   ]
  },
  {
   "cell_type": "markdown",
   "id": "c26588a8",
   "metadata": {},
   "source": [
    "   Lets analyze a model with  interaction_only = True and lower alpha:"
   ]
  },
  {
   "cell_type": "code",
   "execution_count": 54,
   "id": "d681066d",
   "metadata": {},
   "outputs": [
    {
     "name": "stdout",
     "output_type": "stream",
     "text": [
      "Score: 0.7633218823914996\n"
     ]
    }
   ],
   "source": [
    "pipe = Pipeline([\n",
    "    ('poly', PolynomialFeatures(degree = 2, interaction_only = True)),\n",
    "    ('scaler', MinMaxScaler()),\n",
    "    ('model', Lasso(max_iter = 10000, alpha = 0.1))\n",
    "])\n",
    "\n",
    "pipe.fit(X, np.sqrt(y))\n",
    "y_hat_pipe = pipe.predict(X)\n",
    "#print('Best params:', grid1.best_params_)\n",
    "#print(' ')\n",
    "print('Score:', r2_score(y, y_hat_pipe**2))"
   ]
  },
  {
   "cell_type": "code",
   "execution_count": 55,
   "id": "b187735d",
   "metadata": {},
   "outputs": [
    {
     "name": "stdout",
     "output_type": "stream",
     "text": [
      "{0: 'bedrooms', 1: 'bathrooms', 2: 'sqft_living', 3: 'waterfront', 4: 'view', 5: 'condition', 6: 'grade', 7: 'yr_built', 8: 'lat'}\n",
      " \n"
     ]
    },
    {
     "data": {
      "text/html": [
       "<div>\n",
       "<style scoped>\n",
       "    .dataframe tbody tr th:only-of-type {\n",
       "        vertical-align: middle;\n",
       "    }\n",
       "\n",
       "    .dataframe tbody tr th {\n",
       "        vertical-align: top;\n",
       "    }\n",
       "\n",
       "    .dataframe thead th {\n",
       "        text-align: right;\n",
       "    }\n",
       "</style>\n",
       "<table border=\"1\" class=\"dataframe\">\n",
       "  <thead>\n",
       "    <tr style=\"text-align: right;\">\n",
       "      <th></th>\n",
       "      <th>0</th>\n",
       "      <th>1</th>\n",
       "    </tr>\n",
       "  </thead>\n",
       "  <tbody>\n",
       "    <tr>\n",
       "      <th>8</th>\n",
       "      <td>yr_built</td>\n",
       "      <td>-149.607176</td>\n",
       "    </tr>\n",
       "    <tr>\n",
       "      <th>14</th>\n",
       "      <td>bedrooms condition</td>\n",
       "      <td>-89.776365</td>\n",
       "    </tr>\n",
       "    <tr>\n",
       "      <th>31</th>\n",
       "      <td>waterfront view</td>\n",
       "      <td>32.470600</td>\n",
       "    </tr>\n",
       "    <tr>\n",
       "      <th>36</th>\n",
       "      <td>view condition</td>\n",
       "      <td>87.878132</td>\n",
       "    </tr>\n",
       "    <tr>\n",
       "      <th>37</th>\n",
       "      <td>view grade</td>\n",
       "      <td>95.220551</td>\n",
       "    </tr>\n",
       "    <tr>\n",
       "      <th>33</th>\n",
       "      <td>waterfront grade</td>\n",
       "      <td>212.327546</td>\n",
       "    </tr>\n",
       "    <tr>\n",
       "      <th>9</th>\n",
       "      <td>lat</td>\n",
       "      <td>270.438849</td>\n",
       "    </tr>\n",
       "    <tr>\n",
       "      <th>22</th>\n",
       "      <td>bathrooms grade</td>\n",
       "      <td>409.097309</td>\n",
       "    </tr>\n",
       "    <tr>\n",
       "      <th>28</th>\n",
       "      <td>sqft_living grade</td>\n",
       "      <td>458.917517</td>\n",
       "    </tr>\n",
       "    <tr>\n",
       "      <th>44</th>\n",
       "      <td>grade lat</td>\n",
       "      <td>501.084078</td>\n",
       "    </tr>\n",
       "    <tr>\n",
       "      <th>27</th>\n",
       "      <td>sqft_living condition</td>\n",
       "      <td>560.011469</td>\n",
       "    </tr>\n",
       "  </tbody>\n",
       "</table>\n",
       "</div>"
      ],
      "text/plain": [
       "                        0           1\n",
       "8                yr_built -149.607176\n",
       "14     bedrooms condition  -89.776365\n",
       "31        waterfront view   32.470600\n",
       "36         view condition   87.878132\n",
       "37             view grade   95.220551\n",
       "33       waterfront grade  212.327546\n",
       "9                     lat  270.438849\n",
       "22        bathrooms grade  409.097309\n",
       "28      sqft_living grade  458.917517\n",
       "44              grade lat  501.084078\n",
       "27  sqft_living condition  560.011469"
      ]
     },
     "execution_count": 55,
     "metadata": {},
     "output_type": "execute_result"
    }
   ],
   "source": [
    "df_importances1 = pd.DataFrame(zip(pipe.named_steps[\"poly\"].get_feature_names_out(input_features = X.columns),\n",
    "                 pipe.named_steps[\"model\"].coef_,\n",
    "))\n",
    "col_names_dict = dict(zip(list(range(len(X.columns.values))), X.columns.values))\n",
    "print(col_names_dict)\n",
    "print(' ')\n",
    "df_importances1 = df_importances1[df_importances1[1] != 0]\n",
    "df_importances1.sort_values(by=1)"
   ]
  },
  {
   "cell_type": "code",
   "execution_count": 56,
   "id": "a169907a",
   "metadata": {},
   "outputs": [
    {
     "data": {
      "image/png": "[encoded data removed]",
      "text/plain": [
       "<Figure size 648x360 with 1 Axes>"
      ]
     },
     "metadata": {
      "needs_background": "light"
     },
     "output_type": "display_data"
    }
   ],
   "source": [
    "df_importances1.set_index(0, inplace = True)\n",
    "plt.figure(figsize = (9,5))\n",
    "df_importances1[1].sort_values(ascending = False).plot(kind = 'bar', color = 'darkred')\n",
    "plt.title('Bar plot for the coefficients for Lasso model, poly degree = 2, alpha = 0.1 and interaction only = True')\n",
    "plt.ylabel('Magnitude of the coefficients')\n",
    "plt.xlabel('The features of the model')\n",
    "plt.grid()\n",
    "plt.show()"
   ]
  },
  {
   "cell_type": "markdown",
   "id": "9f365da6",
   "metadata": {},
   "source": [
    "### 6. Conclusions:"
   ]
  },
  {
   "cell_type": "markdown",
   "id": "6b0ad383",
   "metadata": {},
   "source": [
    "#### 1. Correlation analysis:   \n",
    "\n",
    "Correlation analysis showed us that we have only 1 variable having strong positive correlation with the target variable (sqft_living). It seems very reasonable that overall house living square has the highest influence on house price.\n",
    "Several variables have middle positive correlation with house price. They are 'grade', 'sqft_above', 'sqft_living15', 'bathrooms', 'view', 'sqft_basement', 'bedrooms', 'lat'. Middle correlation should be between 0.3 and 0.7.   \n",
    "I developed several ML models to see the influence of every variable on house price and to understand their impact.   \n",
    "Lets compare these results with analysis of correlation between variables."
   ]
  },
  {
   "cell_type": "markdown",
   "id": "10e8c977",
   "metadata": {},
   "source": [
    "#### 2. Linear regression and RFE   \n",
    "LR model gives us several interesting insights. Firstly we see that variable 'year_built' (year then house was built) has negative impact on house pricing (we may conclude that some houses built very long time ago can be considered as historical ones and their prices are higher in this case). Quantity of bedrooms has also negative impact on price in simple Linear model (For the begining it looks little bit confusing but this parameter is correlated with sqft_living which should be correlated with quantity bathrooms. The biiger the living square than the bigger the quantity of bedrooms and bathrooms  in the house but the 'bathrooms' parameter has more impact on house pricing due to bigger cost of every bathroom then every bedroom (in correlation analysis we see higher impact of the 'bathrooms' in comparison with the 'bedrooms'as well. This fact proves my statement about higher bathrooms cost)).   \n",
    "Variables with strong positive impact are: 'grade', 'sqft_above', 'sqft_living', 'lat', 'bathrooms'. The parameter 'sqft_living15' was removed before modelling. We may see that these 5 parameters also have strong or middle positive correlation with our price variable so we may conclude that the results of interpretation of the LinR model and the correlation analysis are similar but with some difference concerning the 'bedrooms' and the 'year_built' parameters which have negative effect. But in reality it seems strange that quantity of bedrooms in house may have negative effect on price in mathematical model. To check this fact it is necessary to perform additional analysis with different model.  \n",
    "RFE:\n",
    "Firstly RFE showed us that we have 2 variables which have very strong influence on the tagret but doesn't improve the model perfomance ('sqft_above', sqft_basement') due to strong correlation with 'sqft_living'. We can exclude these 2 variables from the further analysis.   \n",
    "Secondly RFE showed that it is possible to exclude 6 variables with minor effect. They are: 3\tsqft_lot, floors, yr_renovated, long, month, day_of_month. In our correlation analysis all these variables have little impact (less then 0.3) and it means that the influence of these variables on the target variable is weak so I decided not to use them in the further analysis."
   ]
  },
  {
   "cell_type": "markdown",
   "id": "4f4943df",
   "metadata": {},
   "source": [
    "#### 3. Lasso analysis   \n",
    "For further Lasso analysis I have 10 variables (9 features) which is very good for model interpretation task.   \n",
    "In my interpretation analysis I have 3 models and all of them have the second poly degree with different hyperparameters.   \n",
    "Firstly all the models give us negative coeficient for the 'year_built' variable. It means that old houses have higher prices. \n",
    "The first model has regularization coefficient alpha = 1.0 and interaction_only = True. The last parameter allows us to estimate cooperation between fetures without separate poly degree for them.\n",
    "\n",
    "Parameters with the strongest impact are:   \n",
    "cooperation between 'grade' and 'lat' that means that overall estimation of house facilities with house special location gives us high price results for the house. In some districts houses have higher prices as well as houses with high grade in these expensive districts cost higher than ordinary houses.   \n",
    "The second strongest combination of the parameters is: 'sqft_living' and 'condition'. Sqft_living has the highest impact on the price (see LinR analysis) and it has even higher impact in coopertaion with 'condition' parameter.    \n",
    "Big houses in districts with good condition cost higher than small houses in districts with poor facilities. We see that Lasso model reflects real-life dependences.   \n",
    "The strongest single parameter here is 'lat'. It means that house location has high impact on its pricing. It is often truly for the majority of the cities. Our pairplot shows that the houses located in the north part of King county have higher prices.    Combination between 'bathrooms' and 'grade' doesn't seem to be very logical but we should understand that these parameters are strong when they are single and they also may have high weight for the model when they are combined.   \n",
    "The rest parameters have lower coefficients. They are: view, waterfront, view with lat and sqft_living with lat. In our case waterfront parameter is interesting and we see that this single feature has a little impact on pricing in our Lasso model. In previous assignment I proved that this parameter is impactful by hypothesis testing. Lasso model also shows us that this paramter is essential and influence house pricing.    \n",
    "\n",
    "The second model has interaction_only = False. It has little bit higher r2 score but gives us less insightful results. Grade^2 is the strongest parameter here but it is hard to interpret this result. We understand that the higher the estimated grade, the better the house and the higher the price but the second degree of the grade parameter doesn't give us any additional insight. Other coefficients look similar to the first lasso model excluding grade-lat parameter which is absent in this model.   \n",
    "\n",
    "The third model has lower alpha, weaker regularization and interaction_only hyperparameter = True: This model gives us little bit higher r2 score result and coefficients similar to the first Lasso model with minor difference.\n",
    "The parameters having the strongest coefficients are: grade-lat, sqft_living-condition, bathrooms-grade, sqft_living-grade. The first 2 parameters are the strongest parameters of the first Lasso model and the third and the forth parameters of this model are combinations of other parameters which are strong in when they are single.   \n",
    "Due to the fact that this model has r2 score which is very similar with the first Lasso model I suppose it would be better to use the first Lasso model for the model interpretation task for this dataset. This model has only 9 parameters showes us combination between features gives us high r2 score and it's very easy to interpret such simple model."
   ]
  },
  {
   "cell_type": "markdown",
   "id": "4672c71d",
   "metadata": {},
   "source": [
    "### 4. Final conclusions\n",
    "All models show us that old houses have higher prices.   \n",
    "The most influential single parameters are: 'grade', 'sqft_living', 'lat', 'bathrooms', 'waterfront'.\n",
    "The most influential combined parameters are: 'grade-lat', 'sqft_living-condition', 'bathrooms-grade'.\n",
    "The best hyperparameters for the model interpretation task are: poly degree = 2, alpha = 1.0 and interaction_only = True."
   ]
  }
 ],
 "metadata": {
  "kernelspec": {
   "display_name": "Python 3 (ipykernel)",
   "language": "python",
   "name": "python3"
  },
  "language_info": {
   "codemirror_mode": {
    "name": "ipython",
    "version": 3
   },
   "file_extension": ".py",
   "mimetype": "text/x-python",
   "name": "python",
   "nbconvert_exporter": "python",
   "pygments_lexer": "ipython3",
   "version": "3.9.12"
  }
 },
 "nbformat": 4,
 "nbformat_minor": 5
}
