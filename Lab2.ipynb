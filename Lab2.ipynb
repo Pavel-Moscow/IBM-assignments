{
 "cells": [
  {
   "cell_type": "markdown",
   "id": "0e5be5f4-964a-43c8-96d3-431d27250200",
   "metadata": {},
   "source": [
    "Lab2 which I should download"
   ]
  },
  {
   "cell_type": "code",
   "execution_count": 1,
   "id": "a95eaa80-0510-431f-b59a-aea17a1c6a7a",
   "metadata": {
    "tags": []
   },
   "outputs": [
    {
     "data": {
      "text/plain": [
       "2"
      ]
     },
     "execution_count": 1,
     "metadata": {},
     "output_type": "execute_result"
    }
   ],
   "source": [
    "1+1"
   ]
  }
 ],
 "metadata": {
  "kernelspec": {
   "display_name": "Python",
   "language": "python",
   "name": "conda-env-python-py"
  },
  "language_info": {
   "codemirror_mode": {
    "name": "ipython",
    "version": 3
   },
   "file_extension": ".py",
   "mimetype": "text/x-python",
   "name": "python",
   "nbconvert_exporter": "python",
   "pygments_lexer": "ipython3",
   "version": "3.7.10"
  }
 },
 "nbformat": 4,
 "nbformat_minor": 5
}
