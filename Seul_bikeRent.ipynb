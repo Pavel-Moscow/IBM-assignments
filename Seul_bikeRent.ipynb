{
 "cells": [
  {
   "cell_type": "markdown",
   "id": "5347c6e2",
   "metadata": {},
   "source": [
    "# Seoul Bike Sharing Demand Data Set\n",
    "### Assignment for module 2 of IBM ML specialization\n",
    "#### Pavel Narnov"
   ]
  },
  {
   "cell_type": "markdown",
   "id": "69208a61",
   "metadata": {},
   "source": [
    "This assignment contains the data analysis of bicycle renting in Seoul. The dataset was taken from [UCI ML Repository](https://archive.ics.uci.edu/ml/datasets/Seoul+Bike+Sharing+Demand). My goal is to find features which have strong influence to the target variable - Rented Bike count and to train a model which may allow to predict quantity of bikes rented in each hour depending on given conditions."
   ]
  },
  {
   "cell_type": "markdown",
   "id": "f0a9b635",
   "metadata": {},
   "source": [
    "### 1. Brief description of data "
   ]
  },
  {
   "cell_type": "code",
   "execution_count": 69,
   "id": "cd26babb",
   "metadata": {},
   "outputs": [
    {
     "data": {
      "text/html": [
       "<div>\n",
       "<style scoped>\n",
       "    .dataframe tbody tr th:only-of-type {\n",
       "        vertical-align: middle;\n",
       "    }\n",
       "\n",
       "    .dataframe tbody tr th {\n",
       "        vertical-align: top;\n",
       "    }\n",
       "\n",
       "    .dataframe thead th {\n",
       "        text-align: right;\n",
       "    }\n",
       "</style>\n",
       "<table border=\"1\" class=\"dataframe\">\n",
       "  <thead>\n",
       "    <tr style=\"text-align: right;\">\n",
       "      <th></th>\n",
       "      <th>Date</th>\n",
       "      <th>Rented Bike Count</th>\n",
       "      <th>Hour</th>\n",
       "      <th>Temperature(øC)</th>\n",
       "      <th>Humidity(%)</th>\n",
       "      <th>Wind speed (m/s)</th>\n",
       "      <th>Visibility (10m)</th>\n",
       "      <th>Dew point temperature(øC)</th>\n",
       "      <th>Solar Radiation (MJ/m2)</th>\n",
       "      <th>Rainfall(mm)</th>\n",
       "      <th>Snowfall (cm)</th>\n",
       "      <th>Seasons</th>\n",
       "      <th>Holiday</th>\n",
       "      <th>Functioning Day</th>\n",
       "    </tr>\n",
       "  </thead>\n",
       "  <tbody>\n",
       "    <tr>\n",
       "      <th>0</th>\n",
       "      <td>01/12/2017</td>\n",
       "      <td>254</td>\n",
       "      <td>0</td>\n",
       "      <td>-5.2</td>\n",
       "      <td>37</td>\n",
       "      <td>2.2</td>\n",
       "      <td>2000</td>\n",
       "      <td>-17.6</td>\n",
       "      <td>0.00</td>\n",
       "      <td>0.0</td>\n",
       "      <td>0.0</td>\n",
       "      <td>Winter</td>\n",
       "      <td>No Holiday</td>\n",
       "      <td>Yes</td>\n",
       "    </tr>\n",
       "    <tr>\n",
       "      <th>1</th>\n",
       "      <td>01/12/2017</td>\n",
       "      <td>204</td>\n",
       "      <td>1</td>\n",
       "      <td>-5.5</td>\n",
       "      <td>38</td>\n",
       "      <td>0.8</td>\n",
       "      <td>2000</td>\n",
       "      <td>-17.6</td>\n",
       "      <td>0.00</td>\n",
       "      <td>0.0</td>\n",
       "      <td>0.0</td>\n",
       "      <td>Winter</td>\n",
       "      <td>No Holiday</td>\n",
       "      <td>Yes</td>\n",
       "    </tr>\n",
       "    <tr>\n",
       "      <th>2</th>\n",
       "      <td>01/12/2017</td>\n",
       "      <td>173</td>\n",
       "      <td>2</td>\n",
       "      <td>-6.0</td>\n",
       "      <td>39</td>\n",
       "      <td>1.0</td>\n",
       "      <td>2000</td>\n",
       "      <td>-17.7</td>\n",
       "      <td>0.00</td>\n",
       "      <td>0.0</td>\n",
       "      <td>0.0</td>\n",
       "      <td>Winter</td>\n",
       "      <td>No Holiday</td>\n",
       "      <td>Yes</td>\n",
       "    </tr>\n",
       "    <tr>\n",
       "      <th>3</th>\n",
       "      <td>01/12/2017</td>\n",
       "      <td>107</td>\n",
       "      <td>3</td>\n",
       "      <td>-6.2</td>\n",
       "      <td>40</td>\n",
       "      <td>0.9</td>\n",
       "      <td>2000</td>\n",
       "      <td>-17.6</td>\n",
       "      <td>0.00</td>\n",
       "      <td>0.0</td>\n",
       "      <td>0.0</td>\n",
       "      <td>Winter</td>\n",
       "      <td>No Holiday</td>\n",
       "      <td>Yes</td>\n",
       "    </tr>\n",
       "    <tr>\n",
       "      <th>4</th>\n",
       "      <td>01/12/2017</td>\n",
       "      <td>78</td>\n",
       "      <td>4</td>\n",
       "      <td>-6.0</td>\n",
       "      <td>36</td>\n",
       "      <td>2.3</td>\n",
       "      <td>2000</td>\n",
       "      <td>-18.6</td>\n",
       "      <td>0.00</td>\n",
       "      <td>0.0</td>\n",
       "      <td>0.0</td>\n",
       "      <td>Winter</td>\n",
       "      <td>No Holiday</td>\n",
       "      <td>Yes</td>\n",
       "    </tr>\n",
       "    <tr>\n",
       "      <th>5</th>\n",
       "      <td>01/12/2017</td>\n",
       "      <td>100</td>\n",
       "      <td>5</td>\n",
       "      <td>-6.4</td>\n",
       "      <td>37</td>\n",
       "      <td>1.5</td>\n",
       "      <td>2000</td>\n",
       "      <td>-18.7</td>\n",
       "      <td>0.00</td>\n",
       "      <td>0.0</td>\n",
       "      <td>0.0</td>\n",
       "      <td>Winter</td>\n",
       "      <td>No Holiday</td>\n",
       "      <td>Yes</td>\n",
       "    </tr>\n",
       "    <tr>\n",
       "      <th>6</th>\n",
       "      <td>01/12/2017</td>\n",
       "      <td>181</td>\n",
       "      <td>6</td>\n",
       "      <td>-6.6</td>\n",
       "      <td>35</td>\n",
       "      <td>1.3</td>\n",
       "      <td>2000</td>\n",
       "      <td>-19.5</td>\n",
       "      <td>0.00</td>\n",
       "      <td>0.0</td>\n",
       "      <td>0.0</td>\n",
       "      <td>Winter</td>\n",
       "      <td>No Holiday</td>\n",
       "      <td>Yes</td>\n",
       "    </tr>\n",
       "    <tr>\n",
       "      <th>7</th>\n",
       "      <td>01/12/2017</td>\n",
       "      <td>460</td>\n",
       "      <td>7</td>\n",
       "      <td>-7.4</td>\n",
       "      <td>38</td>\n",
       "      <td>0.9</td>\n",
       "      <td>2000</td>\n",
       "      <td>-19.3</td>\n",
       "      <td>0.00</td>\n",
       "      <td>0.0</td>\n",
       "      <td>0.0</td>\n",
       "      <td>Winter</td>\n",
       "      <td>No Holiday</td>\n",
       "      <td>Yes</td>\n",
       "    </tr>\n",
       "    <tr>\n",
       "      <th>8</th>\n",
       "      <td>01/12/2017</td>\n",
       "      <td>930</td>\n",
       "      <td>8</td>\n",
       "      <td>-7.6</td>\n",
       "      <td>37</td>\n",
       "      <td>1.1</td>\n",
       "      <td>2000</td>\n",
       "      <td>-19.8</td>\n",
       "      <td>0.01</td>\n",
       "      <td>0.0</td>\n",
       "      <td>0.0</td>\n",
       "      <td>Winter</td>\n",
       "      <td>No Holiday</td>\n",
       "      <td>Yes</td>\n",
       "    </tr>\n",
       "    <tr>\n",
       "      <th>9</th>\n",
       "      <td>01/12/2017</td>\n",
       "      <td>490</td>\n",
       "      <td>9</td>\n",
       "      <td>-6.5</td>\n",
       "      <td>27</td>\n",
       "      <td>0.5</td>\n",
       "      <td>1928</td>\n",
       "      <td>-22.4</td>\n",
       "      <td>0.23</td>\n",
       "      <td>0.0</td>\n",
       "      <td>0.0</td>\n",
       "      <td>Winter</td>\n",
       "      <td>No Holiday</td>\n",
       "      <td>Yes</td>\n",
       "    </tr>\n",
       "  </tbody>\n",
       "</table>\n",
       "</div>"
      ],
      "text/plain": [
       "         Date  Rented Bike Count  Hour  Temperature(øC)  Humidity(%)  \\\n",
       "0  01/12/2017                254     0             -5.2           37   \n",
       "1  01/12/2017                204     1             -5.5           38   \n",
       "2  01/12/2017                173     2             -6.0           39   \n",
       "3  01/12/2017                107     3             -6.2           40   \n",
       "4  01/12/2017                 78     4             -6.0           36   \n",
       "5  01/12/2017                100     5             -6.4           37   \n",
       "6  01/12/2017                181     6             -6.6           35   \n",
       "7  01/12/2017                460     7             -7.4           38   \n",
       "8  01/12/2017                930     8             -7.6           37   \n",
       "9  01/12/2017                490     9             -6.5           27   \n",
       "\n",
       "   Wind speed (m/s)  Visibility (10m)  Dew point temperature(øC)  \\\n",
       "0               2.2              2000                      -17.6   \n",
       "1               0.8              2000                      -17.6   \n",
       "2               1.0              2000                      -17.7   \n",
       "3               0.9              2000                      -17.6   \n",
       "4               2.3              2000                      -18.6   \n",
       "5               1.5              2000                      -18.7   \n",
       "6               1.3              2000                      -19.5   \n",
       "7               0.9              2000                      -19.3   \n",
       "8               1.1              2000                      -19.8   \n",
       "9               0.5              1928                      -22.4   \n",
       "\n",
       "   Solar Radiation (MJ/m2)  Rainfall(mm)  Snowfall (cm) Seasons     Holiday  \\\n",
       "0                     0.00           0.0            0.0  Winter  No Holiday   \n",
       "1                     0.00           0.0            0.0  Winter  No Holiday   \n",
       "2                     0.00           0.0            0.0  Winter  No Holiday   \n",
       "3                     0.00           0.0            0.0  Winter  No Holiday   \n",
       "4                     0.00           0.0            0.0  Winter  No Holiday   \n",
       "5                     0.00           0.0            0.0  Winter  No Holiday   \n",
       "6                     0.00           0.0            0.0  Winter  No Holiday   \n",
       "7                     0.00           0.0            0.0  Winter  No Holiday   \n",
       "8                     0.01           0.0            0.0  Winter  No Holiday   \n",
       "9                     0.23           0.0            0.0  Winter  No Holiday   \n",
       "\n",
       "  Functioning Day  \n",
       "0             Yes  \n",
       "1             Yes  \n",
       "2             Yes  \n",
       "3             Yes  \n",
       "4             Yes  \n",
       "5             Yes  \n",
       "6             Yes  \n",
       "7             Yes  \n",
       "8             Yes  \n",
       "9             Yes  "
      ]
     },
     "execution_count": 69,
     "metadata": {},
     "output_type": "execute_result"
    }
   ],
   "source": [
    "import pandas as pd\n",
    "df = pd.read_csv('SeoulBikeData.csv', encoding='cp1252')\n",
    "df.head(10)"
   ]
  },
  {
   "cell_type": "code",
   "execution_count": 70,
   "id": "2b7c8013",
   "metadata": {},
   "outputs": [
    {
     "data": {
      "text/plain": [
       "(8760, 14)"
      ]
     },
     "execution_count": 70,
     "metadata": {},
     "output_type": "execute_result"
    }
   ],
   "source": [
    "df.shape"
   ]
  },
  {
   "cell_type": "markdown",
   "id": "86b85a13",
   "metadata": {},
   "source": [
    "We have 8760 entries and 14 attributes. To understand attributes better I will provide short desription of the dataset from UCI webpage and perform some EDA."
   ]
  },
  {
   "cell_type": "markdown",
   "id": "bbcfdf33",
   "metadata": {},
   "source": [
    "|Attribute|Info|\n",
    "|---------|----|\n",
    "|Date:    |year-month-day|\n",
    "|Rented Bike count|Count of bikes rented at each hour|\n",
    "|Hour|Hour of the day|\n",
    "|Temperature|Temperature in Celsius|\n",
    "|Humidity|%|\n",
    "|Windspeed|m/s|\n",
    "|Visibility|10m|\n",
    "|Dew point temperature|Celsius|\n",
    "|Solar radiation|MJ/m2|\n",
    "|Rainfall|mm|\n",
    "|Snowfall|cm|\n",
    "|Seasons|Winter, Spring, Summer, Autumn|\n",
    "|Holiday|Holiday/No holiday|\n",
    "|Functional Day|NoFunc(Non Functional Hours), Fun(Functional hours)|"
   ]
  },
  {
   "cell_type": "code",
   "execution_count": 71,
   "id": "0593f0a2",
   "metadata": {},
   "outputs": [
    {
     "name": "stdout",
     "output_type": "stream",
     "text": [
      "<class 'pandas.core.frame.DataFrame'>\n",
      "RangeIndex: 8760 entries, 0 to 8759\n",
      "Data columns (total 14 columns):\n",
      " #   Column                     Non-Null Count  Dtype  \n",
      "---  ------                     --------------  -----  \n",
      " 0   Date                       8760 non-null   object \n",
      " 1   Rented Bike Count          8760 non-null   int64  \n",
      " 2   Hour                       8760 non-null   int64  \n",
      " 3   Temperature(øC)            8760 non-null   float64\n",
      " 4   Humidity(%)                8760 non-null   int64  \n",
      " 5   Wind speed (m/s)           8760 non-null   float64\n",
      " 6   Visibility (10m)           8760 non-null   int64  \n",
      " 7   Dew point temperature(øC)  8760 non-null   float64\n",
      " 8   Solar Radiation (MJ/m2)    8760 non-null   float64\n",
      " 9   Rainfall(mm)               8760 non-null   float64\n",
      " 10  Snowfall (cm)              8760 non-null   float64\n",
      " 11  Seasons                    8760 non-null   object \n",
      " 12  Holiday                    8760 non-null   object \n",
      " 13  Functioning Day            8760 non-null   object \n",
      "dtypes: float64(6), int64(4), object(4)\n",
      "memory usage: 958.2+ KB\n"
     ]
    }
   ],
   "source": [
    "df.info()"
   ]
  },
  {
   "cell_type": "markdown",
   "id": "8f58813a",
   "metadata": {},
   "source": [
    "Our target variable is Rented Bike Count (col 1). We see that we have integer, float and odject variables, lets analize them and execute feature engineering."
   ]
  },
  {
   "cell_type": "markdown",
   "id": "517c629e",
   "metadata": {},
   "source": [
    "### 2. Feature engineering"
   ]
  },
  {
   "cell_type": "markdown",
   "id": "fcb63d6c",
   "metadata": {},
   "source": [
    "Firstly we see from df.info() that we have 8760 entries and all columns don't contain any Null variables so we dont need to perform Null values treatment."
   ]
  },
  {
   "cell_type": "code",
   "execution_count": 72,
   "id": "bea648c2",
   "metadata": {},
   "outputs": [
    {
     "data": {
      "text/plain": [
       "Date                         0\n",
       "Rented Bike Count            0\n",
       "Hour                         0\n",
       "Temperature(øC)              0\n",
       "Humidity(%)                  0\n",
       "Wind speed (m/s)             0\n",
       "Visibility (10m)             0\n",
       "Dew point temperature(øC)    0\n",
       "Solar Radiation (MJ/m2)      0\n",
       "Rainfall(mm)                 0\n",
       "Snowfall (cm)                0\n",
       "Seasons                      0\n",
       "Holiday                      0\n",
       "Functioning Day              0\n",
       "dtype: int64"
      ]
     },
     "execution_count": 72,
     "metadata": {},
     "output_type": "execute_result"
    }
   ],
   "source": [
    "df.isnull().sum()"
   ]
  },
  {
   "cell_type": "markdown",
   "id": "d70057a6",
   "metadata": {},
   "source": [
    "Hour variable respones for Hour of the day when bike was rented. We see 24 Hours below:"
   ]
  },
  {
   "cell_type": "code",
   "execution_count": 73,
   "id": "a5964a1d",
   "metadata": {
    "scrolled": false
   },
   "outputs": [
    {
     "data": {
      "text/plain": [
       "0     365\n",
       "1     365\n",
       "22    365\n",
       "21    365\n",
       "20    365\n",
       "19    365\n",
       "18    365\n",
       "17    365\n",
       "16    365\n",
       "15    365\n",
       "14    365\n",
       "13    365\n",
       "12    365\n",
       "11    365\n",
       "10    365\n",
       "9     365\n",
       "8     365\n",
       "7     365\n",
       "6     365\n",
       "5     365\n",
       "4     365\n",
       "3     365\n",
       "2     365\n",
       "23    365\n",
       "Name: Hour, dtype: int64"
      ]
     },
     "execution_count": 73,
     "metadata": {},
     "output_type": "execute_result"
    }
   ],
   "source": [
    "df[\"Hour\"].value_counts()"
   ]
  },
  {
   "cell_type": "markdown",
   "id": "3ec7c33e",
   "metadata": {},
   "source": [
    "Lets analyze our object variables:"
   ]
  },
  {
   "cell_type": "code",
   "execution_count": 74,
   "id": "7b299031",
   "metadata": {},
   "outputs": [
    {
     "name": "stderr",
     "output_type": "stream",
     "text": [
      "C:\\Users\\PNarnov\\AppData\\Local\\Temp\\ipykernel_11768\\418163288.py:2: DeprecationWarning: `np.object` is a deprecated alias for the builtin `object`. To silence this warning, use `object` by itself. Doing this will not modify any behavior and is safe. \n",
      "Deprecated in NumPy 1.20; for more details and guidance: https://numpy.org/devdocs/release/1.20.0-notes.html#deprecations\n",
      "  col_obj = df.dtypes[df.dtypes == np.object]\n"
     ]
    },
    {
     "data": {
      "text/html": [
       "<div>\n",
       "<style scoped>\n",
       "    .dataframe tbody tr th:only-of-type {\n",
       "        vertical-align: middle;\n",
       "    }\n",
       "\n",
       "    .dataframe tbody tr th {\n",
       "        vertical-align: top;\n",
       "    }\n",
       "\n",
       "    .dataframe thead th {\n",
       "        text-align: right;\n",
       "    }\n",
       "</style>\n",
       "<table border=\"1\" class=\"dataframe\">\n",
       "  <thead>\n",
       "    <tr style=\"text-align: right;\">\n",
       "      <th></th>\n",
       "      <th>Date</th>\n",
       "      <th>Seasons</th>\n",
       "      <th>Holiday</th>\n",
       "      <th>Functioning Day</th>\n",
       "    </tr>\n",
       "  </thead>\n",
       "  <tbody>\n",
       "    <tr>\n",
       "      <th>0</th>\n",
       "      <td>01/12/2017</td>\n",
       "      <td>Winter</td>\n",
       "      <td>No Holiday</td>\n",
       "      <td>Yes</td>\n",
       "    </tr>\n",
       "    <tr>\n",
       "      <th>1</th>\n",
       "      <td>01/12/2017</td>\n",
       "      <td>Winter</td>\n",
       "      <td>No Holiday</td>\n",
       "      <td>Yes</td>\n",
       "    </tr>\n",
       "    <tr>\n",
       "      <th>2</th>\n",
       "      <td>01/12/2017</td>\n",
       "      <td>Winter</td>\n",
       "      <td>No Holiday</td>\n",
       "      <td>Yes</td>\n",
       "    </tr>\n",
       "    <tr>\n",
       "      <th>3</th>\n",
       "      <td>01/12/2017</td>\n",
       "      <td>Winter</td>\n",
       "      <td>No Holiday</td>\n",
       "      <td>Yes</td>\n",
       "    </tr>\n",
       "    <tr>\n",
       "      <th>4</th>\n",
       "      <td>01/12/2017</td>\n",
       "      <td>Winter</td>\n",
       "      <td>No Holiday</td>\n",
       "      <td>Yes</td>\n",
       "    </tr>\n",
       "  </tbody>\n",
       "</table>\n",
       "</div>"
      ],
      "text/plain": [
       "         Date Seasons     Holiday Functioning Day\n",
       "0  01/12/2017  Winter  No Holiday             Yes\n",
       "1  01/12/2017  Winter  No Holiday             Yes\n",
       "2  01/12/2017  Winter  No Holiday             Yes\n",
       "3  01/12/2017  Winter  No Holiday             Yes\n",
       "4  01/12/2017  Winter  No Holiday             Yes"
      ]
     },
     "execution_count": 74,
     "metadata": {},
     "output_type": "execute_result"
    }
   ],
   "source": [
    "import numpy as np\n",
    "col_obj = df.dtypes[df.dtypes == np.object]\n",
    "col_obj = col_obj.index.tolist()\n",
    "df[col_obj].head()"
   ]
  },
  {
   "cell_type": "markdown",
   "id": "d6bc35d1",
   "metadata": {},
   "source": [
    "We have 4 object variables, Lets analyze Seasons, Holiday and Func Day."
   ]
  },
  {
   "cell_type": "code",
   "execution_count": 75,
   "id": "c87efe25",
   "metadata": {},
   "outputs": [
    {
     "data": {
      "text/plain": [
       "Spring    2208\n",
       "Summer    2208\n",
       "Autumn    2184\n",
       "Winter    2160\n",
       "Name: Seasons, dtype: int64"
      ]
     },
     "execution_count": 75,
     "metadata": {},
     "output_type": "execute_result"
    }
   ],
   "source": [
    "df['Seasons'].value_counts()"
   ]
  },
  {
   "cell_type": "code",
   "execution_count": 76,
   "id": "3b30f498",
   "metadata": {},
   "outputs": [
    {
     "data": {
      "text/plain": [
       "No Holiday    8328\n",
       "Holiday        432\n",
       "Name: Holiday, dtype: int64"
      ]
     },
     "execution_count": 76,
     "metadata": {},
     "output_type": "execute_result"
    }
   ],
   "source": [
    "df['Holiday'].value_counts()"
   ]
  },
  {
   "cell_type": "code",
   "execution_count": 77,
   "id": "8559d02a",
   "metadata": {},
   "outputs": [
    {
     "data": {
      "text/plain": [
       "Yes    8465\n",
       "No      295\n",
       "Name: Functioning Day, dtype: int64"
      ]
     },
     "execution_count": 77,
     "metadata": {},
     "output_type": "execute_result"
    }
   ],
   "source": [
    "df['Functioning Day'].value_counts()"
   ]
  },
  {
   "cell_type": "markdown",
   "id": "fb6f9e57",
   "metadata": {},
   "source": [
    "All our object variables are nominal so we can perform their encoding. We will do one hot encoding for seasons and nominal encoding for Func day and Holiday columns."
   ]
  },
  {
   "cell_type": "code",
   "execution_count": 78,
   "id": "1a242b7b",
   "metadata": {},
   "outputs": [
    {
     "data": {
      "text/html": [
       "<div>\n",
       "<style scoped>\n",
       "    .dataframe tbody tr th:only-of-type {\n",
       "        vertical-align: middle;\n",
       "    }\n",
       "\n",
       "    .dataframe tbody tr th {\n",
       "        vertical-align: top;\n",
       "    }\n",
       "\n",
       "    .dataframe thead th {\n",
       "        text-align: right;\n",
       "    }\n",
       "</style>\n",
       "<table border=\"1\" class=\"dataframe\">\n",
       "  <thead>\n",
       "    <tr style=\"text-align: right;\">\n",
       "      <th></th>\n",
       "      <th>Rented Bike Count</th>\n",
       "      <th>Hour</th>\n",
       "      <th>Temperature(øC)</th>\n",
       "      <th>Humidity(%)</th>\n",
       "      <th>Wind speed (m/s)</th>\n",
       "      <th>Visibility (10m)</th>\n",
       "      <th>Dew point temperature(øC)</th>\n",
       "      <th>Solar Radiation (MJ/m2)</th>\n",
       "      <th>Rainfall(mm)</th>\n",
       "      <th>Snowfall (cm)</th>\n",
       "      <th>Holiday</th>\n",
       "      <th>Functioning Day</th>\n",
       "      <th>Seasons_Autumn</th>\n",
       "      <th>Seasons_Spring</th>\n",
       "      <th>Seasons_Summer</th>\n",
       "      <th>Seasons_Winter</th>\n",
       "    </tr>\n",
       "  </thead>\n",
       "  <tbody>\n",
       "    <tr>\n",
       "      <th>0</th>\n",
       "      <td>254</td>\n",
       "      <td>0</td>\n",
       "      <td>-5.2</td>\n",
       "      <td>37</td>\n",
       "      <td>2.2</td>\n",
       "      <td>2000</td>\n",
       "      <td>-17.6</td>\n",
       "      <td>0.0</td>\n",
       "      <td>0.0</td>\n",
       "      <td>0.0</td>\n",
       "      <td>0</td>\n",
       "      <td>1</td>\n",
       "      <td>0</td>\n",
       "      <td>0</td>\n",
       "      <td>0</td>\n",
       "      <td>1</td>\n",
       "    </tr>\n",
       "    <tr>\n",
       "      <th>1</th>\n",
       "      <td>204</td>\n",
       "      <td>1</td>\n",
       "      <td>-5.5</td>\n",
       "      <td>38</td>\n",
       "      <td>0.8</td>\n",
       "      <td>2000</td>\n",
       "      <td>-17.6</td>\n",
       "      <td>0.0</td>\n",
       "      <td>0.0</td>\n",
       "      <td>0.0</td>\n",
       "      <td>0</td>\n",
       "      <td>1</td>\n",
       "      <td>0</td>\n",
       "      <td>0</td>\n",
       "      <td>0</td>\n",
       "      <td>1</td>\n",
       "    </tr>\n",
       "    <tr>\n",
       "      <th>2</th>\n",
       "      <td>173</td>\n",
       "      <td>2</td>\n",
       "      <td>-6.0</td>\n",
       "      <td>39</td>\n",
       "      <td>1.0</td>\n",
       "      <td>2000</td>\n",
       "      <td>-17.7</td>\n",
       "      <td>0.0</td>\n",
       "      <td>0.0</td>\n",
       "      <td>0.0</td>\n",
       "      <td>0</td>\n",
       "      <td>1</td>\n",
       "      <td>0</td>\n",
       "      <td>0</td>\n",
       "      <td>0</td>\n",
       "      <td>1</td>\n",
       "    </tr>\n",
       "    <tr>\n",
       "      <th>3</th>\n",
       "      <td>107</td>\n",
       "      <td>3</td>\n",
       "      <td>-6.2</td>\n",
       "      <td>40</td>\n",
       "      <td>0.9</td>\n",
       "      <td>2000</td>\n",
       "      <td>-17.6</td>\n",
       "      <td>0.0</td>\n",
       "      <td>0.0</td>\n",
       "      <td>0.0</td>\n",
       "      <td>0</td>\n",
       "      <td>1</td>\n",
       "      <td>0</td>\n",
       "      <td>0</td>\n",
       "      <td>0</td>\n",
       "      <td>1</td>\n",
       "    </tr>\n",
       "    <tr>\n",
       "      <th>4</th>\n",
       "      <td>78</td>\n",
       "      <td>4</td>\n",
       "      <td>-6.0</td>\n",
       "      <td>36</td>\n",
       "      <td>2.3</td>\n",
       "      <td>2000</td>\n",
       "      <td>-18.6</td>\n",
       "      <td>0.0</td>\n",
       "      <td>0.0</td>\n",
       "      <td>0.0</td>\n",
       "      <td>0</td>\n",
       "      <td>1</td>\n",
       "      <td>0</td>\n",
       "      <td>0</td>\n",
       "      <td>0</td>\n",
       "      <td>1</td>\n",
       "    </tr>\n",
       "  </tbody>\n",
       "</table>\n",
       "</div>"
      ],
      "text/plain": [
       "   Rented Bike Count  Hour  Temperature(øC)  Humidity(%)  Wind speed (m/s)  \\\n",
       "0                254     0             -5.2           37               2.2   \n",
       "1                204     1             -5.5           38               0.8   \n",
       "2                173     2             -6.0           39               1.0   \n",
       "3                107     3             -6.2           40               0.9   \n",
       "4                 78     4             -6.0           36               2.3   \n",
       "\n",
       "   Visibility (10m)  Dew point temperature(øC)  Solar Radiation (MJ/m2)  \\\n",
       "0              2000                      -17.6                      0.0   \n",
       "1              2000                      -17.6                      0.0   \n",
       "2              2000                      -17.7                      0.0   \n",
       "3              2000                      -17.6                      0.0   \n",
       "4              2000                      -18.6                      0.0   \n",
       "\n",
       "   Rainfall(mm)  Snowfall (cm)  Holiday  Functioning Day  Seasons_Autumn  \\\n",
       "0           0.0            0.0        0                1               0   \n",
       "1           0.0            0.0        0                1               0   \n",
       "2           0.0            0.0        0                1               0   \n",
       "3           0.0            0.0        0                1               0   \n",
       "4           0.0            0.0        0                1               0   \n",
       "\n",
       "   Seasons_Spring  Seasons_Summer  Seasons_Winter  \n",
       "0               0               0               1  \n",
       "1               0               0               1  \n",
       "2               0               0               1  \n",
       "3               0               0               1  \n",
       "4               0               0               1  "
      ]
     },
     "execution_count": 78,
     "metadata": {},
     "output_type": "execute_result"
    }
   ],
   "source": [
    "dumm_df = pd.get_dummies(df[['Seasons']])\n",
    "Holiday = []\n",
    "Func_day = []\n",
    "\n",
    "for value in df.loc[:, 'Holiday']:\n",
    "    if value == 'No Holiday':\n",
    "        Holiday.append(0)\n",
    "    else:\n",
    "        Holiday.append(1)\n",
    "        \n",
    "for value in df.loc[:, 'Functioning Day']:\n",
    "    if value == 'No':\n",
    "        Func_day.append(0)\n",
    "    else:\n",
    "        Func_day.append(1)\n",
    "\n",
    "data = pd.concat([df, dumm_df], axis = 1)\n",
    "data['Holiday'] = Holiday\n",
    "data['Functioning Day'] = Func_day\n",
    "data.drop('Date', axis = 1, inplace = True)\n",
    "data.drop('Seasons', axis = 1, inplace = True)\n",
    "\n",
    "data.head()"
   ]
  },
  {
   "cell_type": "code",
   "execution_count": 79,
   "id": "cec46378",
   "metadata": {},
   "outputs": [
    {
     "name": "stdout",
     "output_type": "stream",
     "text": [
      "<class 'pandas.core.frame.DataFrame'>\n",
      "RangeIndex: 8760 entries, 0 to 8759\n",
      "Data columns (total 16 columns):\n",
      " #   Column                     Non-Null Count  Dtype  \n",
      "---  ------                     --------------  -----  \n",
      " 0   Rented Bike Count          8760 non-null   int64  \n",
      " 1   Hour                       8760 non-null   int64  \n",
      " 2   Temperature(øC)            8760 non-null   float64\n",
      " 3   Humidity(%)                8760 non-null   int64  \n",
      " 4   Wind speed (m/s)           8760 non-null   float64\n",
      " 5   Visibility (10m)           8760 non-null   int64  \n",
      " 6   Dew point temperature(øC)  8760 non-null   float64\n",
      " 7   Solar Radiation (MJ/m2)    8760 non-null   float64\n",
      " 8   Rainfall(mm)               8760 non-null   float64\n",
      " 9   Snowfall (cm)              8760 non-null   float64\n",
      " 10  Holiday                    8760 non-null   int64  \n",
      " 11  Functioning Day            8760 non-null   int64  \n",
      " 12  Seasons_Autumn             8760 non-null   uint8  \n",
      " 13  Seasons_Spring             8760 non-null   uint8  \n",
      " 14  Seasons_Summer             8760 non-null   uint8  \n",
      " 15  Seasons_Winter             8760 non-null   uint8  \n",
      "dtypes: float64(6), int64(6), uint8(4)\n",
      "memory usage: 855.6 KB\n"
     ]
    }
   ],
   "source": [
    "data.info()"
   ]
  },
  {
   "cell_type": "code",
   "execution_count": 80,
   "id": "dc223b8b",
   "metadata": {},
   "outputs": [
    {
     "data": {
      "text/plain": [
       "(8760, 16)"
      ]
     },
     "execution_count": 80,
     "metadata": {},
     "output_type": "execute_result"
    }
   ],
   "source": [
    "data.shape"
   ]
  },
  {
   "cell_type": "markdown",
   "id": "9d38c421",
   "metadata": {},
   "source": [
    "After performing feature engineering we have 16 columns instead of 14 and don't have object variables."
   ]
  },
  {
   "cell_type": "code",
   "execution_count": 81,
   "id": "26fe4412",
   "metadata": {},
   "outputs": [
    {
     "data": {
      "text/plain": [
       "0    8328\n",
       "1     432\n",
       "Name: Holiday, dtype: int64"
      ]
     },
     "execution_count": 81,
     "metadata": {},
     "output_type": "execute_result"
    }
   ],
   "source": [
    "data['Holiday'].value_counts()"
   ]
  },
  {
   "cell_type": "code",
   "execution_count": 82,
   "id": "b5af7407",
   "metadata": {},
   "outputs": [
    {
     "data": {
      "text/plain": [
       "1    8465\n",
       "0     295\n",
       "Name: Functioning Day, dtype: int64"
      ]
     },
     "execution_count": 82,
     "metadata": {},
     "output_type": "execute_result"
    }
   ],
   "source": [
    "data['Functioning Day'].value_counts()"
   ]
  },
  {
   "cell_type": "code",
   "execution_count": 83,
   "id": "8af533a4",
   "metadata": {},
   "outputs": [],
   "source": [
    "data.to_csv('Bikes_cleaned.csv')"
   ]
  },
  {
   "cell_type": "markdown",
   "id": "60f6dcec",
   "metadata": {},
   "source": [
    "Let's analyze distribution of our target variable:"
   ]
  },
  {
   "cell_type": "code",
   "execution_count": 84,
   "id": "9c4bdb83",
   "metadata": {},
   "outputs": [
    {
     "name": "stderr",
     "output_type": "stream",
     "text": [
      "C:\\Users\\PNarnov\\Anaconda3\\lib\\site-packages\\seaborn\\distributions.py:2619: FutureWarning: `distplot` is a deprecated function and will be removed in a future version. Please adapt your code to use either `displot` (a figure-level function with similar flexibility) or `histplot` (an axes-level function for histograms).\n",
      "  warnings.warn(msg, FutureWarning)\n"
     ]
    },
    {
     "data": {
      "image/png": "[encoded data removed]",
      "text/plain": [
       "<Figure size 864x576 with 1 Axes>"
      ]
     },
     "metadata": {
      "needs_background": "light"
     },
     "output_type": "display_data"
    }
   ],
   "source": [
    "import seaborn as sns\n",
    "import matplotlib as mpl\n",
    "import matplotlib.pyplot as plt\n",
    "%matplotlib inline\n",
    "\n",
    "plt.figure(figsize = (12,8))\n",
    "sns.distplot(data['Rented Bike Count'], color = 'b', bins = 50)\n",
    "plt.show()"
   ]
  },
  {
   "cell_type": "markdown",
   "id": "802098a3",
   "metadata": {},
   "source": [
    "We see that our target variable is right skewed."
   ]
  },
  {
   "cell_type": "code",
   "execution_count": 85,
   "id": "3288c318",
   "metadata": {
    "scrolled": true
   },
   "outputs": [
    {
     "data": {
      "text/plain": [
       "1.1534281773679014"
      ]
     },
     "execution_count": 85,
     "metadata": {},
     "output_type": "execute_result"
    }
   ],
   "source": [
    "data['Rented Bike Count'].skew()"
   ]
  },
  {
   "cell_type": "markdown",
   "id": "f1d5e149",
   "metadata": {},
   "source": [
    "We have strong positive skewness of our target variable."
   ]
  },
  {
   "cell_type": "code",
   "execution_count": 86,
   "id": "ef425eb1",
   "metadata": {},
   "outputs": [
    {
     "data": {
      "text/plain": [
       "NormaltestResult(statistic=1415.73323838599, pvalue=3.779491395679156e-308)"
      ]
     },
     "execution_count": 86,
     "metadata": {},
     "output_type": "execute_result"
    }
   ],
   "source": [
    "from scipy.stats import normaltest\n",
    "normaltest(data['Rented Bike Count'].values)"
   ]
  },
  {
   "cell_type": "markdown",
   "id": "39e270e9",
   "metadata": {},
   "source": [
    "Normal test shows us that we are far from normal distribution as well"
   ]
  },
  {
   "cell_type": "markdown",
   "id": "3d6a8c56",
   "metadata": {},
   "source": [
    "Since we have some entries equal to 0 we cannot perform boxcox and log transforming of our target variable. We may perform only sqrt transforming. Lets check how it works:"
   ]
  },
  {
   "cell_type": "code",
   "execution_count": 87,
   "id": "3a01b70e",
   "metadata": {},
   "outputs": [],
   "source": [
    "sqrt_target = np.sqrt(data['Rented Bike Count'])"
   ]
  },
  {
   "cell_type": "code",
   "execution_count": 88,
   "id": "36e2748c",
   "metadata": {},
   "outputs": [
    {
     "name": "stderr",
     "output_type": "stream",
     "text": [
      "C:\\Users\\PNarnov\\Anaconda3\\lib\\site-packages\\seaborn\\distributions.py:2619: FutureWarning: `distplot` is a deprecated function and will be removed in a future version. Please adapt your code to use either `displot` (a figure-level function with similar flexibility) or `histplot` (an axes-level function for histograms).\n",
      "  warnings.warn(msg, FutureWarning)\n"
     ]
    },
    {
     "data": {
      "image/png": "[encoded data removed]",
      "text/plain": [
       "<Figure size 864x576 with 1 Axes>"
      ]
     },
     "metadata": {
      "needs_background": "light"
     },
     "output_type": "display_data"
    }
   ],
   "source": [
    "plt.figure(figsize = (12,8))\n",
    "sns.distplot(sqrt_target, color = 'r', bins = 50)\n",
    "plt.show()"
   ]
  },
  {
   "cell_type": "markdown",
   "id": "fa32a402",
   "metadata": {},
   "source": [
    "Now our variable is more normally distributed."
   ]
  },
  {
   "cell_type": "code",
   "execution_count": 89,
   "id": "a1a20ee6",
   "metadata": {},
   "outputs": [
    {
     "data": {
      "text/plain": [
       "0.237362090985412"
      ]
     },
     "execution_count": 89,
     "metadata": {},
     "output_type": "execute_result"
    }
   ],
   "source": [
    "sqrt_target.skew()"
   ]
  },
  {
   "cell_type": "markdown",
   "id": "93813f22",
   "metadata": {},
   "source": [
    "And we see that our skewness is less."
   ]
  },
  {
   "cell_type": "code",
   "execution_count": 90,
   "id": "83901b18",
   "metadata": {},
   "outputs": [
    {
     "data": {
      "text/plain": [
       "NormaltestResult(statistic=455.6349868822935, pvalue=1.148470164788618e-99)"
      ]
     },
     "execution_count": 90,
     "metadata": {},
     "output_type": "execute_result"
    }
   ],
   "source": [
    "normaltest(sqrt_target)"
   ]
  },
  {
   "cell_type": "markdown",
   "id": "51343e37",
   "metadata": {},
   "source": [
    "But normaltest shows that we still don't have normal distribution of target variable. But our results are much better now. p_value is much more higher."
   ]
  },
  {
   "cell_type": "markdown",
   "id": "30b60714",
   "metadata": {},
   "source": [
    "### 3. Modelling\n",
    "a. Simple linear model checking influence of target variable distribution   \n",
    "b. Lasso model which we need find the strongest features   \n",
    "c. Ridge model with GridSearch CV and getting the best hyperparameters and parameters for prediction "
   ]
  },
  {
   "cell_type": "markdown",
   "id": "b1f6959a",
   "metadata": {},
   "source": [
    "Firstly we are importing our libraries"
   ]
  },
  {
   "cell_type": "code",
   "execution_count": 91,
   "id": "f78833c0",
   "metadata": {},
   "outputs": [],
   "source": [
    "import numpy as np\n",
    "from sklearn.preprocessing import PolynomialFeatures, StandardScaler, MinMaxScaler\n",
    "from sklearn.model_selection import train_test_split, cross_val_predict, cross_val_score, KFold\n",
    "from sklearn.linear_model import LinearRegression, Lasso, Ridge\n",
    "from sklearn.metrics import r2_score, mean_squared_error\n",
    "from sklearn.pipeline import Pipeline"
   ]
  },
  {
   "cell_type": "code",
   "execution_count": 92,
   "id": "bd1f93f9",
   "metadata": {
    "scrolled": false
   },
   "outputs": [
    {
     "data": {
      "text/html": [
       "<div>\n",
       "<style scoped>\n",
       "    .dataframe tbody tr th:only-of-type {\n",
       "        vertical-align: middle;\n",
       "    }\n",
       "\n",
       "    .dataframe tbody tr th {\n",
       "        vertical-align: top;\n",
       "    }\n",
       "\n",
       "    .dataframe thead th {\n",
       "        text-align: right;\n",
       "    }\n",
       "</style>\n",
       "<table border=\"1\" class=\"dataframe\">\n",
       "  <thead>\n",
       "    <tr style=\"text-align: right;\">\n",
       "      <th></th>\n",
       "      <th>Rented Bike Count</th>\n",
       "      <th>Hour</th>\n",
       "      <th>Temperature(øC)</th>\n",
       "      <th>Humidity(%)</th>\n",
       "      <th>Wind speed (m/s)</th>\n",
       "      <th>Visibility (10m)</th>\n",
       "      <th>Dew point temperature(øC)</th>\n",
       "      <th>Solar Radiation (MJ/m2)</th>\n",
       "      <th>Rainfall(mm)</th>\n",
       "      <th>Snowfall (cm)</th>\n",
       "      <th>Holiday</th>\n",
       "      <th>Functioning Day</th>\n",
       "      <th>Seasons_Autumn</th>\n",
       "      <th>Seasons_Spring</th>\n",
       "      <th>Seasons_Summer</th>\n",
       "      <th>Seasons_Winter</th>\n",
       "    </tr>\n",
       "  </thead>\n",
       "  <tbody>\n",
       "    <tr>\n",
       "      <th>0</th>\n",
       "      <td>254</td>\n",
       "      <td>0</td>\n",
       "      <td>-5.2</td>\n",
       "      <td>37</td>\n",
       "      <td>2.2</td>\n",
       "      <td>2000</td>\n",
       "      <td>-17.6</td>\n",
       "      <td>0.00</td>\n",
       "      <td>0.0</td>\n",
       "      <td>0.0</td>\n",
       "      <td>0</td>\n",
       "      <td>1</td>\n",
       "      <td>0</td>\n",
       "      <td>0</td>\n",
       "      <td>0</td>\n",
       "      <td>1</td>\n",
       "    </tr>\n",
       "    <tr>\n",
       "      <th>1</th>\n",
       "      <td>204</td>\n",
       "      <td>1</td>\n",
       "      <td>-5.5</td>\n",
       "      <td>38</td>\n",
       "      <td>0.8</td>\n",
       "      <td>2000</td>\n",
       "      <td>-17.6</td>\n",
       "      <td>0.00</td>\n",
       "      <td>0.0</td>\n",
       "      <td>0.0</td>\n",
       "      <td>0</td>\n",
       "      <td>1</td>\n",
       "      <td>0</td>\n",
       "      <td>0</td>\n",
       "      <td>0</td>\n",
       "      <td>1</td>\n",
       "    </tr>\n",
       "    <tr>\n",
       "      <th>2</th>\n",
       "      <td>173</td>\n",
       "      <td>2</td>\n",
       "      <td>-6.0</td>\n",
       "      <td>39</td>\n",
       "      <td>1.0</td>\n",
       "      <td>2000</td>\n",
       "      <td>-17.7</td>\n",
       "      <td>0.00</td>\n",
       "      <td>0.0</td>\n",
       "      <td>0.0</td>\n",
       "      <td>0</td>\n",
       "      <td>1</td>\n",
       "      <td>0</td>\n",
       "      <td>0</td>\n",
       "      <td>0</td>\n",
       "      <td>1</td>\n",
       "    </tr>\n",
       "    <tr>\n",
       "      <th>3</th>\n",
       "      <td>107</td>\n",
       "      <td>3</td>\n",
       "      <td>-6.2</td>\n",
       "      <td>40</td>\n",
       "      <td>0.9</td>\n",
       "      <td>2000</td>\n",
       "      <td>-17.6</td>\n",
       "      <td>0.00</td>\n",
       "      <td>0.0</td>\n",
       "      <td>0.0</td>\n",
       "      <td>0</td>\n",
       "      <td>1</td>\n",
       "      <td>0</td>\n",
       "      <td>0</td>\n",
       "      <td>0</td>\n",
       "      <td>1</td>\n",
       "    </tr>\n",
       "    <tr>\n",
       "      <th>4</th>\n",
       "      <td>78</td>\n",
       "      <td>4</td>\n",
       "      <td>-6.0</td>\n",
       "      <td>36</td>\n",
       "      <td>2.3</td>\n",
       "      <td>2000</td>\n",
       "      <td>-18.6</td>\n",
       "      <td>0.00</td>\n",
       "      <td>0.0</td>\n",
       "      <td>0.0</td>\n",
       "      <td>0</td>\n",
       "      <td>1</td>\n",
       "      <td>0</td>\n",
       "      <td>0</td>\n",
       "      <td>0</td>\n",
       "      <td>1</td>\n",
       "    </tr>\n",
       "    <tr>\n",
       "      <th>5</th>\n",
       "      <td>100</td>\n",
       "      <td>5</td>\n",
       "      <td>-6.4</td>\n",
       "      <td>37</td>\n",
       "      <td>1.5</td>\n",
       "      <td>2000</td>\n",
       "      <td>-18.7</td>\n",
       "      <td>0.00</td>\n",
       "      <td>0.0</td>\n",
       "      <td>0.0</td>\n",
       "      <td>0</td>\n",
       "      <td>1</td>\n",
       "      <td>0</td>\n",
       "      <td>0</td>\n",
       "      <td>0</td>\n",
       "      <td>1</td>\n",
       "    </tr>\n",
       "    <tr>\n",
       "      <th>6</th>\n",
       "      <td>181</td>\n",
       "      <td>6</td>\n",
       "      <td>-6.6</td>\n",
       "      <td>35</td>\n",
       "      <td>1.3</td>\n",
       "      <td>2000</td>\n",
       "      <td>-19.5</td>\n",
       "      <td>0.00</td>\n",
       "      <td>0.0</td>\n",
       "      <td>0.0</td>\n",
       "      <td>0</td>\n",
       "      <td>1</td>\n",
       "      <td>0</td>\n",
       "      <td>0</td>\n",
       "      <td>0</td>\n",
       "      <td>1</td>\n",
       "    </tr>\n",
       "    <tr>\n",
       "      <th>7</th>\n",
       "      <td>460</td>\n",
       "      <td>7</td>\n",
       "      <td>-7.4</td>\n",
       "      <td>38</td>\n",
       "      <td>0.9</td>\n",
       "      <td>2000</td>\n",
       "      <td>-19.3</td>\n",
       "      <td>0.00</td>\n",
       "      <td>0.0</td>\n",
       "      <td>0.0</td>\n",
       "      <td>0</td>\n",
       "      <td>1</td>\n",
       "      <td>0</td>\n",
       "      <td>0</td>\n",
       "      <td>0</td>\n",
       "      <td>1</td>\n",
       "    </tr>\n",
       "    <tr>\n",
       "      <th>8</th>\n",
       "      <td>930</td>\n",
       "      <td>8</td>\n",
       "      <td>-7.6</td>\n",
       "      <td>37</td>\n",
       "      <td>1.1</td>\n",
       "      <td>2000</td>\n",
       "      <td>-19.8</td>\n",
       "      <td>0.01</td>\n",
       "      <td>0.0</td>\n",
       "      <td>0.0</td>\n",
       "      <td>0</td>\n",
       "      <td>1</td>\n",
       "      <td>0</td>\n",
       "      <td>0</td>\n",
       "      <td>0</td>\n",
       "      <td>1</td>\n",
       "    </tr>\n",
       "    <tr>\n",
       "      <th>9</th>\n",
       "      <td>490</td>\n",
       "      <td>9</td>\n",
       "      <td>-6.5</td>\n",
       "      <td>27</td>\n",
       "      <td>0.5</td>\n",
       "      <td>1928</td>\n",
       "      <td>-22.4</td>\n",
       "      <td>0.23</td>\n",
       "      <td>0.0</td>\n",
       "      <td>0.0</td>\n",
       "      <td>0</td>\n",
       "      <td>1</td>\n",
       "      <td>0</td>\n",
       "      <td>0</td>\n",
       "      <td>0</td>\n",
       "      <td>1</td>\n",
       "    </tr>\n",
       "  </tbody>\n",
       "</table>\n",
       "</div>"
      ],
      "text/plain": [
       "   Rented Bike Count  Hour  Temperature(øC)  Humidity(%)  Wind speed (m/s)  \\\n",
       "0                254     0             -5.2           37               2.2   \n",
       "1                204     1             -5.5           38               0.8   \n",
       "2                173     2             -6.0           39               1.0   \n",
       "3                107     3             -6.2           40               0.9   \n",
       "4                 78     4             -6.0           36               2.3   \n",
       "5                100     5             -6.4           37               1.5   \n",
       "6                181     6             -6.6           35               1.3   \n",
       "7                460     7             -7.4           38               0.9   \n",
       "8                930     8             -7.6           37               1.1   \n",
       "9                490     9             -6.5           27               0.5   \n",
       "\n",
       "   Visibility (10m)  Dew point temperature(øC)  Solar Radiation (MJ/m2)  \\\n",
       "0              2000                      -17.6                     0.00   \n",
       "1              2000                      -17.6                     0.00   \n",
       "2              2000                      -17.7                     0.00   \n",
       "3              2000                      -17.6                     0.00   \n",
       "4              2000                      -18.6                     0.00   \n",
       "5              2000                      -18.7                     0.00   \n",
       "6              2000                      -19.5                     0.00   \n",
       "7              2000                      -19.3                     0.00   \n",
       "8              2000                      -19.8                     0.01   \n",
       "9              1928                      -22.4                     0.23   \n",
       "\n",
       "   Rainfall(mm)  Snowfall (cm)  Holiday  Functioning Day  Seasons_Autumn  \\\n",
       "0           0.0            0.0        0                1               0   \n",
       "1           0.0            0.0        0                1               0   \n",
       "2           0.0            0.0        0                1               0   \n",
       "3           0.0            0.0        0                1               0   \n",
       "4           0.0            0.0        0                1               0   \n",
       "5           0.0            0.0        0                1               0   \n",
       "6           0.0            0.0        0                1               0   \n",
       "7           0.0            0.0        0                1               0   \n",
       "8           0.0            0.0        0                1               0   \n",
       "9           0.0            0.0        0                1               0   \n",
       "\n",
       "   Seasons_Spring  Seasons_Summer  Seasons_Winter  \n",
       "0               0               0               1  \n",
       "1               0               0               1  \n",
       "2               0               0               1  \n",
       "3               0               0               1  \n",
       "4               0               0               1  \n",
       "5               0               0               1  \n",
       "6               0               0               1  \n",
       "7               0               0               1  \n",
       "8               0               0               1  \n",
       "9               0               0               1  "
      ]
     },
     "execution_count": 92,
     "metadata": {},
     "output_type": "execute_result"
    }
   ],
   "source": [
    "data.head(10)"
   ]
  },
  {
   "cell_type": "code",
   "execution_count": 93,
   "id": "bc804fc4",
   "metadata": {},
   "outputs": [
    {
     "data": {
      "text/plain": [
       "(8760, 16)"
      ]
     },
     "execution_count": 93,
     "metadata": {},
     "output_type": "execute_result"
    }
   ],
   "source": [
    "data.shape"
   ]
  },
  {
   "cell_type": "code",
   "execution_count": 94,
   "id": "8d6bea85",
   "metadata": {},
   "outputs": [
    {
     "name": "stdout",
     "output_type": "stream",
     "text": [
      "<class 'pandas.core.frame.DataFrame'>\n",
      "RangeIndex: 8760 entries, 0 to 8759\n",
      "Data columns (total 16 columns):\n",
      " #   Column                     Non-Null Count  Dtype  \n",
      "---  ------                     --------------  -----  \n",
      " 0   Rented Bike Count          8760 non-null   int64  \n",
      " 1   Hour                       8760 non-null   int64  \n",
      " 2   Temperature(øC)            8760 non-null   float64\n",
      " 3   Humidity(%)                8760 non-null   int64  \n",
      " 4   Wind speed (m/s)           8760 non-null   float64\n",
      " 5   Visibility (10m)           8760 non-null   int64  \n",
      " 6   Dew point temperature(øC)  8760 non-null   float64\n",
      " 7   Solar Radiation (MJ/m2)    8760 non-null   float64\n",
      " 8   Rainfall(mm)               8760 non-null   float64\n",
      " 9   Snowfall (cm)              8760 non-null   float64\n",
      " 10  Holiday                    8760 non-null   int64  \n",
      " 11  Functioning Day            8760 non-null   int64  \n",
      " 12  Seasons_Autumn             8760 non-null   uint8  \n",
      " 13  Seasons_Spring             8760 non-null   uint8  \n",
      " 14  Seasons_Summer             8760 non-null   uint8  \n",
      " 15  Seasons_Winter             8760 non-null   uint8  \n",
      "dtypes: float64(6), int64(6), uint8(4)\n",
      "memory usage: 855.6 KB\n"
     ]
    }
   ],
   "source": [
    "data.info()"
   ]
  },
  {
   "cell_type": "markdown",
   "id": "55eec0e2",
   "metadata": {},
   "source": [
    "#### a. Simple linear model to estimate influence of target variable distribution "
   ]
  },
  {
   "cell_type": "code",
   "execution_count": 95,
   "id": "92896066",
   "metadata": {},
   "outputs": [
    {
     "data": {
      "text/html": [
       "<div>\n",
       "<style scoped>\n",
       "    .dataframe tbody tr th:only-of-type {\n",
       "        vertical-align: middle;\n",
       "    }\n",
       "\n",
       "    .dataframe tbody tr th {\n",
       "        vertical-align: top;\n",
       "    }\n",
       "\n",
       "    .dataframe thead th {\n",
       "        text-align: right;\n",
       "    }\n",
       "</style>\n",
       "<table border=\"1\" class=\"dataframe\">\n",
       "  <thead>\n",
       "    <tr style=\"text-align: right;\">\n",
       "      <th></th>\n",
       "      <th>Hour</th>\n",
       "      <th>Temperature(øC)</th>\n",
       "      <th>Humidity(%)</th>\n",
       "      <th>Wind speed (m/s)</th>\n",
       "      <th>Visibility (10m)</th>\n",
       "      <th>Dew point temperature(øC)</th>\n",
       "      <th>Solar Radiation (MJ/m2)</th>\n",
       "      <th>Rainfall(mm)</th>\n",
       "      <th>Snowfall (cm)</th>\n",
       "      <th>Holiday</th>\n",
       "      <th>Functioning Day</th>\n",
       "      <th>Seasons_Autumn</th>\n",
       "      <th>Seasons_Spring</th>\n",
       "      <th>Seasons_Summer</th>\n",
       "      <th>Seasons_Winter</th>\n",
       "    </tr>\n",
       "  </thead>\n",
       "  <tbody>\n",
       "    <tr>\n",
       "      <th>0</th>\n",
       "      <td>0</td>\n",
       "      <td>-5.2</td>\n",
       "      <td>37</td>\n",
       "      <td>2.2</td>\n",
       "      <td>2000</td>\n",
       "      <td>-17.6</td>\n",
       "      <td>0.0</td>\n",
       "      <td>0.0</td>\n",
       "      <td>0.0</td>\n",
       "      <td>0</td>\n",
       "      <td>1</td>\n",
       "      <td>0</td>\n",
       "      <td>0</td>\n",
       "      <td>0</td>\n",
       "      <td>1</td>\n",
       "    </tr>\n",
       "    <tr>\n",
       "      <th>1</th>\n",
       "      <td>1</td>\n",
       "      <td>-5.5</td>\n",
       "      <td>38</td>\n",
       "      <td>0.8</td>\n",
       "      <td>2000</td>\n",
       "      <td>-17.6</td>\n",
       "      <td>0.0</td>\n",
       "      <td>0.0</td>\n",
       "      <td>0.0</td>\n",
       "      <td>0</td>\n",
       "      <td>1</td>\n",
       "      <td>0</td>\n",
       "      <td>0</td>\n",
       "      <td>0</td>\n",
       "      <td>1</td>\n",
       "    </tr>\n",
       "    <tr>\n",
       "      <th>2</th>\n",
       "      <td>2</td>\n",
       "      <td>-6.0</td>\n",
       "      <td>39</td>\n",
       "      <td>1.0</td>\n",
       "      <td>2000</td>\n",
       "      <td>-17.7</td>\n",
       "      <td>0.0</td>\n",
       "      <td>0.0</td>\n",
       "      <td>0.0</td>\n",
       "      <td>0</td>\n",
       "      <td>1</td>\n",
       "      <td>0</td>\n",
       "      <td>0</td>\n",
       "      <td>0</td>\n",
       "      <td>1</td>\n",
       "    </tr>\n",
       "    <tr>\n",
       "      <th>3</th>\n",
       "      <td>3</td>\n",
       "      <td>-6.2</td>\n",
       "      <td>40</td>\n",
       "      <td>0.9</td>\n",
       "      <td>2000</td>\n",
       "      <td>-17.6</td>\n",
       "      <td>0.0</td>\n",
       "      <td>0.0</td>\n",
       "      <td>0.0</td>\n",
       "      <td>0</td>\n",
       "      <td>1</td>\n",
       "      <td>0</td>\n",
       "      <td>0</td>\n",
       "      <td>0</td>\n",
       "      <td>1</td>\n",
       "    </tr>\n",
       "    <tr>\n",
       "      <th>4</th>\n",
       "      <td>4</td>\n",
       "      <td>-6.0</td>\n",
       "      <td>36</td>\n",
       "      <td>2.3</td>\n",
       "      <td>2000</td>\n",
       "      <td>-18.6</td>\n",
       "      <td>0.0</td>\n",
       "      <td>0.0</td>\n",
       "      <td>0.0</td>\n",
       "      <td>0</td>\n",
       "      <td>1</td>\n",
       "      <td>0</td>\n",
       "      <td>0</td>\n",
       "      <td>0</td>\n",
       "      <td>1</td>\n",
       "    </tr>\n",
       "  </tbody>\n",
       "</table>\n",
       "</div>"
      ],
      "text/plain": [
       "   Hour  Temperature(øC)  Humidity(%)  Wind speed (m/s)  Visibility (10m)  \\\n",
       "0     0             -5.2           37               2.2              2000   \n",
       "1     1             -5.5           38               0.8              2000   \n",
       "2     2             -6.0           39               1.0              2000   \n",
       "3     3             -6.2           40               0.9              2000   \n",
       "4     4             -6.0           36               2.3              2000   \n",
       "\n",
       "   Dew point temperature(øC)  Solar Radiation (MJ/m2)  Rainfall(mm)  \\\n",
       "0                      -17.6                      0.0           0.0   \n",
       "1                      -17.6                      0.0           0.0   \n",
       "2                      -17.7                      0.0           0.0   \n",
       "3                      -17.6                      0.0           0.0   \n",
       "4                      -18.6                      0.0           0.0   \n",
       "\n",
       "   Snowfall (cm)  Holiday  Functioning Day  Seasons_Autumn  Seasons_Spring  \\\n",
       "0            0.0        0                1               0               0   \n",
       "1            0.0        0                1               0               0   \n",
       "2            0.0        0                1               0               0   \n",
       "3            0.0        0                1               0               0   \n",
       "4            0.0        0                1               0               0   \n",
       "\n",
       "   Seasons_Summer  Seasons_Winter  \n",
       "0               0               1  \n",
       "1               0               1  \n",
       "2               0               1  \n",
       "3               0               1  \n",
       "4               0               1  "
      ]
     },
     "execution_count": 95,
     "metadata": {},
     "output_type": "execute_result"
    }
   ],
   "source": [
    "y_col = 'Rented Bike Count'\n",
    "#features = data[x for x in data.columns if x != y_col]\n",
    "X = data.drop('Rented Bike Count', axis = 1)\n",
    "y = data[y_col]\n",
    "X.head()"
   ]
  },
  {
   "cell_type": "code",
   "execution_count": 96,
   "id": "ce94cb8a",
   "metadata": {},
   "outputs": [
    {
     "name": "stdout",
     "output_type": "stream",
     "text": [
      "X shape: (8760, 15)\n",
      "Y shape: (8760,)\n"
     ]
    }
   ],
   "source": [
    "print('X shape:', X.shape)\n",
    "print('Y shape:', y.shape)"
   ]
  },
  {
   "cell_type": "markdown",
   "id": "d0d9ec29",
   "metadata": {},
   "source": [
    "The first model will be with naturally distributed y variable(without sqrt transormation)"
   ]
  },
  {
   "cell_type": "code",
   "execution_count": 97,
   "id": "f63fe9c8",
   "metadata": {},
   "outputs": [
    {
     "name": "stdout",
     "output_type": "stream",
     "text": [
      "r2 score for simple linear regression: 0.5510238892755448\n",
      "MSE for simple linear regression: 194712.95974130285\n"
     ]
    }
   ],
   "source": [
    "X_train, X_test, y_train, y_test = train_test_split(X, y, test_size = 0.3, random_state = 10000)\n",
    "s = StandardScaler()\n",
    "X_train_ss = s.fit_transform(X_train).astype('float')\n",
    "lr = LinearRegression()\n",
    "lr.fit(X_train_ss, y_train)\n",
    "X_test_ss = s.transform(X_test)\n",
    "y_hat = lr.predict(X_test_ss)\n",
    "score_lr = r2_score(y_test, y_hat)\n",
    "MSE_lr = mean_squared_error(y_test, y_hat)\n",
    "print('r2 score for simple linear regression:', score_lr)\n",
    "print('MSE for simple linear regression:', MSE_lr)"
   ]
  },
  {
   "cell_type": "markdown",
   "id": "6667ac72",
   "metadata": {},
   "source": [
    "We have r2_score which equals to 0.55 which is not so high value.\n",
    "Lets check how linear regression performs with more normally distributed target."
   ]
  },
  {
   "cell_type": "code",
   "execution_count": 98,
   "id": "45034da9",
   "metadata": {},
   "outputs": [
    {
     "name": "stdout",
     "output_type": "stream",
     "text": [
      "r2 score for simple linear regression with normally distributed target: 0.5759522323478874\n",
      "MSE for simple linear regression with normally distributed target: 183901.9803926904\n"
     ]
    }
   ],
   "source": [
    "X_train_ss = s.fit_transform(X_train).astype('float')\n",
    "y_train_dist = np.sqrt(y_train)\n",
    "lr = LinearRegression()\n",
    "lr.fit(X_train_ss, y_train_dist)\n",
    "X_test_ss = s.transform(X_test)\n",
    "y_hat_dist = lr.predict(X_test_ss)\n",
    "y_hat = y_hat_dist**2\n",
    "score_lr_dist = r2_score(y_test, y_hat)\n",
    "MSE_lr_dist = mean_squared_error(y_test, y_hat)\n",
    "print('r2 score for simple linear regression with normally distributed target:', score_lr_dist)\n",
    "print('MSE for simple linear regression with normally distributed target:', MSE_lr_dist)"
   ]
  },
  {
   "cell_type": "markdown",
   "id": "355f9462",
   "metadata": {},
   "source": [
    "We have little bit higher r2_score and lower MSE in the second model which proves a statement that normally distributed target variable is essential for linear regression modelling"
   ]
  },
  {
   "cell_type": "markdown",
   "id": "1e9b8a6f",
   "metadata": {},
   "source": [
    "r2 score for training data:"
   ]
  },
  {
   "cell_type": "code",
   "execution_count": 99,
   "id": "48fcb8ca",
   "metadata": {},
   "outputs": [
    {
     "data": {
      "text/plain": [
       "0.6514963160688118"
      ]
     },
     "execution_count": 99,
     "metadata": {},
     "output_type": "execute_result"
    }
   ],
   "source": [
    "r2_score(y_train_dist, lr.predict(X_train_ss))"
   ]
  },
  {
   "cell_type": "markdown",
   "id": "50236c7b",
   "metadata": {},
   "source": [
    "Looking at r2_score it seems that our model is underfitted."
   ]
  },
  {
   "cell_type": "markdown",
   "id": "b231fa5a",
   "metadata": {},
   "source": [
    "Lets check the same but with MinMax Scaler:"
   ]
  },
  {
   "cell_type": "code",
   "execution_count": 100,
   "id": "93e6ba4c",
   "metadata": {},
   "outputs": [
    {
     "name": "stdout",
     "output_type": "stream",
     "text": [
      "r2 score for simple linear regression with normally distributed target and MM scaler: 0.5754339058298745\n",
      "MSE for simple linear regression with normally distributed target and MM scaler: 184126.76939153453\n"
     ]
    }
   ],
   "source": [
    "minmax = MinMaxScaler()\n",
    "X_train_mm = minmax.fit_transform(X_train).astype('float')\n",
    "y_train_dist = np.sqrt(y_train)\n",
    "lr_m = LinearRegression()\n",
    "lr_m.fit(X_train_mm, y_train_dist)\n",
    "X_test_mm = minmax.transform(X_test)\n",
    "y_hat_dist = lr_m.predict(X_test_mm)\n",
    "y_hat = y_hat_dist**2\n",
    "score_lr_mm = r2_score(y_test, y_hat)\n",
    "MSE_lr_mm = mean_squared_error(y_test, y_hat)\n",
    "print('r2 score for simple linear regression with normally distributed target and MM scaler:', score_lr_mm)\n",
    "print('MSE for simple linear regression with normally distributed target and MM scaler:', MSE_lr_mm)"
   ]
  },
  {
   "cell_type": "markdown",
   "id": "52cae09a",
   "metadata": {},
   "source": [
    "Results are very similar to the second modelling with more normal distributed target variable."
   ]
  },
  {
   "cell_type": "markdown",
   "id": "522591ef",
   "metadata": {},
   "source": [
    "#### b. Lasso regression to find the most essential parameters "
   ]
  },
  {
   "cell_type": "markdown",
   "id": "f2ce3db6",
   "metadata": {},
   "source": [
    "Firstly lets check what coefficients we have received from linear regression"
   ]
  },
  {
   "cell_type": "code",
   "execution_count": 101,
   "id": "c815c7b8",
   "metadata": {},
   "outputs": [
    {
     "data": {
      "text/plain": [
       "array([ 3.35543361e+00,  7.75375660e-01, -5.63242144e+00,  1.33404498e-01,\n",
       "        1.38469497e-01,  5.96034927e+00, -6.92895967e-01, -1.63800064e+00,\n",
       "        1.69949361e-01, -5.74065701e-01,  5.06083433e+00, -1.34918996e+14,\n",
       "       -1.33497439e+14, -1.34519012e+14, -1.33259547e+14])"
      ]
     },
     "execution_count": 101,
     "metadata": {},
     "output_type": "execute_result"
    }
   ],
   "source": [
    "lr.coef_"
   ]
  },
  {
   "cell_type": "code",
   "execution_count": 102,
   "id": "654ed944",
   "metadata": {},
   "outputs": [
    {
     "data": {
      "text/html": [
       "<div>\n",
       "<style scoped>\n",
       "    .dataframe tbody tr th:only-of-type {\n",
       "        vertical-align: middle;\n",
       "    }\n",
       "\n",
       "    .dataframe tbody tr th {\n",
       "        vertical-align: top;\n",
       "    }\n",
       "\n",
       "    .dataframe thead th {\n",
       "        text-align: right;\n",
       "    }\n",
       "</style>\n",
       "<table border=\"1\" class=\"dataframe\">\n",
       "  <thead>\n",
       "    <tr style=\"text-align: right;\">\n",
       "      <th></th>\n",
       "      <th>0</th>\n",
       "      <th>1</th>\n",
       "    </tr>\n",
       "  </thead>\n",
       "  <tbody>\n",
       "    <tr>\n",
       "      <th>11</th>\n",
       "      <td>Seasons_Autumn</td>\n",
       "      <td>-1.349190e+14</td>\n",
       "    </tr>\n",
       "    <tr>\n",
       "      <th>13</th>\n",
       "      <td>Seasons_Summer</td>\n",
       "      <td>-1.345190e+14</td>\n",
       "    </tr>\n",
       "    <tr>\n",
       "      <th>12</th>\n",
       "      <td>Seasons_Spring</td>\n",
       "      <td>-1.334974e+14</td>\n",
       "    </tr>\n",
       "    <tr>\n",
       "      <th>14</th>\n",
       "      <td>Seasons_Winter</td>\n",
       "      <td>-1.332595e+14</td>\n",
       "    </tr>\n",
       "    <tr>\n",
       "      <th>2</th>\n",
       "      <td>Humidity(%)</td>\n",
       "      <td>-5.632421e+00</td>\n",
       "    </tr>\n",
       "    <tr>\n",
       "      <th>7</th>\n",
       "      <td>Rainfall(mm)</td>\n",
       "      <td>-1.638001e+00</td>\n",
       "    </tr>\n",
       "    <tr>\n",
       "      <th>6</th>\n",
       "      <td>Solar Radiation (MJ/m2)</td>\n",
       "      <td>-6.928960e-01</td>\n",
       "    </tr>\n",
       "    <tr>\n",
       "      <th>9</th>\n",
       "      <td>Holiday</td>\n",
       "      <td>-5.740657e-01</td>\n",
       "    </tr>\n",
       "    <tr>\n",
       "      <th>3</th>\n",
       "      <td>Wind speed (m/s)</td>\n",
       "      <td>1.334045e-01</td>\n",
       "    </tr>\n",
       "    <tr>\n",
       "      <th>4</th>\n",
       "      <td>Visibility (10m)</td>\n",
       "      <td>1.384695e-01</td>\n",
       "    </tr>\n",
       "    <tr>\n",
       "      <th>8</th>\n",
       "      <td>Snowfall (cm)</td>\n",
       "      <td>1.699494e-01</td>\n",
       "    </tr>\n",
       "    <tr>\n",
       "      <th>1</th>\n",
       "      <td>Temperature(øC)</td>\n",
       "      <td>7.753757e-01</td>\n",
       "    </tr>\n",
       "    <tr>\n",
       "      <th>0</th>\n",
       "      <td>Hour</td>\n",
       "      <td>3.355434e+00</td>\n",
       "    </tr>\n",
       "    <tr>\n",
       "      <th>10</th>\n",
       "      <td>Functioning Day</td>\n",
       "      <td>5.060834e+00</td>\n",
       "    </tr>\n",
       "    <tr>\n",
       "      <th>5</th>\n",
       "      <td>Dew point temperature(øC)</td>\n",
       "      <td>5.960349e+00</td>\n",
       "    </tr>\n",
       "  </tbody>\n",
       "</table>\n",
       "</div>"
      ],
      "text/plain": [
       "                            0             1\n",
       "11             Seasons_Autumn -1.349190e+14\n",
       "13             Seasons_Summer -1.345190e+14\n",
       "12             Seasons_Spring -1.334974e+14\n",
       "14             Seasons_Winter -1.332595e+14\n",
       "2                 Humidity(%) -5.632421e+00\n",
       "7                Rainfall(mm) -1.638001e+00\n",
       "6     Solar Radiation (MJ/m2) -6.928960e-01\n",
       "9                     Holiday -5.740657e-01\n",
       "3            Wind speed (m/s)  1.334045e-01\n",
       "4            Visibility (10m)  1.384695e-01\n",
       "8               Snowfall (cm)  1.699494e-01\n",
       "1             Temperature(øC)  7.753757e-01\n",
       "0                        Hour  3.355434e+00\n",
       "10            Functioning Day  5.060834e+00\n",
       "5   Dew point temperature(øC)  5.960349e+00"
      ]
     },
     "execution_count": 102,
     "metadata": {},
     "output_type": "execute_result"
    }
   ],
   "source": [
    "coef_vals = pd.DataFrame(zip(X.columns.values, lr.coef_))\n",
    "coef_vals.sort_values(by = 1)"
   ]
  },
  {
   "cell_type": "markdown",
   "id": "c35d70f5",
   "metadata": {},
   "source": [
    "We see that we have very large negative coeficients for seasons dummy variables. Lets try Lasso regression to improve results our model."
   ]
  },
  {
   "cell_type": "code",
   "execution_count": 103,
   "id": "6c2462bc",
   "metadata": {},
   "outputs": [
    {
     "name": "stdout",
     "output_type": "stream",
     "text": [
      "for alpha =  0.01  r2score: 0.700222422709035\n",
      "for alpha =  0.1  r2score: 0.6978904530305874\n",
      "for alpha =  1.0  r2score: 0.6690806261618532\n",
      "for alpha =  10.0  r2score: 0.5686289830215827\n"
     ]
    }
   ],
   "source": [
    "kf = KFold(shuffle = True, random_state = 10000, n_splits = 4)\n",
    "alphas = np.geomspace(0.01, 10, 4)\n",
    "scores = []\n",
    "predictions = {}\n",
    "for alpha in alphas:\n",
    "    estimator = Pipeline([('degree', PolynomialFeatures(degree = 2)), \n",
    "                          ('scaler', MinMaxScaler()), ('Regression', Lasso(alpha = alpha, max_iter = 100000))])\n",
    "    prediction = cross_val_predict(estimator, X, y, cv = kf)\n",
    "    predictions[alpha] = prediction\n",
    "    r2_sc = r2_score(y, prediction)\n",
    "    scores.append(r2_sc)\n",
    "    print('for alpha = ', alpha, ' r2score:', r2_sc)"
   ]
  },
  {
   "cell_type": "markdown",
   "id": "5d2be92e",
   "metadata": {},
   "source": [
    "We see that we have increased r2_score with regularization, now we can estimate our parameters"
   ]
  },
  {
   "cell_type": "markdown",
   "id": "31e35bc7",
   "metadata": {},
   "source": [
    "We have maximal r2 score for model with alpha = 0.01   \n",
    "Lets find which parameters have the largest impact on predictions:   \n",
    "We set alpha = 1 to regect high polynomial coefficients to understand our model better."
   ]
  },
  {
   "cell_type": "code",
   "execution_count": 104,
   "id": "a931dd16",
   "metadata": {},
   "outputs": [
    {
     "name": "stdout",
     "output_type": "stream",
     "text": [
      "Coefficients for our lasso regression: [   0.           -0.            0.            0.            0.\n",
      "   -0.            0.           -0.           -0.           -0.\n",
      "   -0.          245.04694172    0.           -0.          395.23720111\n",
      "   -0.           -0.         1528.06637047 -875.81066378    0.\n",
      "   36.87864597    0.            0.           -0.           -0.\n",
      "   -0.          862.94813306    0.          -59.78292227   42.47003292\n",
      " -166.31677955   -0.           -0.            0.            0.\n",
      "    0.         -544.39873634   -0.           -0.           -0.\n",
      "    0.          589.48938102  945.67670117   -0.         -401.00544521\n",
      " -341.36007485    0.           21.66434463   -0.          322.70359169\n",
      "   -0.            0.            0.            0.           -0.\n",
      "   -0.            0.          121.39141518   -0.            0.\n",
      "    0.           -0.           -0.           -0.            0.\n",
      "   18.08594689   -0.           -0.          144.70175402   -0.\n",
      "  -96.04605101    0.           -0.           -0.           -0.\n",
      " -112.83788129  154.84924863    8.6984221     0.           -0.\n",
      "  -65.62745538 -621.49796137   -0.           -0.           -0.\n",
      "    0.            0.            0.           30.71088917   -6.19887421\n",
      "   -0.         -507.265193    -45.90501615   -0.            0.\n",
      "    0.           -0.          145.0287082   -44.76297059   -0.\n",
      "   -0.            0.           -0.         -768.90995304   -0.\n",
      "   -0.           -0.            0.           -0.            0.\n",
      "   -0.           -0.            0.            0.            0.\n",
      "   -0.           -0.           -0.            0.            0.\n",
      "   -0.            4.66924268  153.82269543   -0.          164.26482611\n",
      "   -0.            0.            0.            0.            0.\n",
      "  -66.49906243    0.            0.            4.19422811    0.\n",
      "   -0.        ]\n"
     ]
    }
   ],
   "source": [
    "X_train, X_test, y_train, y_test = train_test_split(X, y, test_size = 0.3, random_state = 10000)\n",
    "best_estimator = Pipeline([('degree', PolynomialFeatures(degree = 2)), \n",
    "                      ('scaler', MinMaxScaler()), ('Regression', Lasso(alpha = 1, max_iter = 100000))])\n",
    "best_estimator.fit(X_train, y_train)\n",
    "y_hat = best_estimator.predict(X_test)\n",
    "score = r2_score(y_test, y_hat)\n",
    "coefs = best_estimator.named_steps[\"Regression\"].coef_\n",
    "print('Coefficients for our lasso regression:', coefs)"
   ]
  },
  {
   "cell_type": "code",
   "execution_count": 105,
   "id": "e676a815",
   "metadata": {},
   "outputs": [
    {
     "name": "stderr",
     "output_type": "stream",
     "text": [
      "C:\\Users\\PNarnov\\Anaconda3\\lib\\site-packages\\sklearn\\utils\\deprecation.py:87: FutureWarning: Function get_feature_names is deprecated; get_feature_names is deprecated in 1.0 and will be removed in 1.2. Please use get_feature_names_out instead.\n",
      "  warnings.warn(msg, category=FutureWarning)\n"
     ]
    },
    {
     "data": {
      "text/plain": [
       "{0: 'Hour',\n",
       " 1: 'Temperature(øC)',\n",
       " 2: 'Humidity(%)',\n",
       " 3: 'Wind speed (m/s)',\n",
       " 4: 'Visibility (10m)',\n",
       " 5: 'Dew point temperature(øC)',\n",
       " 6: 'Solar Radiation (MJ/m2)',\n",
       " 7: 'Rainfall(mm)',\n",
       " 8: 'Snowfall (cm)',\n",
       " 9: 'Holiday',\n",
       " 10: 'Functioning Day',\n",
       " 11: 'Seasons_Autumn',\n",
       " 12: 'Seasons_Spring',\n",
       " 13: 'Seasons_Summer',\n",
       " 14: 'Seasons_Winter'}"
      ]
     },
     "execution_count": 105,
     "metadata": {},
     "output_type": "execute_result"
    }
   ],
   "source": [
    "df_importances = pd.DataFrame(zip(best_estimator.named_steps[\"degree\"].get_feature_names(),\n",
    "                 best_estimator.named_steps[\"Regression\"].coef_,\n",
    "))\n",
    "col_names_dict = dict(zip(list(range(len(X.columns.values))), X.columns.values))\n",
    "col_names_dict"
   ]
  },
  {
   "cell_type": "code",
   "execution_count": 106,
   "id": "59c55000",
   "metadata": {
    "scrolled": false
   },
   "outputs": [
    {
     "data": {
      "text/html": [
       "<div>\n",
       "<style scoped>\n",
       "    .dataframe tbody tr th:only-of-type {\n",
       "        vertical-align: middle;\n",
       "    }\n",
       "\n",
       "    .dataframe tbody tr th {\n",
       "        vertical-align: top;\n",
       "    }\n",
       "\n",
       "    .dataframe thead th {\n",
       "        text-align: right;\n",
       "    }\n",
       "</style>\n",
       "<table border=\"1\" class=\"dataframe\">\n",
       "  <thead>\n",
       "    <tr style=\"text-align: right;\">\n",
       "      <th></th>\n",
       "      <th>0</th>\n",
       "      <th>1</th>\n",
       "    </tr>\n",
       "  </thead>\n",
       "  <tbody>\n",
       "    <tr>\n",
       "      <th>18</th>\n",
       "      <td>x0 x2</td>\n",
       "      <td>-875.810664</td>\n",
       "    </tr>\n",
       "    <tr>\n",
       "      <th>103</th>\n",
       "      <td>x7 x10</td>\n",
       "      <td>-768.909953</td>\n",
       "    </tr>\n",
       "    <tr>\n",
       "      <th>81</th>\n",
       "      <td>x5^2</td>\n",
       "      <td>-621.497961</td>\n",
       "    </tr>\n",
       "    <tr>\n",
       "      <th>36</th>\n",
       "      <td>x1 x6</td>\n",
       "      <td>-544.398736</td>\n",
       "    </tr>\n",
       "    <tr>\n",
       "      <th>91</th>\n",
       "      <td>x6^2</td>\n",
       "      <td>-507.265193</td>\n",
       "    </tr>\n",
       "    <tr>\n",
       "      <th>...</th>\n",
       "      <td>...</td>\n",
       "      <td>...</td>\n",
       "    </tr>\n",
       "    <tr>\n",
       "      <th>14</th>\n",
       "      <td>x13</td>\n",
       "      <td>395.237201</td>\n",
       "    </tr>\n",
       "    <tr>\n",
       "      <th>41</th>\n",
       "      <td>x1 x11</td>\n",
       "      <td>589.489381</td>\n",
       "    </tr>\n",
       "    <tr>\n",
       "      <th>26</th>\n",
       "      <td>x0 x10</td>\n",
       "      <td>862.948133</td>\n",
       "    </tr>\n",
       "    <tr>\n",
       "      <th>42</th>\n",
       "      <td>x1 x12</td>\n",
       "      <td>945.676701</td>\n",
       "    </tr>\n",
       "    <tr>\n",
       "      <th>17</th>\n",
       "      <td>x0 x1</td>\n",
       "      <td>1528.066370</td>\n",
       "    </tr>\n",
       "  </tbody>\n",
       "</table>\n",
       "<p>136 rows × 2 columns</p>\n",
       "</div>"
      ],
      "text/plain": [
       "          0            1\n",
       "18    x0 x2  -875.810664\n",
       "103  x7 x10  -768.909953\n",
       "81     x5^2  -621.497961\n",
       "36    x1 x6  -544.398736\n",
       "91     x6^2  -507.265193\n",
       "..      ...          ...\n",
       "14      x13   395.237201\n",
       "41   x1 x11   589.489381\n",
       "26   x0 x10   862.948133\n",
       "42   x1 x12   945.676701\n",
       "17    x0 x1  1528.066370\n",
       "\n",
       "[136 rows x 2 columns]"
      ]
     },
     "execution_count": 106,
     "metadata": {},
     "output_type": "execute_result"
    }
   ],
   "source": [
    "df_importances.sort_values(by=1)"
   ]
  },
  {
   "cell_type": "markdown",
   "id": "75e6fb71",
   "metadata": {},
   "source": [
    "### Lasso results:"
   ]
  },
  {
   "cell_type": "markdown",
   "id": "e98974c8",
   "metadata": {},
   "source": [
    "We see 5 strogest positive and negative features.   \n",
    "We see strong positive impact of Spring (x12) and Summer (x13) seasons, as well as working hour(x0) with temperature(x1). Warm temperature in spring and Autumn has good influens on bike renting.\n",
    "We see strong negative impact of Working hour (x0) with Humidity (x2) and Rainfall (x7) with Func day(x10)."
   ]
  },
  {
   "cell_type": "markdown",
   "id": "c53534a1",
   "metadata": {},
   "source": [
    "We can start performing Ridge regression via GridSearch CV to get best prediction parameters for our model. "
   ]
  },
  {
   "cell_type": "markdown",
   "id": "13aebb41",
   "metadata": {},
   "source": [
    "#### c. Ridge regression via GridSearch CV "
   ]
  },
  {
   "cell_type": "code",
   "execution_count": 107,
   "id": "9dd82b64",
   "metadata": {},
   "outputs": [
    {
     "name": "stdout",
     "output_type": "stream",
     "text": [
      "Best score: 0.7481608709543879 Best params: {'polynomial_features__degree': 2, 'ridge_regression__alpha': 0.01}\n"
     ]
    }
   ],
   "source": [
    "from sklearn.model_selection import GridSearchCV\n",
    "\n",
    "estimator = Pipeline([(\"scaler\", StandardScaler()),\n",
    "        (\"polynomial_features\", PolynomialFeatures()),\n",
    "        (\"ridge_regression\", Ridge(max_iter = 10000))])\n",
    "\n",
    "params = {\n",
    "    'polynomial_features__degree': [1, 2, 3, 4],\n",
    "    'ridge_regression__alpha': np.geomspace(0.01, 10, 8)\n",
    "}\n",
    "    \n",
    "grid = GridSearchCV(estimator, params, cv = kf)\n",
    "grid.fit(X,np.sqrt(y))\n",
    "\n",
    "print('Best score:', grid.best_score_, 'Best params:', grid.best_params_)"
   ]
  },
  {
   "cell_type": "code",
   "execution_count": 108,
   "id": "ba163d6d",
   "metadata": {},
   "outputs": [
    {
     "data": {
      "text/plain": [
       "0.7212058180854353"
      ]
     },
     "execution_count": 108,
     "metadata": {},
     "output_type": "execute_result"
    }
   ],
   "source": [
    "y_hat = grid.predict(X)\n",
    "r2_score(y, y_hat**2)"
   ]
  },
  {
   "cell_type": "markdown",
   "id": "4fa6c905",
   "metadata": {},
   "source": [
    "We found our best hyperparameters for this model and got about 72% of prediction accuracy."
   ]
  },
  {
   "cell_type": "markdown",
   "id": "7adc6881",
   "metadata": {},
   "source": [
    "### 4. Summary key findings and insights"
   ]
  },
  {
   "cell_type": "markdown",
   "id": "f9cefa08",
   "metadata": {},
   "source": [
    "1. Linear regression modelling proves that normally distributed target variable shows better moddeling results\n",
    "2. I found features which have the strongest coefficients with Lasso regression (see Lasso results).\n",
    "3. I built the predictive model with Ridge regression using Grid Search CV. "
   ]
  },
  {
   "cell_type": "markdown",
   "id": "410f66fd",
   "metadata": {},
   "source": [
    "### Best regards\n",
    "# Pavel Narnov"
   ]
  }
 ],
 "metadata": {
  "celltoolbar": "Необработанный формат ячейки",
  "kernelspec": {
   "display_name": "Python 3 (ipykernel)",
   "language": "python",
   "name": "python3"
  },
  "language_info": {
   "codemirror_mode": {
    "name": "ipython",
    "version": 3
   },
   "file_extension": ".py",
   "mimetype": "text/x-python",
   "name": "python",
   "nbconvert_exporter": "python",
   "pygments_lexer": "ipython3",
   "version": "3.9.12"
  }
 },
 "nbformat": 4,
 "nbformat_minor": 5
}
